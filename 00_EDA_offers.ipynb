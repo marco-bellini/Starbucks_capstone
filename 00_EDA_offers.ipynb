{
  "nbformat": 4,
  "nbformat_minor": 0,
  "metadata": {
    "colab": {
      "name": "01_test.ipynb",
      "version": "0.3.2",
      "provenance": [],
      "collapsed_sections": [],
      "include_colab_link": true
    },
    "kernelspec": {
      "name": "python3",
      "display_name": "Python 3"
    }
  },
  "cells": [
    {
      "cell_type": "markdown",
      "metadata": {
        "id": "view-in-github",
        "colab_type": "text"
      },
      "source": [
        "<a href=\"https://colab.research.google.com/github/marco-bellini/Starbucks_capstone/blob/master/01_EDA_offers.ipynb\" target=\"_parent\"><img src=\"https://colab.research.google.com/assets/colab-badge.svg\" alt=\"Open In Colab\"/></a>"
      ]
    },
    {
      "cell_type": "code",
      "metadata": {
        "id": "cIbIjsku1s-r",
        "colab_type": "code",
        "colab": {
          "base_uri": "https://localhost:8080/",
          "height": 153
        },
        "outputId": "37213338-bc71-4424-a909-c7166716ba1a"
      },
      "source": [
        "!pip install statsmodels==0.10.0rc2 --pre\n",
        "\n",
        "import statsmodels.api as sm"
      ],
      "execution_count": 1,
      "outputs": [
        {
          "output_type": "stream",
          "text": [
            "Requirement already satisfied: statsmodels==0.10.0rc2 in /usr/local/lib/python3.6/dist-packages (0.10.0rc2)\n",
            "Requirement already satisfied: patsy>=0.4.0 in /usr/local/lib/python3.6/dist-packages (from statsmodels==0.10.0rc2) (0.5.1)\n",
            "Requirement already satisfied: pandas>=0.19 in /usr/local/lib/python3.6/dist-packages (from statsmodels==0.10.0rc2) (0.24.2)\n",
            "Requirement already satisfied: scipy>=0.18 in /usr/local/lib/python3.6/dist-packages (from statsmodels==0.10.0rc2) (1.3.0)\n",
            "Requirement already satisfied: numpy>=1.11 in /usr/local/lib/python3.6/dist-packages (from statsmodels==0.10.0rc2) (1.16.4)\n",
            "Requirement already satisfied: six in /usr/local/lib/python3.6/dist-packages (from patsy>=0.4.0->statsmodels==0.10.0rc2) (1.12.0)\n",
            "Requirement already satisfied: pytz>=2011k in /usr/local/lib/python3.6/dist-packages (from pandas>=0.19->statsmodels==0.10.0rc2) (2018.9)\n",
            "Requirement already satisfied: python-dateutil>=2.5.0 in /usr/local/lib/python3.6/dist-packages (from pandas>=0.19->statsmodels==0.10.0rc2) (2.5.3)\n"
          ],
          "name": "stdout"
        }
      ]
    },
    {
      "cell_type": "code",
      "metadata": {
        "id": "k6Ka0WEwhZYA",
        "colab_type": "code",
        "colab": {}
      },
      "source": [
        "from capstone_data_eng import *\n",
        "\n",
        "import seaborn as sns"
      ],
      "execution_count": 0,
      "outputs": []
    },
    {
      "cell_type": "code",
      "metadata": {
        "id": "4P4391ydl0lt",
        "colab_type": "code",
        "colab": {}
      },
      "source": [
        "from google.colab import drive\n",
        "drive.mount('/content/gdrive')"
      ],
      "execution_count": 0,
      "outputs": []
    },
    {
      "cell_type": "code",
      "metadata": {
        "id": "NBc8fosyhyCg",
        "colab_type": "code",
        "colab": {
          "base_uri": "https://localhost:8080/",
          "height": 323
        },
        "outputId": "53e70299-f163-4b73-ad4f-6e781eba5c3d"
      },
      "source": [
        "out, profile_all, portfolio, offers_all, transactions_all, transactions_during_offer, transactions_outside_offer = load_data_cv(\n",
        "        person_split=None, rename_offers=True, time_split_min=None, time_split_max=None,\n",
        "        add_transactions=False, skip_overlap=False, skip_add_purchases=False, calc_net_offer_time=True,\n",
        "        assign_to='ignore', location='colab')"
      ],
      "execution_count": 3,
      "outputs": [
        {
          "output_type": "stream",
          "text": [
            "/content/capstone_data_eng.py:741: FutureWarning: specifying 'categories' or 'ordered' in .astype() is deprecated; pass a CategoricalDtype instead\n",
            "  profile_all = load_profile(location=location)\n"
          ],
          "name": "stderr"
        },
        {
          "output_type": "stream",
          "text": [
            "offer received     76277\n",
            "offer viewed       57725\n",
            "offer completed    33579\n",
            "Name: event, dtype: int64\n",
            "er,ec,ev\n",
            "(76277, 3) (33579, 4) (57725, 3)\n",
            "er  (76277, 6)\n",
            "persons with no offers received in timeframe:  6\n",
            "transactions_during_offer.shape: (122652, 7)\n",
            "(76277, 27)\n",
            "add_stats_by_person:\n",
            "(76277, 38)\n",
            "(76277, 44)\n",
            "(76277, 50)\n",
            "(76277, 51)\n",
            "(76277, 60)\n"
          ],
          "name": "stdout"
        }
      ]
    },
    {
      "cell_type": "code",
      "metadata": {
        "id": "l-Kc2ln7h08_",
        "colab_type": "code",
        "colab": {
          "base_uri": "https://localhost:8080/",
          "height": 272
        },
        "outputId": "d5e7745d-80dd-461c-91b2-b0127ff6b558"
      },
      "source": [
        "out.columns"
      ],
      "execution_count": 6,
      "outputs": [
        {
          "output_type": "execute_result",
          "data": {
            "text/plain": [
              "Index(['person', 'offer', 'offer_received', 'offer_viewed', 'offer_completed',\n",
              "       'reward', 'offer_end', 'difficulty', 'duration', 'offer_type', 'web',\n",
              "       'email', 'mobile', 'social', 'offer_reward', 'duration_hours',\n",
              "       'duration_viewed', 'duration_effective', 'viewed', 'rewarded',\n",
              "       'received', 'comp_not_viewed', 'completed', 'Tpay_offer', 'Npay_offer',\n",
              "       'Maxpay_offer', 'Minpay_offer', 'Netpay_offer', 'Avg_pay_offer', 'age',\n",
              "       'became_member_on', 'gender', 'income', 'joined_year', 'joined_month',\n",
              "       'joined_week', 'gender_num', 'user_time', 'Tpay_out', 'Npay_out',\n",
              "       'p_c_r_ratio', 'p_cnv_r_ratio', 'p_c_v_ratio', 'overlaps',\n",
              "       'Tpay_offers_tot', 'Npay_offers_tot', 'Maxpay_offers_tot',\n",
              "       'Minpay_offers_tot', 'Trewards_tot', 'Nrewards_tot',\n",
              "       'tot_gross_offer_time', 'tot_net_offers_time', 'tot_not_offers_time',\n",
              "       'Avg_pay_offers', 'Net_pay_offers', 'Avg_net_pay_offers',\n",
              "       'Avg_pay_outside', 'Avg_D_O', 'Avg_D_OS', 'Avg_D_nOS'],\n",
              "      dtype='object')"
            ]
          },
          "metadata": {
            "tags": []
          },
          "execution_count": 6
        }
      ]
    },
    {
      "cell_type": "code",
      "metadata": {
        "id": "EWi8_zUJif2J",
        "colab_type": "code",
        "colab": {}
      },
      "source": [
        "c_drop=['person','offer', 'became_member_on',]\n",
        "\n",
        "c_bin=['web', 'email', 'mobile', 'social','viewed', 'rewarded',\n",
        "       'received', 'comp_not_viewed', 'completed']\n",
        "\n",
        "c_num_time=['offer_received', 'offer_viewed', 'offer_completed', 'offer_end']\n",
        "c_num_offer=['reward','difficulty', 'duration', 'offer_reward', 'duration_hours',\n",
        "       'duration_viewed', 'duration_effective', 'overlaps',]\n",
        "c_num_offer_leak=['Tpay_offer', 'Npay_offer','Maxpay_offer', 'Minpay_offer', \n",
        "                  'Netpay_offer', 'Avg_pay_offer', 'income', 'joined_year', 'joined_month',\n",
        "       'joined_week', 'gender_num', 'user_time',  'p_c_r_ratio', 'p_cnv_r_ratio', 'p_c_v_ratio' ]\n",
        "c_num_offers_leak=['Tpay_offers_tot', 'Npay_offers_tot', 'Maxpay_offers_tot',\n",
        "       'Minpay_offers_tot', 'Trewards_tot', 'Nrewards_tot',\n",
        "       'tot_gross_offer_time', 'tot_net_offers_time', 'tot_not_offers_time',\n",
        "       'Avg_pay_offers', 'Net_pay_offers', 'Avg_net_pay_offers',\n",
        "       'Avg_pay_outside', 'Avg_D_O', 'Avg_D_OS', 'Avg_D_nOS']\n",
        "\n",
        "\n",
        "c_cat_offer=['offer_type', ]\n",
        "c_num_person=['age', 'Tpay_out', 'Npay_out', ]\n",
        "c_cat_person=['gender',]\n",
        "\n",
        "\n",
        "\n",
        "c_all=c_drop+c_bin+c_num_time+c_num_offer+c_num_offer_leak+c_num_offers_leak +\\\n",
        "  c_cat_offer+c_num_person+c_cat_person"
      ],
      "execution_count": 0,
      "outputs": []
    },
    {
      "cell_type": "code",
      "metadata": {
        "id": "zwrSCmGDjEGD",
        "colab_type": "code",
        "colab": {
          "base_uri": "https://localhost:8080/",
          "height": 51
        },
        "outputId": "807f38b0-25a5-4888-ac3f-b30f54852146"
      },
      "source": [
        "print('missing columns from out / c_all')\n",
        "print( set(out.columns ) ^ set(c_all) )"
      ],
      "execution_count": 11,
      "outputs": [
        {
          "output_type": "stream",
          "text": [
            "missing columns from out / c_all\n",
            "set()\n"
          ],
          "name": "stdout"
        }
      ]
    },
    {
      "cell_type": "code",
      "metadata": {
        "id": "tyjfjCoEkiWR",
        "colab_type": "code",
        "colab": {}
      },
      "source": [
        "out.loc[out.gender.isna(),'gender']='M'\n",
        "out.loc[out.income.isna(),'income']=out.income.median()\n",
        "out[['offer_viewed', 'offer_completed']]=out[['offer_viewed', 'offer_completed']].fillna(-1)"
      ],
      "execution_count": 0,
      "outputs": []
    },
    {
      "cell_type": "code",
      "metadata": {
        "id": "S3nejZ28kNJa",
        "colab_type": "code",
        "colab": {
          "base_uri": "https://localhost:8080/",
          "height": 34
        },
        "outputId": "be6761c2-5f4e-4191-feb7-5ce034cbe228"
      },
      "source": [
        "print(\"columns with nans\", list( out.columns[out.isna().any()] ))"
      ],
      "execution_count": 19,
      "outputs": [
        {
          "output_type": "stream",
          "text": [
            "columns with nans []\n"
          ],
          "name": "stdout"
        }
      ]
    },
    {
      "cell_type": "code",
      "metadata": {
        "id": "snaMQ4rKKElY",
        "colab_type": "code",
        "colab": {
          "base_uri": "https://localhost:8080/",
          "height": 359
        },
        "outputId": "48ad3adf-1a0c-4ea2-a9e4-657d07d8187d"
      },
      "source": [
        "portfolio"
      ],
      "execution_count": 55,
      "outputs": [
        {
          "output_type": "execute_result",
          "data": {
            "text/html": [
              "<div>\n",
              "<style scoped>\n",
              "    .dataframe tbody tr th:only-of-type {\n",
              "        vertical-align: middle;\n",
              "    }\n",
              "\n",
              "    .dataframe tbody tr th {\n",
              "        vertical-align: top;\n",
              "    }\n",
              "\n",
              "    .dataframe thead th {\n",
              "        text-align: right;\n",
              "    }\n",
              "</style>\n",
              "<table border=\"1\" class=\"dataframe\">\n",
              "  <thead>\n",
              "    <tr style=\"text-align: right;\">\n",
              "      <th></th>\n",
              "      <th>difficulty</th>\n",
              "      <th>duration</th>\n",
              "      <th>offer</th>\n",
              "      <th>offer_type</th>\n",
              "      <th>offer_reward</th>\n",
              "      <th>web</th>\n",
              "      <th>email</th>\n",
              "      <th>mobile</th>\n",
              "      <th>social</th>\n",
              "      <th>duration_hours</th>\n",
              "    </tr>\n",
              "  </thead>\n",
              "  <tbody>\n",
              "    <tr>\n",
              "      <th>0</th>\n",
              "      <td>10</td>\n",
              "      <td>7</td>\n",
              "      <td>h</td>\n",
              "      <td>bogo</td>\n",
              "      <td>10</td>\n",
              "      <td>False</td>\n",
              "      <td>True</td>\n",
              "      <td>True</td>\n",
              "      <td>True</td>\n",
              "      <td>168.0</td>\n",
              "    </tr>\n",
              "    <tr>\n",
              "      <th>1</th>\n",
              "      <td>10</td>\n",
              "      <td>5</td>\n",
              "      <td>e</td>\n",
              "      <td>bogo</td>\n",
              "      <td>10</td>\n",
              "      <td>True</td>\n",
              "      <td>True</td>\n",
              "      <td>True</td>\n",
              "      <td>True</td>\n",
              "      <td>120.0</td>\n",
              "    </tr>\n",
              "    <tr>\n",
              "      <th>2</th>\n",
              "      <td>0</td>\n",
              "      <td>4</td>\n",
              "      <td>d</td>\n",
              "      <td>informational</td>\n",
              "      <td>0</td>\n",
              "      <td>True</td>\n",
              "      <td>True</td>\n",
              "      <td>True</td>\n",
              "      <td>False</td>\n",
              "      <td>96.0</td>\n",
              "    </tr>\n",
              "    <tr>\n",
              "      <th>3</th>\n",
              "      <td>5</td>\n",
              "      <td>7</td>\n",
              "      <td>g</td>\n",
              "      <td>bogo</td>\n",
              "      <td>5</td>\n",
              "      <td>True</td>\n",
              "      <td>True</td>\n",
              "      <td>True</td>\n",
              "      <td>False</td>\n",
              "      <td>168.0</td>\n",
              "    </tr>\n",
              "    <tr>\n",
              "      <th>4</th>\n",
              "      <td>20</td>\n",
              "      <td>10</td>\n",
              "      <td>a</td>\n",
              "      <td>discount</td>\n",
              "      <td>5</td>\n",
              "      <td>True</td>\n",
              "      <td>True</td>\n",
              "      <td>False</td>\n",
              "      <td>False</td>\n",
              "      <td>240.0</td>\n",
              "    </tr>\n",
              "    <tr>\n",
              "      <th>5</th>\n",
              "      <td>7</td>\n",
              "      <td>7</td>\n",
              "      <td>b</td>\n",
              "      <td>discount</td>\n",
              "      <td>3</td>\n",
              "      <td>True</td>\n",
              "      <td>True</td>\n",
              "      <td>True</td>\n",
              "      <td>True</td>\n",
              "      <td>168.0</td>\n",
              "    </tr>\n",
              "    <tr>\n",
              "      <th>6</th>\n",
              "      <td>10</td>\n",
              "      <td>10</td>\n",
              "      <td>j</td>\n",
              "      <td>discount</td>\n",
              "      <td>2</td>\n",
              "      <td>True</td>\n",
              "      <td>True</td>\n",
              "      <td>True</td>\n",
              "      <td>True</td>\n",
              "      <td>240.0</td>\n",
              "    </tr>\n",
              "    <tr>\n",
              "      <th>7</th>\n",
              "      <td>0</td>\n",
              "      <td>3</td>\n",
              "      <td>f</td>\n",
              "      <td>informational</td>\n",
              "      <td>0</td>\n",
              "      <td>False</td>\n",
              "      <td>True</td>\n",
              "      <td>True</td>\n",
              "      <td>True</td>\n",
              "      <td>72.0</td>\n",
              "    </tr>\n",
              "    <tr>\n",
              "      <th>8</th>\n",
              "      <td>5</td>\n",
              "      <td>5</td>\n",
              "      <td>i</td>\n",
              "      <td>bogo</td>\n",
              "      <td>5</td>\n",
              "      <td>True</td>\n",
              "      <td>True</td>\n",
              "      <td>True</td>\n",
              "      <td>True</td>\n",
              "      <td>120.0</td>\n",
              "    </tr>\n",
              "    <tr>\n",
              "      <th>9</th>\n",
              "      <td>10</td>\n",
              "      <td>7</td>\n",
              "      <td>c</td>\n",
              "      <td>discount</td>\n",
              "      <td>2</td>\n",
              "      <td>True</td>\n",
              "      <td>True</td>\n",
              "      <td>True</td>\n",
              "      <td>False</td>\n",
              "      <td>168.0</td>\n",
              "    </tr>\n",
              "  </tbody>\n",
              "</table>\n",
              "</div>"
            ],
            "text/plain": [
              "   difficulty  duration offer  ... mobile  social  duration_hours\n",
              "0          10         7     h  ...   True    True           168.0\n",
              "1          10         5     e  ...   True    True           120.0\n",
              "2           0         4     d  ...   True   False            96.0\n",
              "3           5         7     g  ...   True   False           168.0\n",
              "4          20        10     a  ...  False   False           240.0\n",
              "5           7         7     b  ...   True    True           168.0\n",
              "6          10        10     j  ...   True    True           240.0\n",
              "7           0         3     f  ...   True    True            72.0\n",
              "8           5         5     i  ...   True    True           120.0\n",
              "9          10         7     c  ...   True   False           168.0\n",
              "\n",
              "[10 rows x 10 columns]"
            ]
          },
          "metadata": {
            "tags": []
          },
          "execution_count": 55
        }
      ]
    },
    {
      "cell_type": "code",
      "metadata": {
        "id": "ecEWfpWRkTnB",
        "colab_type": "code",
        "colab": {
          "base_uri": "https://localhost:8080/",
          "height": 296
        },
        "outputId": "b5b66172-bdc5-4a2c-bb69-7518cd57ae7f"
      },
      "source": [
        "o_cmp_ratio=out.groupby(by='offer')['completed'].value_counts(normalize=True)\n",
        "o_cmp=o_cmp_ratio.loc[o_cmp_ratio.index.get_level_values('completed')==True,:]\n",
        "o_cmp=100.*o_cmp.droplevel(level='completed')\n",
        "o_cmp.plot(kind='bar')\n",
        "plt.ylabel('percentage of completed offers')\n"
      ],
      "execution_count": 57,
      "outputs": [
        {
          "output_type": "execute_result",
          "data": {
            "text/plain": [
              "Text(0, 0.5, 'percentage of completed offers')"
            ]
          },
          "metadata": {
            "tags": []
          },
          "execution_count": 57
        },
        {
          "output_type": "display_data",
          "data": {
            "image/png": "[encoded data removed]",
            "text/plain": [
              "<Figure size 432x288 with 1 Axes>"
            ]
          },
          "metadata": {
            "tags": []
          }
        }
      ]
    },
    {
      "cell_type": "code",
      "metadata": {
        "id": "vcvgBO2Alh0t",
        "colab_type": "code",
        "colab": {
          "base_uri": "https://localhost:8080/",
          "height": 333
        },
        "outputId": "623f67fb-84dc-4f30-b799-a0b1dd7b805e"
      },
      "source": [
        "o_cmp_ratio=out.groupby(by='offer_type')['completed'].value_counts(normalize=True)\n",
        "o_cmp=o_cmp_ratio.loc[o_cmp_ratio.index.get_level_values('completed')==True,:]\n",
        "o_cmp=100.*o_cmp.droplevel(level='completed')\n",
        "o_cmp.plot(kind='bar')\n",
        "plt.ylabel('percentage of completed offers')"
      ],
      "execution_count": 59,
      "outputs": [
        {
          "output_type": "execute_result",
          "data": {
            "text/plain": [
              "Text(0, 0.5, 'percentage of completed offers')"
            ]
          },
          "metadata": {
            "tags": []
          },
          "execution_count": 59
        },
        {
          "output_type": "display_data",
          "data": {
            "image/png": "[encoded data removed]",
            "text/plain": [
              "<Figure size 432x288 with 1 Axes>"
            ]
          },
          "metadata": {
            "tags": []
          }
        }
      ]
    },
    {
      "cell_type": "code",
      "metadata": {
        "id": "ej0waQfwl_Aj",
        "colab_type": "code",
        "colab": {
          "base_uri": "https://localhost:8080/",
          "height": 303
        },
        "outputId": "790af4b0-2279-4c7a-f80a-b1bca38c55ef"
      },
      "source": [
        "o_cmp_ratio=out.groupby(by='duration')['completed'].value_counts(normalize=True)\n",
        "o_cmp=o_cmp_ratio.loc[o_cmp_ratio.index.get_level_values('completed')==True,:]\n",
        "o_cmp=100.*o_cmp.droplevel(level='completed')\n",
        "o_cmp.plot(kind='bar')\n",
        "plt.ylabel('percentage of completed offers')"
      ],
      "execution_count": 62,
      "outputs": [
        {
          "output_type": "execute_result",
          "data": {
            "text/plain": [
              "Text(0, 0.5, 'percentage of completed offers')"
            ]
          },
          "metadata": {
            "tags": []
          },
          "execution_count": 62
        },
        {
          "output_type": "display_data",
          "data": {
            "image/png": "[encoded data removed]",
            "text/plain": [
              "<Figure size 432x288 with 1 Axes>"
            ]
          },
          "metadata": {
            "tags": []
          }
        }
      ]
    },
    {
      "cell_type": "code",
      "metadata": {
        "id": "dXGDmwuImJoR",
        "colab_type": "code",
        "colab": {
          "base_uri": "https://localhost:8080/",
          "height": 302
        },
        "outputId": "e0826b72-31cc-4efd-a1a7-e058d3ce1bf2"
      },
      "source": [
        "o_cmp_ratio=out.groupby(by='difficulty')['completed'].value_counts(normalize=True)\n",
        "o_cmp=o_cmp_ratio.loc[o_cmp_ratio.index.get_level_values('completed')==True,:]\n",
        "o_cmp=100.*o_cmp.droplevel(level='completed')\n",
        "o_cmp.plot(kind='bar')\n",
        "plt.ylabel('percentage of completed offers')"
      ],
      "execution_count": 63,
      "outputs": [
        {
          "output_type": "execute_result",
          "data": {
            "text/plain": [
              "Text(0, 0.5, 'percentage of completed offers')"
            ]
          },
          "metadata": {
            "tags": []
          },
          "execution_count": 63
        },
        {
          "output_type": "display_data",
          "data": {
            "image/png": "[encoded data removed]",
            "text/plain": [
              "<Figure size 432x288 with 1 Axes>"
            ]
          },
          "metadata": {
            "tags": []
          }
        }
      ]
    },
    {
      "cell_type": "code",
      "metadata": {
        "id": "f8U11xbEoUd0",
        "colab_type": "code",
        "colab": {
          "base_uri": "https://localhost:8080/",
          "height": 303
        },
        "outputId": "ee17568c-548d-4c84-cd23-5619b312cf24"
      },
      "source": [
        "o_cmp_ratio=out.groupby(by='offer_reward')['completed'].value_counts(normalize=True)\n",
        "o_cmp=o_cmp_ratio.loc[o_cmp_ratio.index.get_level_values('completed')==True,:]\n",
        "o_cmp=100.*o_cmp.droplevel(level='completed')\n",
        "o_cmp.plot(kind='bar')\n",
        "plt.ylabel('percentage of completed offers')"
      ],
      "execution_count": 69,
      "outputs": [
        {
          "output_type": "execute_result",
          "data": {
            "text/plain": [
              "Text(0, 0.5, 'percentage of completed offers')"
            ]
          },
          "metadata": {
            "tags": []
          },
          "execution_count": 69
        },
        {
          "output_type": "display_data",
          "data": {
            "image/png": "[encoded data removed]",
            "text/plain": [
              "<Figure size 432x288 with 1 Axes>"
            ]
          },
          "metadata": {
            "tags": []
          }
        }
      ]
    },
    {
      "cell_type": "code",
      "metadata": {
        "id": "8dCf0p9YoW00",
        "colab_type": "code",
        "colab": {
          "base_uri": "https://localhost:8080/",
          "height": 330
        },
        "outputId": "3a7eab93-9fe8-464d-9360-68b9db20a225"
      },
      "source": [
        "o_cmp_ratio=out.groupby(by=['offer_reward','difficulty'])['completed'].value_counts(normalize=True)\n",
        "o_cmp=o_cmp_ratio.loc[o_cmp_ratio.index.get_level_values('completed')==True,:]\n",
        "o_cmp=100.*o_cmp.droplevel(level='completed')\n",
        "o_cmp.plot(kind='bar')\n",
        "plt.ylabel('percentage of completed offers')\n"
      ],
      "execution_count": 76,
      "outputs": [
        {
          "output_type": "execute_result",
          "data": {
            "text/plain": [
              "Text(0, 0.5, 'percentage of completed offers')"
            ]
          },
          "metadata": {
            "tags": []
          },
          "execution_count": 76
        },
        {
          "output_type": "display_data",
          "data": {
            "image/png": "[encoded data removed]",
            "text/plain": [
              "<Figure size 432x288 with 1 Axes>"
            ]
          },
          "metadata": {
            "tags": []
          }
        }
      ]
    },
    {
      "cell_type": "code",
      "metadata": {
        "id": "AoqqTMhAogQk",
        "colab_type": "code",
        "colab": {
          "base_uri": "https://localhost:8080/",
          "height": 360
        },
        "outputId": "c49fec50-05e4-4101-dfbf-b645bdd4fc9f"
      },
      "source": [
        "o_cmp_ratio=out.groupby(by=['offer_type','duration'])['completed'].value_counts(normalize=True)\n",
        "o_cmp=o_cmp_ratio.loc[o_cmp_ratio.index.get_level_values('completed')==True,:]\n",
        "o_cmp=100.*o_cmp.droplevel(level='completed')\n",
        "o_cmp.plot(kind='bar')\n",
        "plt.ylabel('percentage of completed offers')"
      ],
      "execution_count": 74,
      "outputs": [
        {
          "output_type": "execute_result",
          "data": {
            "text/plain": [
              "Text(0, 0.5, 'percentage of completed offers')"
            ]
          },
          "metadata": {
            "tags": []
          },
          "execution_count": 74
        },
        {
          "output_type": "display_data",
          "data": {
            "image/png": "[encoded data removed]",
            "text/plain": [
              "<Figure size 432x288 with 1 Axes>"
            ]
          },
          "metadata": {
            "tags": []
          }
        }
      ]
    },
    {
      "cell_type": "code",
      "metadata": {
        "id": "K9E-ALVho9ID",
        "colab_type": "code",
        "colab": {
          "base_uri": "https://localhost:8080/",
          "height": 397
        },
        "outputId": "3c000a78-1cef-4ca7-a978-2d4e9557fe9c"
      },
      "source": [
        "o_cmp_ratio=out.groupby(by=['web','mobile','social'])['completed'].value_counts(normalize=True)\n",
        "o_cmp=o_cmp_ratio.loc[o_cmp_ratio.index.get_level_values('completed')==True,:]\n",
        "o_cmp=100.*o_cmp.droplevel(level='completed')\n",
        "o_cmp.plot(kind='bar')\n",
        "plt.ylabel('percentage of completed offers')\n",
        "\n",
        "plt.title('social channel has significant impact')"
      ],
      "execution_count": 78,
      "outputs": [
        {
          "output_type": "execute_result",
          "data": {
            "text/plain": [
              "Text(0.5, 1.0, 'social channel has significant impact')"
            ]
          },
          "metadata": {
            "tags": []
          },
          "execution_count": 78
        },
        {
          "output_type": "display_data",
          "data": {
            "image/png": "[encoded data removed]",
            "text/plain": [
              "<Figure size 432x288 with 1 Axes>"
            ]
          },
          "metadata": {
            "tags": []
          }
        }
      ]
    },
    {
      "cell_type": "code",
      "metadata": {
        "id": "Z7x4tI6IqASQ",
        "colab_type": "code",
        "colab": {
          "base_uri": "https://localhost:8080/",
          "height": 371
        },
        "outputId": "d1b99f2c-4c42-494e-e23b-ab4fb6e4422c"
      },
      "source": [
        "o_cmp_ratio=out.groupby(by=['offer_reward','difficulty','social'])['completed'].value_counts(normalize=True)\n",
        "o_cmp=o_cmp_ratio.loc[o_cmp_ratio.index.get_level_values('completed')==True,:]\n",
        "o_cmp=100.*o_cmp.droplevel(level='completed')\n",
        "o_cmp.plot(kind='bar')\n",
        "plt.ylabel('percentage of completed offers')\n",
        "\n",
        "plt.title('social channel has significant impact')"
      ],
      "execution_count": 79,
      "outputs": [
        {
          "output_type": "execute_result",
          "data": {
            "text/plain": [
              "Text(0.5, 1.0, 'social channel has significant impact')"
            ]
          },
          "metadata": {
            "tags": []
          },
          "execution_count": 79
        },
        {
          "output_type": "display_data",
          "data": {
            "image/png": "[encoded data removed]",
            "text/plain": [
              "<Figure size 432x288 with 1 Axes>"
            ]
          },
          "metadata": {
            "tags": []
          }
        }
      ]
    },
    {
      "cell_type": "code",
      "metadata": {
        "id": "FUQJQwidsAnm",
        "colab_type": "code",
        "colab": {
          "base_uri": "https://localhost:8080/",
          "height": 386
        },
        "outputId": "fea0920c-eb9a-474d-d117-135d06e94270"
      },
      "source": [
        "o_cmp_ratio=out.groupby(by=['offer_reward','difficulty','social'])['completed'].value_counts(normalize=True)\n",
        "o_cmp=o_cmp_ratio.loc[o_cmp_ratio.index.get_level_values('completed')==True,:]\n",
        "o_cmp=100.*o_cmp.droplevel(level='completed').to_frame()\n",
        "o_cmp=o_cmp.stack().reset_index().drop(columns=['level_3']).rename(columns={0:'completed'})\n",
        "o_cmp\n",
        "\n",
        "sns.catplot(x='difficulty',y='completed',hue='offer_reward',col='social',data=o_cmp,kind='bar')"
      ],
      "execution_count": 118,
      "outputs": [
        {
          "output_type": "execute_result",
          "data": {
            "text/plain": [
              "<seaborn.axisgrid.FacetGrid at 0x7f5213265e80>"
            ]
          },
          "metadata": {
            "tags": []
          },
          "execution_count": 118
        },
        {
          "output_type": "display_data",
          "data": {
            "image/png": "[encoded data removed]",
            "text/plain": [
              "<Figure size 791.5x360 with 2 Axes>"
            ]
          },
          "metadata": {
            "tags": []
          }
        }
      ]
    },
    {
      "cell_type": "code",
      "metadata": {
        "id": "FPiD-1sGvjoa",
        "colab_type": "code",
        "colab": {}
      },
      "source": [
        "def cmp_facets(out,var1,var2,var3,col):\n",
        "  o_cmp_ratio=out.groupby(by=[var1,var2,var3])[col].value_counts(normalize=True)\n",
        "  o_cmp=o_cmp_ratio.loc[o_cmp_ratio.index.get_level_values(col)==True,:]\n",
        "  o_cmp=100.*o_cmp.droplevel(level=col).to_frame()\n",
        "  o_cmp=o_cmp.stack().reset_index().drop(columns=['level_3']).rename(columns={0:col})\n",
        "  o_cmp\n",
        "\n",
        "  sns.catplot(x=var1,y=col,hue=var2,col=var3,data=o_cmp,kind='bar')  "
      ],
      "execution_count": 0,
      "outputs": []
    },
    {
      "cell_type": "code",
      "metadata": {
        "id": "5Y2LM0vDv6uc",
        "colab_type": "code",
        "colab": {
          "base_uri": "https://localhost:8080/",
          "height": 542
        },
        "outputId": "31472d38-feb2-472b-a284-ff60881b74b7"
      },
      "source": [
        "o_cmp_ratio=out.groupby(by=['web','mobile','social'])['completed'].value_counts(normalize=True)\n",
        "o_cmp=o_cmp_ratio.loc[o_cmp_ratio.index.get_level_values('completed')==True,:]\n",
        "o_cmp=100.*o_cmp.droplevel(level='completed').to_frame()\n",
        "o_cmp=o_cmp.stack().reset_index().drop(columns=['level_3']).rename(columns={0:'completed'})\n",
        "display(o_cmp)\n",
        "\n",
        "sns.catplot(x='web',y='completed',hue='mobile',col='social',data=o_cmp,kind='bar')  "
      ],
      "execution_count": 126,
      "outputs": [
        {
          "output_type": "display_data",
          "data": {
            "text/html": [
              "<div>\n",
              "<style scoped>\n",
              "    .dataframe tbody tr th:only-of-type {\n",
              "        vertical-align: middle;\n",
              "    }\n",
              "\n",
              "    .dataframe tbody tr th {\n",
              "        vertical-align: top;\n",
              "    }\n",
              "\n",
              "    .dataframe thead th {\n",
              "        text-align: right;\n",
              "    }\n",
              "</style>\n",
              "<table border=\"1\" class=\"dataframe\">\n",
              "  <thead>\n",
              "    <tr style=\"text-align: right;\">\n",
              "      <th></th>\n",
              "      <th>web</th>\n",
              "      <th>mobile</th>\n",
              "      <th>social</th>\n",
              "      <th>completed</th>\n",
              "    </tr>\n",
              "  </thead>\n",
              "  <tbody>\n",
              "    <tr>\n",
              "      <th>0</th>\n",
              "      <td>False</td>\n",
              "      <td>True</td>\n",
              "      <td>True</td>\n",
              "      <td>21.065724</td>\n",
              "    </tr>\n",
              "    <tr>\n",
              "      <th>1</th>\n",
              "      <td>True</td>\n",
              "      <td>False</td>\n",
              "      <td>False</td>\n",
              "      <td>21.035472</td>\n",
              "    </tr>\n",
              "    <tr>\n",
              "      <th>2</th>\n",
              "      <td>True</td>\n",
              "      <td>True</td>\n",
              "      <td>False</td>\n",
              "      <td>23.397016</td>\n",
              "    </tr>\n",
              "    <tr>\n",
              "      <th>3</th>\n",
              "      <td>True</td>\n",
              "      <td>True</td>\n",
              "      <td>True</td>\n",
              "      <td>57.078962</td>\n",
              "    </tr>\n",
              "  </tbody>\n",
              "</table>\n",
              "</div>"
            ],
            "text/plain": [
              "     web  mobile  social  completed\n",
              "0  False    True    True  21.065724\n",
              "1   True   False   False  21.035472\n",
              "2   True    True   False  23.397016\n",
              "3   True    True    True  57.078962"
            ]
          },
          "metadata": {
            "tags": []
          }
        },
        {
          "output_type": "execute_result",
          "data": {
            "text/plain": [
              "<seaborn.axisgrid.FacetGrid at 0x7f5213077c18>"
            ]
          },
          "metadata": {
            "tags": []
          },
          "execution_count": 126
        },
        {
          "output_type": "display_data",
          "data": {
            "image/png": "[encoded data removed]",
            "text/plain": [
              "<Figure size 782.125x360 with 2 Axes>"
            ]
          },
          "metadata": {
            "tags": []
          }
        }
      ]
    },
    {
      "cell_type": "code",
      "metadata": {
        "id": "7jOORfqlqRHz",
        "colab_type": "code",
        "colab": {
          "base_uri": "https://localhost:8080/",
          "height": 369
        },
        "outputId": "69e181d4-0aeb-43b2-d600-987c7da79969"
      },
      "source": [
        "cmp_facets(out,'web','mobile','social','completed')"
      ],
      "execution_count": 121,
      "outputs": [
        {
          "output_type": "display_data",
          "data": {
            "image/png": "[encoded data removed]",
            "text/plain": [
              "<Figure size 782.125x360 with 2 Axes>"
            ]
          },
          "metadata": {
            "tags": []
          }
        }
      ]
    },
    {
      "cell_type": "code",
      "metadata": {
        "id": "yDxL2AL0qZWh",
        "colab_type": "code",
        "colab": {}
      },
      "source": [
        "out['web_social']=out['web'] & out['social']\n",
        "out['dd']=out['difficulty']/out['duration']"
      ],
      "execution_count": 0,
      "outputs": []
    },
    {
      "cell_type": "code",
      "metadata": {
        "id": "8ZUZA3etMHM-",
        "colab_type": "code",
        "colab": {
          "base_uri": "https://localhost:8080/",
          "height": 369
        },
        "outputId": "b412cab7-babb-4167-ca80-812f7db92f76"
      },
      "source": [
        "cmp_facets(out,'dd','offer_type','web_social','completed')\n",
        "\n"
      ],
      "execution_count": 63,
      "outputs": [
        {
          "output_type": "display_data",
          "data": {
            "image/png": "[encoded data removed]",
            "text/plain": [
              "<Figure size 798.625x360 with 2 Axes>"
            ]
          },
          "metadata": {
            "tags": []
          }
        }
      ]
    },
    {
      "cell_type": "code",
      "metadata": {
        "id": "_G82-wynzX6Q",
        "colab_type": "code",
        "colab": {
          "base_uri": "https://localhost:8080/",
          "height": 369
        },
        "outputId": "57f9e54e-ec4a-4245-fe87-ebf13d90ce1a"
      },
      "source": [
        "cmp_facets(out,'offer_reward','difficulty','web_social','completed')"
      ],
      "execution_count": 128,
      "outputs": [
        {
          "output_type": "display_data",
          "data": {
            "image/png": "[encoded data removed]",
            "text/plain": [
              "<Figure size 771.875x360 with 2 Axes>"
            ]
          },
          "metadata": {
            "tags": []
          }
        }
      ]
    },
    {
      "cell_type": "code",
      "metadata": {
        "id": "3Fs3XRVqziWo",
        "colab_type": "code",
        "colab": {
          "base_uri": "https://localhost:8080/",
          "height": 386
        },
        "outputId": "4f5fca44-2dd5-4f47-c5eb-720d0f174b40"
      },
      "source": [
        "cmp_facets(out,'offer_type','duration','web_social','completed');\n"
      ],
      "execution_count": 54,
      "outputs": [
        {
          "output_type": "execute_result",
          "data": {
            "text/plain": [
              "Text(406.69322265625004, 0.5, '% completed')"
            ]
          },
          "metadata": {
            "tags": []
          },
          "execution_count": 54
        },
        {
          "output_type": "display_data",
          "data": {
            "image/png": "[encoded data removed]",
            "text/plain": [
              "<Figure size 770.125x360 with 2 Axes>"
            ]
          },
          "metadata": {
            "tags": []
          }
        }
      ]
    },
    {
      "cell_type": "code",
      "metadata": {
        "id": "kZedOww-zpkF",
        "colab_type": "code",
        "colab": {}
      },
      "source": [
        "\n",
        "\n"
      ],
      "execution_count": 0,
      "outputs": []
    },
    {
      "cell_type": "code",
      "metadata": {
        "id": "8sa_F5Tc0oWH",
        "colab_type": "code",
        "colab": {}
      },
      "source": [
        "o_cmp_ratio=out.groupby(by=['web','mobile','social','web_social','offer_type','duration','difficulty','offer_reward'])['completed'].value_counts(normalize=True)\n",
        "o_cmp=o_cmp_ratio.loc[o_cmp_ratio.index.get_level_values('completed')==True,:]\n",
        "o_cmp=100.*o_cmp.droplevel(level='completed').to_frame()\n",
        "o_cmp=o_cmp.stack().reset_index().drop(columns=['level_8']).rename(columns={0:'completed'})"
      ],
      "execution_count": 0,
      "outputs": []
    },
    {
      "cell_type": "code",
      "metadata": {
        "id": "7UD5v6G72Ajj",
        "colab_type": "code",
        "colab": {}
      },
      "source": [
        "o_cmp['bogo']=o_cmp.offer_type=='bogo'\n",
        "o_cmp[['web','mobile','social','web_social','bogo']]=o_cmp[['web','mobile','social','web_social','bogo']].astype(int)\n"
      ],
      "execution_count": 0,
      "outputs": []
    },
    {
      "cell_type": "code",
      "metadata": {
        "id": "E2GbaxH12Dlz",
        "colab_type": "code",
        "colab": {
          "base_uri": "https://localhost:8080/",
          "height": 297
        },
        "outputId": "86bcdb76-22b1-4f41-8de7-bf5d1a8451d5"
      },
      "source": [
        "o_cmp"
      ],
      "execution_count": 12,
      "outputs": [
        {
          "output_type": "execute_result",
          "data": {
            "text/html": [
              "<div>\n",
              "<style scoped>\n",
              "    .dataframe tbody tr th:only-of-type {\n",
              "        vertical-align: middle;\n",
              "    }\n",
              "\n",
              "    .dataframe tbody tr th {\n",
              "        vertical-align: top;\n",
              "    }\n",
              "\n",
              "    .dataframe thead th {\n",
              "        text-align: right;\n",
              "    }\n",
              "</style>\n",
              "<table border=\"1\" class=\"dataframe\">\n",
              "  <thead>\n",
              "    <tr style=\"text-align: right;\">\n",
              "      <th></th>\n",
              "      <th>web</th>\n",
              "      <th>mobile</th>\n",
              "      <th>social</th>\n",
              "      <th>web_social</th>\n",
              "      <th>offer_type</th>\n",
              "      <th>duration</th>\n",
              "      <th>difficulty</th>\n",
              "      <th>offer_reward</th>\n",
              "      <th>completed</th>\n",
              "      <th>bogo</th>\n",
              "    </tr>\n",
              "  </thead>\n",
              "  <tbody>\n",
              "    <tr>\n",
              "      <th>0</th>\n",
              "      <td>0</td>\n",
              "      <td>1</td>\n",
              "      <td>1</td>\n",
              "      <td>0</td>\n",
              "      <td>bogo</td>\n",
              "      <td>7</td>\n",
              "      <td>10</td>\n",
              "      <td>10</td>\n",
              "      <td>42.021416</td>\n",
              "      <td>1</td>\n",
              "    </tr>\n",
              "    <tr>\n",
              "      <th>1</th>\n",
              "      <td>1</td>\n",
              "      <td>0</td>\n",
              "      <td>0</td>\n",
              "      <td>0</td>\n",
              "      <td>discount</td>\n",
              "      <td>10</td>\n",
              "      <td>20</td>\n",
              "      <td>5</td>\n",
              "      <td>21.035472</td>\n",
              "      <td>0</td>\n",
              "    </tr>\n",
              "    <tr>\n",
              "      <th>2</th>\n",
              "      <td>1</td>\n",
              "      <td>1</td>\n",
              "      <td>0</td>\n",
              "      <td>0</td>\n",
              "      <td>bogo</td>\n",
              "      <td>7</td>\n",
              "      <td>5</td>\n",
              "      <td>5</td>\n",
              "      <td>35.300247</td>\n",
              "      <td>1</td>\n",
              "    </tr>\n",
              "    <tr>\n",
              "      <th>3</th>\n",
              "      <td>1</td>\n",
              "      <td>1</td>\n",
              "      <td>0</td>\n",
              "      <td>0</td>\n",
              "      <td>discount</td>\n",
              "      <td>7</td>\n",
              "      <td>10</td>\n",
              "      <td>2</td>\n",
              "      <td>34.774633</td>\n",
              "      <td>0</td>\n",
              "    </tr>\n",
              "    <tr>\n",
              "      <th>4</th>\n",
              "      <td>1</td>\n",
              "      <td>1</td>\n",
              "      <td>1</td>\n",
              "      <td>1</td>\n",
              "      <td>bogo</td>\n",
              "      <td>5</td>\n",
              "      <td>5</td>\n",
              "      <td>5</td>\n",
              "      <td>53.652094</td>\n",
              "      <td>1</td>\n",
              "    </tr>\n",
              "    <tr>\n",
              "      <th>5</th>\n",
              "      <td>1</td>\n",
              "      <td>1</td>\n",
              "      <td>1</td>\n",
              "      <td>1</td>\n",
              "      <td>bogo</td>\n",
              "      <td>5</td>\n",
              "      <td>10</td>\n",
              "      <td>10</td>\n",
              "      <td>41.643619</td>\n",
              "      <td>1</td>\n",
              "    </tr>\n",
              "    <tr>\n",
              "      <th>6</th>\n",
              "      <td>1</td>\n",
              "      <td>1</td>\n",
              "      <td>1</td>\n",
              "      <td>1</td>\n",
              "      <td>discount</td>\n",
              "      <td>7</td>\n",
              "      <td>7</td>\n",
              "      <td>3</td>\n",
              "      <td>64.818206</td>\n",
              "      <td>0</td>\n",
              "    </tr>\n",
              "    <tr>\n",
              "      <th>7</th>\n",
              "      <td>1</td>\n",
              "      <td>1</td>\n",
              "      <td>1</td>\n",
              "      <td>1</td>\n",
              "      <td>discount</td>\n",
              "      <td>10</td>\n",
              "      <td>10</td>\n",
              "      <td>2</td>\n",
              "      <td>68.132157</td>\n",
              "      <td>0</td>\n",
              "    </tr>\n",
              "  </tbody>\n",
              "</table>\n",
              "</div>"
            ],
            "text/plain": [
              "   web  mobile  social  web_social  ... difficulty  offer_reward  completed  bogo\n",
              "0    0       1       1           0  ...         10            10  42.021416     1\n",
              "1    1       0       0           0  ...         20             5  21.035472     0\n",
              "2    1       1       0           0  ...          5             5  35.300247     1\n",
              "3    1       1       0           0  ...         10             2  34.774633     0\n",
              "4    1       1       1           1  ...          5             5  53.652094     1\n",
              "5    1       1       1           1  ...         10            10  41.643619     1\n",
              "6    1       1       1           1  ...          7             3  64.818206     0\n",
              "7    1       1       1           1  ...         10             2  68.132157     0\n",
              "\n",
              "[8 rows x 10 columns]"
            ]
          },
          "metadata": {
            "tags": []
          },
          "execution_count": 12
        }
      ]
    },
    {
      "cell_type": "code",
      "metadata": {
        "id": "nJ0rvE7E2j96",
        "colab_type": "code",
        "colab": {
          "base_uri": "https://localhost:8080/",
          "height": 51
        },
        "outputId": "e61cd7a4-14d9-4906-e462-b2e271ee8f1f"
      },
      "source": [
        "import statsmodels.api as sm\n",
        "\n",
        "X = sm.add_constant(X)\n",
        "Y=o_cmp[\"completed\"]\n",
        "linear = sm.OLS(endog=Y,exog=X   ).fit()"
      ],
      "execution_count": 27,
      "outputs": [
        {
          "output_type": "stream",
          "text": [
            "/usr/local/lib/python3.6/dist-packages/numpy/core/fromnumeric.py:2389: FutureWarning: Method .ptp is deprecated and will be removed in a future version. Use numpy.ptp instead.\n",
            "  return ptp(axis=axis, out=out, **kwargs)\n"
          ],
          "name": "stderr"
        }
      ]
    },
    {
      "cell_type": "code",
      "metadata": {
        "id": "gKUz3pBb7do0",
        "colab_type": "code",
        "colab": {
          "base_uri": "https://localhost:8080/",
          "height": 51
        },
        "outputId": "06c8f1eb-52d4-4373-dac9-074e298dba65"
      },
      "source": [
        "X=out[['web','mobile','social','web_social','offer_type',\"duration\",\"difficulty\",\"offer_reward\"]].copy()\n",
        "X['bogo']=X['offer_type']=='bogo'\n",
        "X=X.drop(columns=['offer_type'])\n",
        "X[['web','mobile','social','web_social','bogo']]=X[['web','mobile','social','web_social','bogo']].astype(int)\n",
        "X = sm.add_constant(X)\n",
        "Y=out['completed'].astype(int)"
      ],
      "execution_count": 48,
      "outputs": [
        {
          "output_type": "stream",
          "text": [
            "/usr/local/lib/python3.6/dist-packages/numpy/core/fromnumeric.py:2389: FutureWarning: Method .ptp is deprecated and will be removed in a future version. Use numpy.ptp instead.\n",
            "  return ptp(axis=axis, out=out, **kwargs)\n"
          ],
          "name": "stderr"
        }
      ]
    },
    {
      "cell_type": "code",
      "metadata": {
        "id": "Kv7mj_qq7tJq",
        "colab_type": "code",
        "colab": {
          "base_uri": "https://localhost:8080/",
          "height": 238
        },
        "outputId": "85817b90-bd9e-40b1-f40c-3b5cb220bf19"
      },
      "source": [
        "from  statsmodels.discrete.discrete_model import Logit\n",
        "\n",
        "logit = Logit(Y, X)\n",
        "logit.fit().params"
      ],
      "execution_count": 49,
      "outputs": [
        {
          "output_type": "stream",
          "text": [
            "Optimization terminated successfully.\n",
            "         Current function value: 0.535867\n",
            "         Iterations 9\n"
          ],
          "name": "stdout"
        },
        {
          "output_type": "execute_result",
          "data": {
            "text/plain": [
              "const          -5.466669\n",
              "web            -1.412700\n",
              "mobile          2.557929\n",
              "social         -1.413125\n",
              "web_social      2.640845\n",
              "duration        0.339761\n",
              "difficulty      0.132373\n",
              "offer_reward   -0.097698\n",
              "bogo            1.128060\n",
              "dtype: float64"
            ]
          },
          "metadata": {
            "tags": []
          },
          "execution_count": 49
        }
      ]
    },
    {
      "cell_type": "code",
      "metadata": {
        "id": "7_b2qv5M21h1",
        "colab_type": "code",
        "colab": {
          "base_uri": "https://localhost:8080/",
          "height": 102
        },
        "outputId": "7e8442c5-8d01-4f7c-9884-d143072ded1b"
      },
      "source": [
        "from sklearn.linear_model import LogisticRegression\n",
        "\n",
        "model = LogisticRegression(fit_intercept = False, C = 1e9)\n",
        "mdl = model.fit(X, Y)\n",
        "print(model.coef_)\n",
        "print(model.score(X,Y))"
      ],
      "execution_count": 53,
      "outputs": [
        {
          "output_type": "stream",
          "text": [
            "/usr/local/lib/python3.6/dist-packages/sklearn/linear_model/logistic.py:432: FutureWarning: Default solver will be changed to 'lbfgs' in 0.22. Specify a solver to silence this warning.\n",
            "  FutureWarning)\n"
          ],
          "name": "stderr"
        },
        {
          "output_type": "stream",
          "text": [
            "[[-5.46664386 -1.41269695  2.55791845 -1.41311354  2.64083337  0.33975876\n",
            "   0.132373   -0.09769883  1.12805761]]\n",
            "0.658284935170497\n"
          ],
          "name": "stdout"
        }
      ]
    },
    {
      "cell_type": "code",
      "metadata": {
        "id": "RKs6F9vp4fWk",
        "colab_type": "code",
        "colab": {
          "base_uri": "https://localhost:8080/",
          "height": 34
        },
        "outputId": "813bcbfe-5ea7-46cf-d3e5-0fbdfd733b14"
      },
      "source": [
        "from sklearn import linear_model\n",
        "\n",
        "reg = linear_model.LinearRegression()\n",
        "reg.fit(X, Y)\n",
        "print(reg.score(X, Y))\n",
        "\n"
      ],
      "execution_count": 32,
      "outputs": [
        {
          "output_type": "stream",
          "text": [
            "1.0\n"
          ],
          "name": "stdout"
        }
      ]
    },
    {
      "cell_type": "code",
      "metadata": {
        "id": "nn3_kEP24mHM",
        "colab_type": "code",
        "colab": {
          "base_uri": "https://localhost:8080/",
          "height": 102
        },
        "outputId": "1f4c1ad7-3ad7-44ba-87d0-f0721fc4f252"
      },
      "source": [
        "print(reg.coef_)\n",
        "print(X.columns)"
      ],
      "execution_count": 35,
      "outputs": [
        {
          "output_type": "stream",
          "text": [
            "[ 0.          5.62447492  1.37797084 24.35411734 -8.45160103  3.00113566\n",
            " -2.0227875  -0.37890737]\n",
            "Index(['const', 'web', 'mobile', 'social', 'bogo', 'duration', 'difficulty',\n",
            "       'offer_reward'],\n",
            "      dtype='object')\n"
          ],
          "name": "stdout"
        }
      ]
    },
    {
      "cell_type": "code",
      "metadata": {
        "id": "ah7rxMbn6fsS",
        "colab_type": "code",
        "colab": {
          "base_uri": "https://localhost:8080/",
          "height": 279
        },
        "outputId": "95d1667e-a47b-4696-da33-199a2903a0bb"
      },
      "source": [
        "out.groupby(by='offer')['completed'].count().plot(kind='bar')\n",
        "plt.ylabel('number of offers sent');"
      ],
      "execution_count": 74,
      "outputs": [
        {
          "output_type": "display_data",
          "data": {
            "image/png": "[encoded data removed]",
            "text/plain": [
              "<Figure size 432x288 with 1 Axes>"
            ]
          },
          "metadata": {
            "tags": []
          }
        }
      ]
    },
    {
      "cell_type": "code",
      "metadata": {
        "id": "s06y2uPbOLUm",
        "colab_type": "code",
        "colab": {
          "base_uri": "https://localhost:8080/",
          "height": 296
        },
        "outputId": "7e66b854-b570-40a0-8099-e45a37d73d65"
      },
      "source": [
        "out.groupby(by='offer')['Tpay_offer','reward'].sum().plot(kind='bar')\n",
        "plt.ylabel('total $ during each offer');\n",
        "plt.legend(['total purchases','total rewards' ])"
      ],
      "execution_count": 73,
      "outputs": [
        {
          "output_type": "execute_result",
          "data": {
            "text/plain": [
              "<matplotlib.legend.Legend at 0x7fbd56b35128>"
            ]
          },
          "metadata": {
            "tags": []
          },
          "execution_count": 73
        },
        {
          "output_type": "display_data",
          "data": {
            "image/png": "[encoded data removed]",
            "text/plain": [
              "<Figure size 432x288 with 1 Axes>"
            ]
          },
          "metadata": {
            "tags": []
          }
        }
      ]
    },
    {
      "cell_type": "code",
      "metadata": {
        "id": "EX5DL-tSOXI4",
        "colab_type": "code",
        "colab": {}
      },
      "source": [
        "cmp=out.groupby(by='offer')['Tpay_offer','reward'].sum()"
      ],
      "execution_count": 0,
      "outputs": []
    },
    {
      "cell_type": "code",
      "metadata": {
        "id": "zrKuO-JEOsl2",
        "colab_type": "code",
        "colab": {
          "base_uri": "https://localhost:8080/",
          "height": 279
        },
        "outputId": "4096f498-e848-4bb4-9c32-e9eb6538f18b"
      },
      "source": [
        "(cmp['Tpay_offer']/cmp['reward']).plot(kind='bar')\n",
        "plt.ylabel('purchases / rewards ratio');"
      ],
      "execution_count": 82,
      "outputs": [
        {
          "output_type": "display_data",
          "data": {
            "image/png": "[encoded data removed]",
            "text/plain": [
              "<Figure size 432x288 with 1 Axes>"
            ]
          },
          "metadata": {
            "tags": []
          }
        }
      ]
    },
    {
      "cell_type": "code",
      "metadata": {
        "id": "ZiGJby5lP27_",
        "colab_type": "code",
        "colab": {}
      },
      "source": [
        ""
      ],
      "execution_count": 0,
      "outputs": []
    }
  ]
}