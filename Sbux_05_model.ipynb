{
 "cells": [
  {
   "cell_type": "code",
   "execution_count": null,
   "metadata": {
    "colab": {},
    "colab_type": "code",
    "id": "AimxUdZa_ZNW"
   },
   "outputs": [],
   "source": [
    "import numpy as np\n",
    "import pandas as pd\n",
    "import pylab as plt \n",
    "\n",
    "from google.colab import drive\n",
    "import sqlite3\n",
    "import seaborn as sns\n",
    "\n",
    "from scipy.stats import binned_statistic, binned_statistic_2d\n",
    "from scipy.stats import randint as sp_randint , uniform\n",
    "\n",
    "from matplotlib.colors import BoundaryNorm, LogNorm\n",
    "from statsmodels.stats.proportion import proportion_confint\n",
    "\n",
    "from sklearn.feature_selection import VarianceThreshold\n",
    "from sklearn.feature_selection import SelectKBest\n",
    "from sklearn.feature_selection import chi2\n",
    "from sklearn.linear_model import LogisticRegression\n",
    "from sklearn.ensemble import RandomForestClassifier\n",
    "from sklearn.model_selection import cross_val_score\n",
    "from sklearn.model_selection import train_test_split\n",
    "from sklearn.metrics import roc_curve, auc , confusion_matrix\n",
    "from sklearn.model_selection import GridSearchCV,RandomizedSearchCV\n",
    "from sklearn.model_selection import train_test_split\n",
    "\n",
    "from sklearn.metrics import precision_recall_curve, average_precision_score\n",
    "from sklearn.metrics import confusion_matrix, fbeta_score, make_scorer, auc\n",
    "\n",
    "from inspect import signature\n",
    "\n",
    "from sklearn.preprocessing import StandardScaler\n",
    "from sklearn.svm import SVC\n",
    "from sklearn.manifold import TSNE\n",
    "\n",
    "import pickle"
   ]
  },
  {
   "cell_type": "code",
   "execution_count": 67,
   "metadata": {
    "colab": {
     "base_uri": "https://localhost:8080/",
     "height": 34
    },
    "colab_type": "code",
    "executionInfo": {
     "elapsed": 380,
     "status": "ok",
     "timestamp": 1561303054434,
     "user": {
      "displayName": "Marco B.",
      "photoUrl": "https://lh4.googleusercontent.com/-UCwdW0bUFwk/AAAAAAAAAAI/AAAAAAAAIIg/behzAmlzOhc/s64/photo.jpg",
      "userId": "09882507054701017253"
     },
     "user_tz": -120
    },
    "id": "d8Fbzha__dqH",
    "outputId": "e65b1b35-3858-4906-f1ac-2642c7e9f7a7"
   },
   "outputs": [
    {
     "name": "stdout",
     "output_type": "stream",
     "text": [
      "Drive already mounted at /content/gdrive; to attempt to forcibly remount, call drive.mount(\"/content/gdrive\", force_remount=True).\n"
     ]
    }
   ],
   "source": [
    "drive.mount('/content/gdrive')"
   ]
  },
  {
   "cell_type": "code",
   "execution_count": null,
   "metadata": {
    "colab": {},
    "colab_type": "code",
    "id": "yJPi6Bsu_eIV"
   },
   "outputs": [],
   "source": [
    "out=pickle.load(  open( \"/content/gdrive/My Drive/UD/Sbux/data/out.pkl\", \"rb\" ) )"
   ]
  },
  {
   "cell_type": "code",
   "execution_count": null,
   "metadata": {
    "colab": {},
    "colab_type": "code",
    "id": "FCTpLMyj_eLE"
   },
   "outputs": [],
   "source": [
    "out=out.loc[ (out.offer_type !='informational') ]\n",
    "out['overlaps']=out['overlaps'].fillna(0)"
   ]
  },
  {
   "cell_type": "code",
   "execution_count": 6,
   "metadata": {
    "colab": {
     "base_uri": "https://localhost:8080/",
     "height": 272
    },
    "colab_type": "code",
    "executionInfo": {
     "elapsed": 471,
     "status": "ok",
     "timestamp": 1561297426808,
     "user": {
      "displayName": "Marco B.",
      "photoUrl": "https://lh4.googleusercontent.com/-UCwdW0bUFwk/AAAAAAAAAAI/AAAAAAAAIIg/behzAmlzOhc/s64/photo.jpg",
      "userId": "09882507054701017253"
     },
     "user_tz": -120
    },
    "id": "_z7dFjtnk9bF",
    "outputId": "6165f573-3998-4660-83e3-a7b1995689fc"
   },
   "outputs": [
    {
     "data": {
      "text/plain": [
       "Index(['person', 'offer', 'offer_received', 'offer_viewed', 'offer_completed',\n",
       "       'reward', 'offer_end', 'difficulty', 'duration', 'offer_type', 'web',\n",
       "       'email', 'mobile', 'social', 'offer_reward', 'duration_hours',\n",
       "       'duration_viewed', 'duration_effective', 'viewed', 'rewarded',\n",
       "       'received', 'comp_not_viewed', 'completed', 'Tpay_offer', 'Npay_offer',\n",
       "       'Maxpay_offer', 'Minpay_offer', 'Netpay_offer', 'Avg_pay_offer', 'age',\n",
       "       'became_member_on', 'gender', 'income', 'joined_year', 'joined_month',\n",
       "       'joined_week', 'gender_num', 'user_time', 'Tpay_out', 'Npay_out',\n",
       "       'p_c_r_ratio', 'p_cnv_r_ratio', 'overlaps', 'Tpay_offers_tot',\n",
       "       'Npay_offers_tot', 'Maxpay_offers_tot', 'Minpay_offers_tot',\n",
       "       'Trewards_tot', 'Nrewards_tot', 'tot_gross_offer_time',\n",
       "       'tot_net_offers_time', 'tot_not_offers_time', 'Avg_pay_offers',\n",
       "       'Net_pay_offers', 'Avg_net_pay_offers', 'Avg_pay_outside', 'Avg_D_O',\n",
       "       'Avg_D_OS'],\n",
       "      dtype='object')"
      ]
     },
     "metadata": {
      "tags": []
     },
     "output_type": "display_data"
    }
   ],
   "source": [
    "display(out.columns)"
   ]
  },
  {
   "cell_type": "code",
   "execution_count": null,
   "metadata": {
    "colab": {},
    "colab_type": "code",
    "id": "oivZzs5-_eOD"
   },
   "outputs": [],
   "source": [
    "def prepareXY_comp_not_viewed(piv4,drop_person=True):\n",
    "\n",
    "  if drop_person:\n",
    "    col_cat=['offer_type', 'gender'] \n",
    "    col_drop_optional=['offer', 'person']\n",
    "  else:\n",
    "    col_cat=['offer_type', 'gender' ,'person']\n",
    "    col_drop_optional=['offer'] \n",
    "    \n",
    "  col_bin=['web',  'mobile', 'social' ]\n",
    "\n",
    "\n",
    "  col_drop=[ 'joined_year', 'joined_month', 'joined_week', 'gender_num',\n",
    "            'became_member_on', 'email','received']\n",
    "\n",
    "  col_drop_leak=[ 'offer_viewed','offer_completed', 'reward','Avg_pay_offer','Avg_pay_offers','Npay_offer','Tpay_offer',\n",
    "                 'Maxpay_offer', 'Minpay_offer', 'Netpay_offer','duration_viewed', 'Maxpay_offers_tot', 'Minpay_offers_tot',\n",
    "                 'Trewards_tot', 'Nrewards_tot','Avg_net_pay_offers','Net_pay_offers',\n",
    "            'duration_effective', 'viewed','rewarded', 'comp_not_viewed'\t, 'completed', 'Avg_D_O','Avg_D_OS','p_cnv_r_ratio','p_c_r_ratio',\n",
    "                 'Tpay_offers_tot','Npay_offers_tot', 'tot_gross_offer_time','tot_net_offers_time','tot_not_offers_time' ,'overlaps' ]\n",
    "  col_drop_do_not_affect=['difficulty','duration','offer_end']\n",
    "\n",
    "\n",
    "  \n",
    "  # Y_col=['viewed', 'rewarded', 'comp_not_viewed',  'completed']\n",
    "  Y_col=piv4['comp_not_viewed'].astype(int)\n",
    "  drop_all=col_drop+col_drop_optional+col_drop_leak+col_drop_do_not_affect\n",
    "  \n",
    "  piv5=(piv4.copy()).drop(columns=drop_all)\n",
    "  \n",
    "  # imputing missing values\n",
    "  piv5.loc[piv5['income'].isnull(),'income']=piv5['income'].mean(skipna=True)\n",
    "  piv5[col_bin]=piv5[col_bin].astype(int)\n",
    "    \n",
    "  X_onehot=pd.get_dummies(piv4[col_cat])\n",
    "  col_oneh=X_onehot.columns\n",
    "  \n",
    "  col_numbin=list(set(piv5.columns)-set(col_cat))\n",
    "  \n",
    "  X=pd.concat((piv5[col_numbin],X_onehot),axis=1)\n",
    "  \n",
    "  return(X,Y_col)\n",
    "\n",
    "def apply_scaling(X,scaler,col_scale):\n",
    "  X_scaled=scaler.transform(X[col_scale])\n",
    "  X_scaled=pd.DataFrame(X_scaled,columns=col_scale,index=X.index)\n",
    "  \n",
    "  other_cols=set(X.columns)-set(col_scale)\n",
    "  X2=pd.concat((X_scaled,X[other_cols]),axis=1)\n",
    "  return(X2)"
   ]
  },
  {
   "cell_type": "code",
   "execution_count": null,
   "metadata": {
    "colab": {},
    "colab_type": "code",
    "id": "o6SGFmCmwSIr"
   },
   "outputs": [],
   "source": [
    "def prepareXY_cluster(piv4,drop_person=True):\n",
    "\n",
    "  if drop_person:\n",
    "    col_cat=['offer_type', 'gender'] \n",
    "    col_drop_optional=['offer', 'person']\n",
    "  else:\n",
    "    col_cat=['offer_type', 'gender' ,'person']\n",
    "    col_drop_optional=['offer'] \n",
    "    \n",
    "  col_bin=['web',  'mobile', 'social' ]\n",
    "\n",
    "\n",
    "  col_drop=[ 'joined_year', 'joined_month', 'joined_week', 'gender_num',\n",
    "            'became_member_on', 'email','received']\n",
    "\n",
    "  col_drop_leak=[ 'offer_viewed','offer_completed', 'reward','Avg_pay_offer','Avg_pay_offers','Npay_offer','Tpay_offer','duration_viewed',\n",
    "            'duration_effective', 'viewed','rewarded', 'comp_not_viewed'\t, 'completed', 'Avg_D_O','Avg_D_OS','p_cnv_r_ratio','p_c_r_ratio',\n",
    "                 'Tpay_offers_tot','Npay_offers_tot', 'tot_gross_offer_time','tot_net_offers_time','tot_not_offers_time' ,'overlaps' ]\n",
    "  col_drop_do_not_affect=['difficulty','duration','offer_end']\n",
    "\n",
    "\n",
    "  \n",
    "  # Y_col=['viewed', 'rewarded', 'comp_not_viewed',  'completed']\n",
    "#   Y_col=piv4['comp_not_viewed'].astype(int)\n",
    "  drop_all=col_drop_optional+col_drop\n",
    "  piv5=(piv4.copy()).drop(columns=drop_all)\n",
    "  \n",
    "  # imputing missing values\n",
    "  piv5.loc[piv5['income'].isnull(),'income']=piv5['income'].mean(skipna=True)\n",
    "  piv5[col_bin]=piv5[col_bin].astype(int)\n",
    "    \n",
    "  X_onehot=pd.get_dummies(piv4[col_cat])\n",
    "  col_oneh=X_onehot.columns\n",
    "  \n",
    "  col_numbin=list(set(piv5.columns)-set(col_cat))\n",
    "  \n",
    "  X=pd.concat((piv5[col_numbin],X_onehot),axis=1)\n",
    "  \n",
    "  return(X)\n"
   ]
  },
  {
   "cell_type": "code",
   "execution_count": null,
   "metadata": {
    "colab": {},
    "colab_type": "code",
    "id": "CsFu4EJ__eRV"
   },
   "outputs": [],
   "source": [
    "X,y =  prepareXY_comp_not_viewed(out,drop_person=True)\n",
    "X_train, X_test, y_train, y_test = train_test_split( X, y, test_size=0.3, random_state=0)\n",
    "\n",
    "col_scale=['Tpay_out', 'income',  'offer_received', 'Npay_out', 'user_time', 'Avg_pay_outside', 'age']\n",
    "scaler=StandardScaler()\n",
    "scaler.fit(X_train[col_scale])\n",
    "\n",
    "\n",
    "X2_train=apply_scaling(X_train,scaler,col_scale)\n",
    "X2_test=apply_scaling(X_test,scaler,col_scale)\n"
   ]
  },
  {
   "cell_type": "code",
   "execution_count": null,
   "metadata": {
    "colab": {},
    "colab_type": "code",
    "id": "NBrde1YKnfmL"
   },
   "outputs": [],
   "source": []
  },
  {
   "cell_type": "code",
   "execution_count": null,
   "metadata": {
    "colab": {},
    "colab_type": "code",
    "id": "PLKZa4idf_vL"
   },
   "outputs": [],
   "source": [
    "def cm_score(y_test,y_pred,c_fn,c_fp):\n",
    "  \n",
    "  cm=confusion_matrix(y_test, y_pred)\n",
    "  tn, fp, fn, tp =cm.ravel()\n",
    "  score=-c_fn*fn - c_fp*fp\n",
    "  return(score)\n",
    "\n",
    "def cm_score_manual(y_test,y_pred,reward=None,loss_of_revenue_per_hour=None,duration=None):\n",
    "  # custom scorer that calculates the economic cost of each false positive and negative basend\n",
    "  # on the specific characteristics of the offer\n",
    "  \n",
    "  ind=y_test.index\n",
    "  \n",
    "  fn = ((y_test==True)  & (y_pred==False)).astype(int)\n",
    "  fp = ((y_test==False) & (y_pred==True )).astype(int)\n",
    "  \n",
    "  fn=fn.astype(int)\n",
    "  fp=fp.astype(int)\n",
    "   \n",
    "  cost_fn=-reward.loc[ind].values\n",
    "  cost_fp=-loss_of_revenue_per_hour* duration.loc[ind]\n",
    "  \n",
    "  \n",
    "  score= np.sum(cost_fn*fn) + np.sum( cost_fp*fp )\n",
    "  \n",
    "  return(score)\n"
   ]
  },
  {
   "cell_type": "code",
   "execution_count": null,
   "metadata": {
    "colab": {},
    "colab_type": "code",
    "id": "o5XNZkEARvBr"
   },
   "outputs": [],
   "source": []
  },
  {
   "cell_type": "code",
   "execution_count": null,
   "metadata": {
    "colab": {},
    "colab_type": "code",
    "id": "r-bcW7F-gKIN"
   },
   "outputs": [],
   "source": [
    "# scoring_cm_std = make_scorer(cm_score, c_fn=100, c_fp=2, greater_is_better=True)\n",
    "scoring_cm_manual = make_scorer(cm_score_manual, reward=X_train['offer_reward'],loss_of_revenue_per_hour= 0.12,duration=X_train['duration_hours'] , greater_is_better=True)\n"
   ]
  },
  {
   "cell_type": "code",
   "execution_count": 183,
   "metadata": {
    "colab": {
     "base_uri": "https://localhost:8080/",
     "height": 799
    },
    "colab_type": "code",
    "executionInfo": {
     "elapsed": 182743,
     "status": "ok",
     "timestamp": 1561308786225,
     "user": {
      "displayName": "Marco B.",
      "photoUrl": "https://lh4.googleusercontent.com/-UCwdW0bUFwk/AAAAAAAAAAI/AAAAAAAAIIg/behzAmlzOhc/s64/photo.jpg",
      "userId": "09882507054701017253"
     },
     "user_tz": -120
    },
    "id": "uT--jZ2vBCEV",
    "outputId": "42936bbf-fea6-4fe5-da29-28696a19f6fa"
   },
   "outputs": [
    {
     "data": {
      "text/plain": [
       "RandomizedSearchCV(cv=5, error_score='raise-deprecating',\n",
       "                   estimator=RandomForestClassifier(bootstrap=20,\n",
       "                                                    class_weight='balanced',\n",
       "                                                    criterion='entropy',\n",
       "                                                    max_depth=None,\n",
       "                                                    max_features='auto',\n",
       "                                                    max_leaf_nodes=None,\n",
       "                                                    min_impurity_decrease=0.0,\n",
       "                                                    min_impurity_split=None,\n",
       "                                                    min_samples_leaf=1,\n",
       "                                                    min_samples_split=2,\n",
       "                                                    min_weight_fraction_leaf=0.0,\n",
       "                                                    n_estimators='warn',\n",
       "                                                    n_jobs=None...\n",
       "38984    120.0\n",
       "27469    240.0\n",
       "16921    168.0\n",
       "66662    168.0\n",
       "35665    120.0\n",
       "24152    240.0\n",
       "51374    168.0\n",
       "43095    120.0\n",
       "18983    168.0\n",
       "32230    120.0\n",
       "17089    168.0\n",
       "14650    240.0\n",
       "52620    168.0\n",
       "39512    120.0\n",
       "48600    168.0\n",
       "15430    168.0\n",
       "14935    240.0\n",
       "46884    168.0\n",
       "62643    168.0\n",
       "20757    168.0\n",
       "64660    168.0\n",
       "41993    120.0\n",
       "32103    120.0\n",
       "30403    240.0\n",
       "21243    168.0\n",
       "45891    168.0\n",
       "52416    168.0\n",
       "42613    120.0\n",
       "43567    120.0\n",
       "2732     168.0\n",
       "Name: duration_hours, Length: 42729, dtype: float64),\n",
       "                   verbose=0)"
      ]
     },
     "execution_count": 183,
     "metadata": {
      "tags": []
     },
     "output_type": "execute_result"
    }
   ],
   "source": [
    "\n",
    "\n",
    "# specify parameters and distributions to sample from\n",
    "param_dist = {\n",
    "              \"n_estimators\": sp_randint(1, 40),\n",
    "              \"max_depth\": [3, None],\n",
    "              \"max_features\": sp_randint(1, 15),\n",
    "              #\"max_features\": uniform(0.1, 1.),\n",
    "              #\"max_features\": [\"auto\",\"log2\"],\n",
    "              \"min_samples_split\": sp_randint(2, 20),\n",
    "            }\n",
    "\n",
    "# run randomized search\n",
    "n_iter_search = 20\n",
    "clf = RandomForestClassifier( bootstrap=20, criterion=\"entropy\",class_weight=\"balanced\")\n",
    "#random_search = RandomizedSearchCV(clf,scoring='average_precision', param_distributions=param_dist,  cv=5, iid=False)\n",
    "random_search = RandomizedSearchCV(clf,scoring=scoring_cm_manual, param_distributions=param_dist,  cv=5, iid=False, n_iter=30)\n",
    "\n",
    "\n",
    "\n",
    "random_search.fit(X2_train, y_train)"
   ]
  },
  {
   "cell_type": "code",
   "execution_count": 184,
   "metadata": {
    "colab": {
     "base_uri": "https://localhost:8080/",
     "height": 119
    },
    "colab_type": "code",
    "executionInfo": {
     "elapsed": 451,
     "status": "ok",
     "timestamp": 1561308876085,
     "user": {
      "displayName": "Marco B.",
      "photoUrl": "https://lh4.googleusercontent.com/-UCwdW0bUFwk/AAAAAAAAAAI/AAAAAAAAIIg/behzAmlzOhc/s64/photo.jpg",
      "userId": "09882507054701017253"
     },
     "user_tz": -120
    },
    "id": "Dug97PuKCIgj",
    "outputId": "422d669a-2499-4e8e-c02f-b7e476ecef31"
   },
   "outputs": [
    {
     "data": {
      "text/plain": [
       "array([-50880.792, -51020.48 , -50825.912, -54521.296, -18020.848,\n",
       "       -51967.816, -53147.136, -17784.824, -13774.04 , -13280.584,\n",
       "       -51374.624, -51242.064, -50836.68 , -17420.984, -13950.224,\n",
       "       -17189.376, -50854.136, -14627.712, -13461.832, -51249.952,\n",
       "       -13795.896, -11108.992, -14941.912,  -9346.8  , -16819.   ,\n",
       "       -53105.752, -50842.04 ,  -6371.08 , -12999.8  , -50840.44 ])"
      ]
     },
     "metadata": {
      "tags": []
     },
     "output_type": "display_data"
    }
   ],
   "source": [
    "sorted(random_search.cv_results_.keys())\n",
    "display(random_search.cv_results_['mean_test_score'])\n",
    "clf=random_search.best_estimator_"
   ]
  },
  {
   "cell_type": "code",
   "execution_count": 185,
   "metadata": {
    "colab": {
     "base_uri": "https://localhost:8080/",
     "height": 300
    },
    "colab_type": "code",
    "executionInfo": {
     "elapsed": 739,
     "status": "ok",
     "timestamp": 1561308877997,
     "user": {
      "displayName": "Marco B.",
      "photoUrl": "https://lh4.googleusercontent.com/-UCwdW0bUFwk/AAAAAAAAAAI/AAAAAAAAIIg/behzAmlzOhc/s64/photo.jpg",
      "userId": "09882507054701017253"
     },
     "user_tz": -120
    },
    "id": "MQkiKig0q03o",
    "outputId": "a40ad694-314f-4e56-d870-3115e3c8cb59"
   },
   "outputs": [
    {
     "data": {
      "text/plain": [
       "Text(0, 0.5, '$ cost of misclassification')"
      ]
     },
     "execution_count": 185,
     "metadata": {
      "tags": []
     },
     "output_type": "execute_result"
    },
    {
     "data": {
      "image/png": "[encoded data removed]",
      "text/plain": [
       "<Figure size 432x288 with 1 Axes>"
      ]
     },
     "metadata": {
      "tags": []
     },
     "output_type": "display_data"
    }
   ],
   "source": [
    "plt.plot(-random_search.cv_results_['mean_test_score'])\n",
    "plt.plot(4,-random_search.cv_results_['mean_test_score'][4],'ro')\n",
    "plt.xlabel('parameter search')\n",
    "plt.ylabel('$ cost of misclassification')\n",
    "\n"
   ]
  },
  {
   "cell_type": "code",
   "execution_count": 194,
   "metadata": {
    "colab": {
     "base_uri": "https://localhost:8080/",
     "height": 295
    },
    "colab_type": "code",
    "executionInfo": {
     "elapsed": 4434,
     "status": "ok",
     "timestamp": 1561309110835,
     "user": {
      "displayName": "Marco B.",
      "photoUrl": "https://lh4.googleusercontent.com/-UCwdW0bUFwk/AAAAAAAAAAI/AAAAAAAAIIg/behzAmlzOhc/s64/photo.jpg",
      "userId": "09882507054701017253"
     },
     "user_tz": -120
    },
    "id": "9-3EKb8VCuNx",
    "outputId": "a3d0a62e-de1a-4228-b10b-2f72b3dd8673"
   },
   "outputs": [
    {
     "data": {
      "image/png": "[encoded data removed]",
      "text/plain": [
       "<Figure size 432x288 with 1 Axes>"
      ]
     },
     "metadata": {
      "tags": []
     },
     "output_type": "display_data"
    }
   ],
   "source": [
    "clf.fit(X2_train,y_train)\n",
    "probas_ = clf.predict_proba(X2_test)\n",
    "fpr, tpr, thresholds = roc_curve(y_test, probas_[:, 1])\n",
    "\n",
    "roc_auc = auc(fpr, tpr)\n",
    "plt.plot(fpr, tpr, lw=1, alpha=1, label='ROC RF(AUC = %0.2f)' % (roc_auc));\n",
    "plt.plot([0, 1], [0, 1], linestyle='--', lw=2, color='r',\n",
    "         label='Chance', alpha=.8)\n",
    "plt.xlim([-0.05, 1.05])\n",
    "plt.ylim([-0.05, 1.05])\n",
    "plt.xlabel('False Positive Rate')\n",
    "plt.ylabel('True Positive Rate')\n",
    "plt.title('ROC: RF, custom scorer')\n",
    "plt.legend(loc=\"lower right\");\n",
    "plt.axis('square');"
   ]
  },
  {
   "cell_type": "code",
   "execution_count": 199,
   "metadata": {
    "colab": {
     "base_uri": "https://localhost:8080/",
     "height": 34
    },
    "colab_type": "code",
    "executionInfo": {
     "elapsed": 494,
     "status": "ok",
     "timestamp": 1561309278372,
     "user": {
      "displayName": "Marco B.",
      "photoUrl": "https://lh4.googleusercontent.com/-UCwdW0bUFwk/AAAAAAAAAAI/AAAAAAAAIIg/behzAmlzOhc/s64/photo.jpg",
      "userId": "09882507054701017253"
     },
     "user_tz": -120
    },
    "id": "qpE2r-NnQ9QO",
    "outputId": "adb4d10b-18c4-41eb-b103-aa588b3922b7"
   },
   "outputs": [
    {
     "name": "stdout",
     "output_type": "stream",
     "text": [
      "-10190.136\n"
     ]
    }
   ],
   "source": [
    "score_do_nothing=cm_score_manual(y_test,clf.predict(X2_test), reward=X_test['offer_reward'],loss_of_revenue_per_hour= 0.12,duration=0.6*X_test['duration_hours'])\n",
    "print(score_do_nothing)"
   ]
  },
  {
   "cell_type": "code",
   "execution_count": 197,
   "metadata": {
    "colab": {
     "base_uri": "https://localhost:8080/",
     "height": 85
    },
    "colab_type": "code",
    "executionInfo": {
     "elapsed": 537,
     "status": "ok",
     "timestamp": 1561309221852,
     "user": {
      "displayName": "Marco B.",
      "photoUrl": "https://lh4.googleusercontent.com/-UCwdW0bUFwk/AAAAAAAAAAI/AAAAAAAAIIg/behzAmlzOhc/s64/photo.jpg",
      "userId": "09882507054701017253"
     },
     "user_tz": -120
    },
    "id": "doJnxi7kR084",
    "outputId": "614d4250-a60a-4467-b542-3c7d0c3453ca"
   },
   "outputs": [
    {
     "data": {
      "text/plain": [
       "array([[16394,   249],\n",
       "       [ 1433,   237]])"
      ]
     },
     "metadata": {
      "tags": []
     },
     "output_type": "display_data"
    },
    {
     "data": {
      "text/plain": [
       "array([[16643,     0],\n",
       "       [ 1670,     0]])"
      ]
     },
     "metadata": {
      "tags": []
     },
     "output_type": "display_data"
    }
   ],
   "source": [
    "display(confusion_matrix(y_test, clf.predict(X2_test)))\n",
    "display(confusion_matrix(y_test, 0*y_test))\n"
   ]
  },
  {
   "cell_type": "code",
   "execution_count": 177,
   "metadata": {
    "colab": {
     "base_uri": "https://localhost:8080/",
     "height": 312
    },
    "colab_type": "code",
    "executionInfo": {
     "elapsed": 720,
     "status": "ok",
     "timestamp": 1561308479956,
     "user": {
      "displayName": "Marco B.",
      "photoUrl": "https://lh4.googleusercontent.com/-UCwdW0bUFwk/AAAAAAAAAAI/AAAAAAAAIIg/behzAmlzOhc/s64/photo.jpg",
      "userId": "09882507054701017253"
     },
     "user_tz": -120
    },
    "id": "BD3Wx5SA_5zv",
    "outputId": "5ab27576-ad15-4b46-e93d-0192430faa02"
   },
   "outputs": [
    {
     "data": {
      "text/plain": [
       "Text(0.5, 1.0, '2-class Precision-Recall curve: AP=0.10')"
      ]
     },
     "execution_count": 177,
     "metadata": {
      "tags": []
     },
     "output_type": "execute_result"
    },
    {
     "data": {
      "image/png": "[encoded data removed]",
      "text/plain": [
       "<Figure size 432x288 with 1 Axes>"
      ]
     },
     "metadata": {
      "tags": []
     },
     "output_type": "display_data"
    }
   ],
   "source": [
    "\n",
    "\n",
    "#y_score = clf.decision_function(X_test)\n",
    "# y_score = clf.predict(X_test)\n",
    "y_score = clf.predict_proba(X_test)[:,1]\n",
    "\n",
    "average_precision = average_precision_score(y_test, y_score)\n",
    "\n",
    "precision, recall, _ = precision_recall_curve(y_test, y_score)\n",
    "\n",
    "# In matplotlib < 1.5, plt.fill_between does not have a 'step' argument\n",
    "step_kwargs = ({'step': 'post'}\n",
    "               if 'step' in signature(plt.fill_between).parameters\n",
    "               else {})\n",
    "plt.step(recall, precision, color='b', alpha=0.2,\n",
    "         where='post')\n",
    "plt.fill_between(recall, precision, alpha=0.2, color='b', **step_kwargs)\n",
    "\n",
    "plt.xlabel('Recall')\n",
    "plt.ylabel('Precision')\n",
    "plt.ylim([0.0, 1.05])\n",
    "plt.xlim([0.0, 1.0])\n",
    "plt.title('2-class Precision-Recall curve: AP={0:0.2f}'.format(\n",
    "          average_precision))"
   ]
  },
  {
   "cell_type": "code",
   "execution_count": 178,
   "metadata": {
    "colab": {
     "base_uri": "https://localhost:8080/",
     "height": 370
    },
    "colab_type": "code",
    "executionInfo": {
     "elapsed": 741,
     "status": "ok",
     "timestamp": 1561308487520,
     "user": {
      "displayName": "Marco B.",
      "photoUrl": "https://lh4.googleusercontent.com/-UCwdW0bUFwk/AAAAAAAAAAI/AAAAAAAAIIg/behzAmlzOhc/s64/photo.jpg",
      "userId": "09882507054701017253"
     },
     "user_tz": -120
    },
    "id": "c99OhZBLCuQ1",
    "outputId": "2ed0a768-b42c-4336-cb9b-d490c14351cf"
   },
   "outputs": [
    {
     "data": {
      "image/png": "[encoded data removed]",
      "text/plain": [
       "<Figure size 432x288 with 1 Axes>"
      ]
     },
     "metadata": {
      "tags": []
     },
     "output_type": "display_data"
    }
   ],
   "source": [
    "feat=pd.DataFrame.from_dict(dict(zip(X.columns,clf.feature_importances_) ), orient='index',columns=['importance'])\n",
    "feat=feat.sort_values(by=['importance'],ascending=False)\n",
    "feat.plot(kind='bar');\n",
    "plt.title('important features for completed_not_viewed');"
   ]
  },
  {
   "cell_type": "code",
   "execution_count": null,
   "metadata": {
    "colab": {
     "base_uri": "https://localhost:8080/",
     "height": 136
    },
    "colab_type": "code",
    "executionInfo": {
     "elapsed": 558,
     "status": "ok",
     "timestamp": 1560267161928,
     "user": {
      "displayName": "Marco B.",
      "photoUrl": "https://lh4.googleusercontent.com/-UCwdW0bUFwk/AAAAAAAAAAI/AAAAAAAAIIg/behzAmlzOhc/s64/photo.jpg",
      "userId": "09882507054701017253"
     },
     "user_tz": -120
    },
    "id": "4kG_3gEDCuZc",
    "outputId": "2f648db6-4b11-4fbe-8c96-5865dac8b40a"
   },
   "outputs": [
    {
     "data": {
      "text/plain": [
       "RandomForestClassifier(bootstrap=20, class_weight=None, criterion='entropy',\n",
       "                       max_depth=3, max_features=10, max_leaf_nodes=None,\n",
       "                       min_impurity_decrease=0.0, min_impurity_split=None,\n",
       "                       min_samples_leaf=1, min_samples_split=9,\n",
       "                       min_weight_fraction_leaf=0.0, n_estimators=21,\n",
       "                       n_jobs=None, oob_score=False, random_state=None,\n",
       "                       verbose=0, warm_start=False)"
      ]
     },
     "execution_count": 93,
     "metadata": {
      "tags": []
     },
     "output_type": "execute_result"
    }
   ],
   "source": [
    "clf"
   ]
  },
  {
   "cell_type": "code",
   "execution_count": 166,
   "metadata": {
    "colab": {
     "base_uri": "https://localhost:8080/",
     "height": 799
    },
    "colab_type": "code",
    "executionInfo": {
     "elapsed": 22098,
     "status": "ok",
     "timestamp": 1561307705214,
     "user": {
      "displayName": "Marco B.",
      "photoUrl": "https://lh4.googleusercontent.com/-UCwdW0bUFwk/AAAAAAAAAAI/AAAAAAAAIIg/behzAmlzOhc/s64/photo.jpg",
      "userId": "09882507054701017253"
     },
     "user_tz": -120
    },
    "id": "Q8loQx-Qpa4v",
    "outputId": "4fd71c8c-174e-4564-bc53-2246d7ab7f0e"
   },
   "outputs": [
    {
     "data": {
      "text/plain": [
       "RandomizedSearchCV(cv=5, error_score='raise-deprecating',\n",
       "                   estimator=DecisionTreeClassifier(class_weight='balanced',\n",
       "                                                    criterion='entropy',\n",
       "                                                    max_depth=None,\n",
       "                                                    max_features=None,\n",
       "                                                    max_leaf_nodes=None,\n",
       "                                                    min_impurity_decrease=0.0,\n",
       "                                                    min_impurity_split=None,\n",
       "                                                    min_samples_leaf=1,\n",
       "                                                    min_samples_split=2,\n",
       "                                                    min_weight_fraction_leaf=0.0,\n",
       "                                                    presort=False,\n",
       "                                                    random_state=None,\n",
       "                                                    splitter='best...\n",
       "38984    120.0\n",
       "27469    240.0\n",
       "16921    168.0\n",
       "66662    168.0\n",
       "35665    120.0\n",
       "24152    240.0\n",
       "51374    168.0\n",
       "43095    120.0\n",
       "18983    168.0\n",
       "32230    120.0\n",
       "17089    168.0\n",
       "14650    240.0\n",
       "52620    168.0\n",
       "39512    120.0\n",
       "48600    168.0\n",
       "15430    168.0\n",
       "14935    240.0\n",
       "46884    168.0\n",
       "62643    168.0\n",
       "20757    168.0\n",
       "64660    168.0\n",
       "41993    120.0\n",
       "32103    120.0\n",
       "30403    240.0\n",
       "21243    168.0\n",
       "45891    168.0\n",
       "52416    168.0\n",
       "42613    120.0\n",
       "43567    120.0\n",
       "2732     168.0\n",
       "Name: duration_hours, Length: 42729, dtype: float64),\n",
       "                   verbose=0)"
      ]
     },
     "execution_count": 166,
     "metadata": {
      "tags": []
     },
     "output_type": "execute_result"
    }
   ],
   "source": [
    "from sklearn.tree import DecisionTreeClassifier\n",
    "\n",
    "# specify parameters and distributions to sample from\n",
    "param_dist = {\n",
    "              \"max_depth\": sp_randint(2, 50),\n",
    "              \"max_features\": sp_randint(1, 15),\n",
    "              #\"max_features\": uniform(0.1, 1.),\n",
    "              #\"max_features\": [\"auto\",\"log2\"],\n",
    "              \"min_samples_split\": uniform(.1, .9),\n",
    "    \n",
    "            }\n",
    "\n",
    "# run randomized search\n",
    "n_iter_search = 20\n",
    "clf = DecisionTreeClassifier(  criterion=\"entropy\",class_weight=\"balanced\")\n",
    "#clf = DecisionTreeClassifier(  criterion=\"entropy\",class_weight={0:1,1:10})\n",
    "#random_search = RandomizedSearchCV(clf, scoring='average_precision', param_distributions=param_dist,  cv=5, iid=False)\n",
    "random_search = RandomizedSearchCV(clf, scoring=scoring_cm_manual, param_distributions=param_dist,  cv=5, iid=False,n_iter=100)\n",
    "\n",
    "\n",
    "\n",
    "random_search.fit(X_train, y_train)"
   ]
  },
  {
   "cell_type": "code",
   "execution_count": null,
   "metadata": {
    "colab": {},
    "colab_type": "code",
    "id": "cgNk_5AuLMWA"
   },
   "outputs": [],
   "source": [
    "#random_search.cv_results_"
   ]
  },
  {
   "cell_type": "code",
   "execution_count": 167,
   "metadata": {
    "colab": {
     "base_uri": "https://localhost:8080/",
     "height": 357
    },
    "colab_type": "code",
    "executionInfo": {
     "elapsed": 458,
     "status": "ok",
     "timestamp": 1561307710930,
     "user": {
      "displayName": "Marco B.",
      "photoUrl": "https://lh4.googleusercontent.com/-UCwdW0bUFwk/AAAAAAAAAAI/AAAAAAAAIIg/behzAmlzOhc/s64/photo.jpg",
      "userId": "09882507054701017253"
     },
     "user_tz": -120
    },
    "id": "6L_Tlljkpa8K",
    "outputId": "a81f260d-eabd-4a2f-c658-95e2af2f9178"
   },
   "outputs": [
    {
     "data": {
      "text/plain": [
       "array([ -90530.032,  -76809.512,  -53815.232,  -56993.008,  -59852.104,\n",
       "        -59852.104,  -54910.584,  -84451.696,  -97463.696,  -57970.648,\n",
       "        -58642.472,  -76239.472,  -59852.104,  -53314.672,  -63766.152,\n",
       "        -75197.768,  -69805.408,  -58071.856,  -88418.432,  -54515.656,\n",
       "        -54499.272,  -76007.208,  -59852.104,  -59852.104,  -54671.04 ,\n",
       "        -69891.4  ,  -59852.104,  -51162.28 ,  -87978.456, -102081.736,\n",
       "        -95533.24 ,  -77560.632,  -58078.208,  -54557.456,  -66446.48 ,\n",
       "        -53090.696,  -73663.024,  -52568.528,  -58155.608,  -66800.04 ,\n",
       "        -60266.024,  -64124.832,  -74972.776,  -58594.848,  -59852.104,\n",
       "        -67639.448,  -73922.968,  -56505.744,  -59852.104,  -62126.528,\n",
       "        -63641.624,  -59852.104,  -58283.   ,  -59852.104,  -68699.512,\n",
       "        -94970.536,  -59852.104, -116300.216,  -54557.456,  -60266.024,\n",
       "        -67541.16 ,  -62417.768,  -53848.248,  -76904.952,  -58548.576,\n",
       "        -58457.8  ,  -69471.416,  -50825.912,  -71966.528,  -59852.104,\n",
       "        -60372.84 ,  -66282.712,  -57970.648,  -62869.888,  -80715.344,\n",
       "        -73553.248,  -59852.104,  -56263.792,  -54289.288,  -59852.104,\n",
       "        -56347.32 ,  -76943.52 ,  -52721.392,  -74103.   ,  -55079.496,\n",
       "       -116044.288,  -51561.688,  -59852.104,  -68088.712,  -69825.696,\n",
       "        -59852.104,  -55344.088,  -68034.88 ,  -56327.12 ,  -52542.608,\n",
       "       -102229.352,  -62194.952,  -61983.896,  -58642.472,  -55237.408])"
      ]
     },
     "metadata": {
      "tags": []
     },
     "output_type": "display_data"
    }
   ],
   "source": [
    "sorted(random_search.cv_results_.keys())\n",
    "display(random_search.cv_results_['mean_test_score'])\n",
    "clf=random_search.best_estimator_"
   ]
  },
  {
   "cell_type": "code",
   "execution_count": 168,
   "metadata": {
    "colab": {
     "base_uri": "https://localhost:8080/",
     "height": 300
    },
    "colab_type": "code",
    "executionInfo": {
     "elapsed": 827,
     "status": "ok",
     "timestamp": 1561307716614,
     "user": {
      "displayName": "Marco B.",
      "photoUrl": "https://lh4.googleusercontent.com/-UCwdW0bUFwk/AAAAAAAAAAI/AAAAAAAAIIg/behzAmlzOhc/s64/photo.jpg",
      "userId": "09882507054701017253"
     },
     "user_tz": -120
    },
    "id": "OuvJnaLjKyWn",
    "outputId": "a21bdb9b-0a66-43c2-d127-48ba9f67fb20"
   },
   "outputs": [
    {
     "data": {
      "text/plain": [
       "Text(0, 0.5, '$ cost of misclassification')"
      ]
     },
     "execution_count": 168,
     "metadata": {
      "tags": []
     },
     "output_type": "execute_result"
    },
    {
     "data": {
      "image/png": "[encoded data removed]",
      "text/plain": [
       "<Figure size 432x288 with 1 Axes>"
      ]
     },
     "metadata": {
      "tags": []
     },
     "output_type": "display_data"
    }
   ],
   "source": [
    "plt.plot(-random_search.cv_results_['mean_test_score'])\n",
    "plt.plot(4,-random_search.cv_results_['mean_test_score'][4],'ro')\n",
    "plt.xlabel('parameter search')\n",
    "plt.ylabel('$ cost of misclassification')"
   ]
  },
  {
   "cell_type": "code",
   "execution_count": 169,
   "metadata": {
    "colab": {
     "base_uri": "https://localhost:8080/",
     "height": 295
    },
    "colab_type": "code",
    "executionInfo": {
     "elapsed": 788,
     "status": "ok",
     "timestamp": 1561307725407,
     "user": {
      "displayName": "Marco B.",
      "photoUrl": "https://lh4.googleusercontent.com/-UCwdW0bUFwk/AAAAAAAAAAI/AAAAAAAAIIg/behzAmlzOhc/s64/photo.jpg",
      "userId": "09882507054701017253"
     },
     "user_tz": -120
    },
    "id": "VgqX_hjBpa_0",
    "outputId": "c63109ea-3f30-4ed6-8529-4eda580e82e1"
   },
   "outputs": [
    {
     "data": {
      "image/png": "[encoded data removed]",
      "text/plain": [
       "<Figure size 432x288 with 1 Axes>"
      ]
     },
     "metadata": {
      "tags": []
     },
     "output_type": "display_data"
    }
   ],
   "source": [
    "clf.fit(X_train,y_train)\n",
    "probas_ = clf.predict_proba(X_test)\n",
    "fpr, tpr, thresholds = roc_curve(y_test, probas_[:, 1])\n",
    "\n",
    "roc_auc = auc(fpr, tpr)\n",
    "plt.plot(fpr, tpr, lw=1, alpha=1, label='ROC RF(AUC = %0.2f)' % (roc_auc));\n",
    "plt.plot([0, 1], [0, 1], linestyle='--', lw=2, color='r',\n",
    "         label='Chance', alpha=.8)\n",
    "plt.xlim([-0.05, 1.05])\n",
    "plt.ylim([-0.05, 1.05])\n",
    "plt.xlabel('False Positive Rate')\n",
    "plt.ylabel('True Positive Rate')\n",
    "plt.title('ROC: DT, average precision')\n",
    "plt.legend(loc=\"lower right\");\n",
    "plt.axis('square');"
   ]
  },
  {
   "cell_type": "code",
   "execution_count": 170,
   "metadata": {
    "colab": {
     "base_uri": "https://localhost:8080/",
     "height": 312
    },
    "colab_type": "code",
    "executionInfo": {
     "elapsed": 456,
     "status": "ok",
     "timestamp": 1561307732015,
     "user": {
      "displayName": "Marco B.",
      "photoUrl": "https://lh4.googleusercontent.com/-UCwdW0bUFwk/AAAAAAAAAAI/AAAAAAAAIIg/behzAmlzOhc/s64/photo.jpg",
      "userId": "09882507054701017253"
     },
     "user_tz": -120
    },
    "id": "JQixeMhu44ke",
    "outputId": "1fbf72f5-21ed-43d8-fd4e-02137ac37d20"
   },
   "outputs": [
    {
     "data": {
      "text/plain": [
       "Text(0.5, 1.0, '2-class Precision-Recall curve: AP=0.26')"
      ]
     },
     "execution_count": 170,
     "metadata": {
      "tags": []
     },
     "output_type": "execute_result"
    },
    {
     "data": {
      "image/png": "[encoded data removed]",
      "text/plain": [
       "<Figure size 432x288 with 1 Axes>"
      ]
     },
     "metadata": {
      "tags": []
     },
     "output_type": "display_data"
    }
   ],
   "source": [
    "from sklearn.metrics import precision_recall_curve, average_precision_score\n",
    "from inspect import signature\n",
    "\n",
    "#y_score = clf.decision_function(X_test)\n",
    "# y_score = clf.predict(X_test)\n",
    "y_score = clf.predict_proba(X_test)[:,1]\n",
    "\n",
    "average_precision = average_precision_score(y_test, y_score)\n",
    "\n",
    "precision, recall, _ = precision_recall_curve(y_test, y_score)\n",
    "\n",
    "# In matplotlib < 1.5, plt.fill_between does not have a 'step' argument\n",
    "step_kwargs = ({'step': 'post'}\n",
    "               if 'step' in signature(plt.fill_between).parameters\n",
    "               else {})\n",
    "plt.step(recall, precision, color='b', alpha=0.2,\n",
    "         where='post')\n",
    "plt.fill_between(recall, precision, alpha=0.2, color='b', **step_kwargs)\n",
    "\n",
    "plt.xlabel('Recall')\n",
    "plt.ylabel('Precision')\n",
    "plt.ylim([0.0, 1.05])\n",
    "plt.xlim([0.0, 1.0])\n",
    "plt.title('2-class Precision-Recall curve: AP={0:0.2f}'.format(\n",
    "          average_precision))"
   ]
  },
  {
   "cell_type": "code",
   "execution_count": 171,
   "metadata": {
    "colab": {
     "base_uri": "https://localhost:8080/",
     "height": 745
    },
    "colab_type": "code",
    "executionInfo": {
     "elapsed": 444,
     "status": "ok",
     "timestamp": 1561307736015,
     "user": {
      "displayName": "Marco B.",
      "photoUrl": "https://lh4.googleusercontent.com/-UCwdW0bUFwk/AAAAAAAAAAI/AAAAAAAAIIg/behzAmlzOhc/s64/photo.jpg",
      "userId": "09882507054701017253"
     },
     "user_tz": -120
    },
    "id": "fBIvHP20rDN0",
    "outputId": "84c4a3ea-eb6d-498d-d57d-7d3b1a80a201"
   },
   "outputs": [
    {
     "data": {
      "image/svg+xml": [
       "<?xml version=\"1.0\" encoding=\"UTF-8\" standalone=\"no\"?>\n",
       "<!DOCTYPE svg PUBLIC \"-//W3C//DTD SVG 1.1//EN\"\n",
       " \"http://www.w3.org/Graphics/SVG/1.1/DTD/svg11.dtd\">\n",
       "<!-- Generated by graphviz version 2.40.1 (20161225.0304)\n",
       " -->\n",
       "<!-- Title: Tree Pages: 1 -->\n",
       "<svg width=\"999pt\" height=\"528pt\"\n",
       " viewBox=\"0.00 0.00 999.00 528.00\" xmlns=\"http://www.w3.org/2000/svg\" xmlns:xlink=\"http://www.w3.org/1999/xlink\">\n",
       "<g id=\"graph0\" class=\"graph\" transform=\"scale(1 1) rotate(0) translate(4 524)\">\n",
       "<title>Tree</title>\n",
       "<polygon fill=\"#ffffff\" stroke=\"transparent\" points=\"-4,4 -4,-524 995,-524 995,4 -4,4\"/>\n",
       "<!-- 0 -->\n",
       "<g id=\"node1\" class=\"node\">\n",
       "<title>0</title>\n",
       "<path fill=\"#ffffff\" stroke=\"#000000\" d=\"M633.5,-520C633.5,-520 468.5,-520 468.5,-520 462.5,-520 456.5,-514 456.5,-508 456.5,-508 456.5,-454 456.5,-454 456.5,-448 462.5,-442 468.5,-442 468.5,-442 633.5,-442 633.5,-442 639.5,-442 645.5,-448 645.5,-454 645.5,-454 645.5,-508 645.5,-508 645.5,-514 639.5,-520 633.5,-520\"/>\n",
       "<text text-anchor=\"start\" x=\"514.5\" y=\"-505.8\" font-family=\"Helvetica,sans-Serif\" font-size=\"14.00\" fill=\"#000000\">social ≤ 0.5</text>\n",
       "<text text-anchor=\"start\" x=\"508.5\" y=\"-491.8\" font-family=\"Helvetica,sans-Serif\" font-size=\"14.00\" fill=\"#000000\">entropy = 1.0</text>\n",
       "<text text-anchor=\"start\" x=\"495\" y=\"-477.8\" font-family=\"Helvetica,sans-Serif\" font-size=\"14.00\" fill=\"#000000\">samples = 42729</text>\n",
       "<text text-anchor=\"start\" x=\"464.5\" y=\"-463.8\" font-family=\"Helvetica,sans-Serif\" font-size=\"14.00\" fill=\"#000000\">value = [21364.5, 21364.5]</text>\n",
       "<text text-anchor=\"start\" x=\"518.5\" y=\"-449.8\" font-family=\"Helvetica,sans-Serif\" font-size=\"14.00\" fill=\"#000000\">class = y</text>\n",
       "<text text-anchor=\"start\" x=\"576.5\" y=\"-449.8\" font-family=\"Helvetica,sans-Serif\" baseline-shift=\"sub\" font-size=\"14.00\" fill=\"#000000\">0</text>\n",
       "</g>\n",
       "<!-- 1 -->\n",
       "<g id=\"node2\" class=\"node\">\n",
       "<title>1</title>\n",
       "<path fill=\"#88c4ef\" stroke=\"#000000\" d=\"M530,-406C530,-406 340,-406 340,-406 334,-406 328,-400 328,-394 328,-394 328,-340 328,-340 328,-334 334,-328 340,-328 340,-328 530,-328 530,-328 536,-328 542,-334 542,-340 542,-340 542,-394 542,-394 542,-400 536,-406 530,-406\"/>\n",
       "<text text-anchor=\"start\" x=\"396.5\" y=\"-391.8\" font-family=\"Helvetica,sans-Serif\" font-size=\"14.00\" fill=\"#000000\">age ≤ 109.5</text>\n",
       "<text text-anchor=\"start\" x=\"384\" y=\"-377.8\" font-family=\"Helvetica,sans-Serif\" font-size=\"14.00\" fill=\"#000000\">entropy = 0.863</text>\n",
       "<text text-anchor=\"start\" x=\"379\" y=\"-363.8\" font-family=\"Helvetica,sans-Serif\" font-size=\"14.00\" fill=\"#000000\">samples = 16145</text>\n",
       "<text text-anchor=\"start\" x=\"336\" y=\"-349.8\" font-family=\"Helvetica,sans-Serif\" font-size=\"14.00\" fill=\"#000000\">value = [7085.484, 17698.021]</text>\n",
       "<text text-anchor=\"start\" x=\"402.5\" y=\"-335.8\" font-family=\"Helvetica,sans-Serif\" font-size=\"14.00\" fill=\"#000000\">class = y</text>\n",
       "<text text-anchor=\"start\" x=\"460.5\" y=\"-335.8\" font-family=\"Helvetica,sans-Serif\" baseline-shift=\"sub\" font-size=\"14.00\" fill=\"#000000\">1</text>\n",
       "</g>\n",
       "<!-- 0&#45;&gt;1 -->\n",
       "<g id=\"edge1\" class=\"edge\">\n",
       "<title>0&#45;&gt;1</title>\n",
       "<path fill=\"none\" stroke=\"#000000\" d=\"M511.0794,-441.7677C501.7834,-432.632 491.7991,-422.8198 482.2211,-413.407\"/>\n",
       "<polygon fill=\"#000000\" stroke=\"#000000\" points=\"484.5798,-410.8177 474.9942,-406.3046 479.6732,-415.8103 484.5798,-410.8177\"/>\n",
       "<text text-anchor=\"middle\" x=\"475.2116\" y=\"-427.6037\" font-family=\"Helvetica,sans-Serif\" font-size=\"14.00\" fill=\"#000000\">True</text>\n",
       "</g>\n",
       "<!-- 8 -->\n",
       "<g id=\"node9\" class=\"node\">\n",
       "<title>8</title>\n",
       "<path fill=\"#eca16c\" stroke=\"#000000\" d=\"M762,-406C762,-406 572,-406 572,-406 566,-406 560,-400 560,-394 560,-394 560,-340 560,-340 560,-334 566,-328 572,-328 572,-328 762,-328 762,-328 768,-328 774,-334 774,-340 774,-340 774,-394 774,-394 774,-400 768,-406 762,-406\"/>\n",
       "<text text-anchor=\"start\" x=\"609\" y=\"-391.8\" font-family=\"Helvetica,sans-Serif\" font-size=\"14.00\" fill=\"#000000\">income ≤ 70500.0</text>\n",
       "<text text-anchor=\"start\" x=\"620\" y=\"-377.8\" font-family=\"Helvetica,sans-Serif\" font-size=\"14.00\" fill=\"#000000\">entropy = 0.73</text>\n",
       "<text text-anchor=\"start\" x=\"611\" y=\"-363.8\" font-family=\"Helvetica,sans-Serif\" font-size=\"14.00\" fill=\"#000000\">samples = 26584</text>\n",
       "<text text-anchor=\"start\" x=\"568\" y=\"-349.8\" font-family=\"Helvetica,sans-Serif\" font-size=\"14.00\" fill=\"#000000\">value = [14279.016, 3666.479]</text>\n",
       "<text text-anchor=\"start\" x=\"634.5\" y=\"-335.8\" font-family=\"Helvetica,sans-Serif\" font-size=\"14.00\" fill=\"#000000\">class = y</text>\n",
       "<text text-anchor=\"start\" x=\"692.5\" y=\"-335.8\" font-family=\"Helvetica,sans-Serif\" baseline-shift=\"sub\" font-size=\"14.00\" fill=\"#000000\">0</text>\n",
       "</g>\n",
       "<!-- 0&#45;&gt;8 -->\n",
       "<g id=\"edge8\" class=\"edge\">\n",
       "<title>0&#45;&gt;8</title>\n",
       "<path fill=\"none\" stroke=\"#000000\" d=\"M590.9206,-441.7677C600.2166,-432.632 610.2009,-422.8198 619.7789,-413.407\"/>\n",
       "<polygon fill=\"#000000\" stroke=\"#000000\" points=\"622.3268,-415.8103 627.0058,-406.3046 617.4202,-410.8177 622.3268,-415.8103\"/>\n",
       "<text text-anchor=\"middle\" x=\"626.7884\" y=\"-427.6037\" font-family=\"Helvetica,sans-Serif\" font-size=\"14.00\" fill=\"#000000\">False</text>\n",
       "</g>\n",
       "<!-- 2 -->\n",
       "<g id=\"node3\" class=\"node\">\n",
       "<title>2</title>\n",
       "<path fill=\"#7dbfee\" stroke=\"#000000\" d=\"M309,-292C309,-292 119,-292 119,-292 113,-292 107,-286 107,-280 107,-280 107,-226 107,-226 107,-220 113,-214 119,-214 119,-214 309,-214 309,-214 315,-214 321,-220 321,-226 321,-226 321,-280 321,-280 321,-286 315,-292 309,-292\"/>\n",
       "<text text-anchor=\"start\" x=\"156\" y=\"-277.8\" font-family=\"Helvetica,sans-Serif\" font-size=\"14.00\" fill=\"#000000\">income ≤ 99500.0</text>\n",
       "<text text-anchor=\"start\" x=\"163\" y=\"-263.8\" font-family=\"Helvetica,sans-Serif\" font-size=\"14.00\" fill=\"#000000\">entropy = 0.822</text>\n",
       "<text text-anchor=\"start\" x=\"158\" y=\"-249.8\" font-family=\"Helvetica,sans-Serif\" font-size=\"14.00\" fill=\"#000000\">samples = 14102</text>\n",
       "<text text-anchor=\"start\" x=\"115\" y=\"-235.8\" font-family=\"Helvetica,sans-Serif\" font-size=\"14.00\" fill=\"#000000\">value = [5994.519, 17353.952]</text>\n",
       "<text text-anchor=\"start\" x=\"181.5\" y=\"-221.8\" font-family=\"Helvetica,sans-Serif\" font-size=\"14.00\" fill=\"#000000\">class = y</text>\n",
       "<text text-anchor=\"start\" x=\"239.5\" y=\"-221.8\" font-family=\"Helvetica,sans-Serif\" baseline-shift=\"sub\" font-size=\"14.00\" fill=\"#000000\">1</text>\n",
       "</g>\n",
       "<!-- 1&#45;&gt;2 -->\n",
       "<g id=\"edge2\" class=\"edge\">\n",
       "<title>1&#45;&gt;2</title>\n",
       "<path fill=\"none\" stroke=\"#000000\" d=\"M359.2535,-327.9272C339.7494,-317.8662 318.637,-306.9757 298.7098,-296.6965\"/>\n",
       "<polygon fill=\"#000000\" stroke=\"#000000\" points=\"300.1393,-293.4957 289.6475,-292.0218 296.9302,-299.7168 300.1393,-293.4957\"/>\n",
       "</g>\n",
       "<!-- 7 -->\n",
       "<g id=\"node8\" class=\"node\">\n",
       "<title>7</title>\n",
       "<path fill=\"#eda977\" stroke=\"#000000\" d=\"M524.5,-285C524.5,-285 351.5,-285 351.5,-285 345.5,-285 339.5,-279 339.5,-273 339.5,-273 339.5,-233 339.5,-233 339.5,-227 345.5,-221 351.5,-221 351.5,-221 524.5,-221 524.5,-221 530.5,-221 536.5,-227 536.5,-233 536.5,-233 536.5,-273 536.5,-273 536.5,-279 530.5,-285 524.5,-285\"/>\n",
       "<text text-anchor=\"start\" x=\"387\" y=\"-270.8\" font-family=\"Helvetica,sans-Serif\" font-size=\"14.00\" fill=\"#000000\">entropy = 0.795</text>\n",
       "<text text-anchor=\"start\" x=\"386\" y=\"-256.8\" font-family=\"Helvetica,sans-Serif\" font-size=\"14.00\" fill=\"#000000\">samples = 2043</text>\n",
       "<text text-anchor=\"start\" x=\"347.5\" y=\"-242.8\" font-family=\"Helvetica,sans-Serif\" font-size=\"14.00\" fill=\"#000000\">value = [1090.965, 344.068]</text>\n",
       "<text text-anchor=\"start\" x=\"405.5\" y=\"-228.8\" font-family=\"Helvetica,sans-Serif\" font-size=\"14.00\" fill=\"#000000\">class = y</text>\n",
       "<text text-anchor=\"start\" x=\"463.5\" y=\"-228.8\" font-family=\"Helvetica,sans-Serif\" baseline-shift=\"sub\" font-size=\"14.00\" fill=\"#000000\">0</text>\n",
       "</g>\n",
       "<!-- 1&#45;&gt;7 -->\n",
       "<g id=\"edge7\" class=\"edge\">\n",
       "<title>1&#45;&gt;7</title>\n",
       "<path fill=\"none\" stroke=\"#000000\" d=\"M436.0324,-327.7677C436.307,-317.3338 436.6048,-306.0174 436.8836,-295.4215\"/>\n",
       "<polygon fill=\"#000000\" stroke=\"#000000\" points=\"440.3902,-295.2138 437.1546,-285.1252 433.3926,-295.0296 440.3902,-295.2138\"/>\n",
       "</g>\n",
       "<!-- 3 -->\n",
       "<g id=\"node4\" class=\"node\">\n",
       "<title>3</title>\n",
       "<path fill=\"#84c2ef\" stroke=\"#000000\" d=\"M202,-178C202,-178 12,-178 12,-178 6,-178 0,-172 0,-166 0,-166 0,-112 0,-112 0,-106 6,-100 12,-100 12,-100 202,-100 202,-100 208,-100 214,-106 214,-112 214,-112 214,-166 214,-166 214,-172 208,-178 202,-178\"/>\n",
       "<text text-anchor=\"start\" x=\"34.5\" y=\"-163.8\" font-family=\"Helvetica,sans-Serif\" font-size=\"14.00\" fill=\"#000000\">offer_received ≤ 252.0</text>\n",
       "<text text-anchor=\"start\" x=\"56\" y=\"-149.8\" font-family=\"Helvetica,sans-Serif\" font-size=\"14.00\" fill=\"#000000\">entropy = 0.848</text>\n",
       "<text text-anchor=\"start\" x=\"51\" y=\"-135.8\" font-family=\"Helvetica,sans-Serif\" font-size=\"14.00\" fill=\"#000000\">samples = 13040</text>\n",
       "<text text-anchor=\"start\" x=\"8\" y=\"-121.8\" font-family=\"Helvetica,sans-Serif\" font-size=\"14.00\" fill=\"#000000\">value = [5657.692, 14929.345]</text>\n",
       "<text text-anchor=\"start\" x=\"74.5\" y=\"-107.8\" font-family=\"Helvetica,sans-Serif\" font-size=\"14.00\" fill=\"#000000\">class = y</text>\n",
       "<text text-anchor=\"start\" x=\"132.5\" y=\"-107.8\" font-family=\"Helvetica,sans-Serif\" baseline-shift=\"sub\" font-size=\"14.00\" fill=\"#000000\">1</text>\n",
       "</g>\n",
       "<!-- 2&#45;&gt;3 -->\n",
       "<g id=\"edge3\" class=\"edge\">\n",
       "<title>2&#45;&gt;3</title>\n",
       "<path fill=\"none\" stroke=\"#000000\" d=\"M177.1767,-213.7677C168.686,-204.7216 159.5728,-195.0121 150.8174,-185.6839\"/>\n",
       "<polygon fill=\"#000000\" stroke=\"#000000\" points=\"153.2869,-183.2008 143.8912,-178.3046 148.1829,-187.9914 153.2869,-183.2008\"/>\n",
       "</g>\n",
       "<!-- 6 -->\n",
       "<g id=\"node7\" class=\"node\">\n",
       "<title>6</title>\n",
       "<path fill=\"#55abe9\" stroke=\"#000000\" d=\"M417.5,-171C417.5,-171 244.5,-171 244.5,-171 238.5,-171 232.5,-165 232.5,-159 232.5,-159 232.5,-119 232.5,-119 232.5,-113 238.5,-107 244.5,-107 244.5,-107 417.5,-107 417.5,-107 423.5,-107 429.5,-113 429.5,-119 429.5,-119 429.5,-159 429.5,-159 429.5,-165 423.5,-171 417.5,-171\"/>\n",
       "<text text-anchor=\"start\" x=\"280\" y=\"-156.8\" font-family=\"Helvetica,sans-Serif\" font-size=\"14.00\" fill=\"#000000\">entropy = 0.535</text>\n",
       "<text text-anchor=\"start\" x=\"279\" y=\"-142.8\" font-family=\"Helvetica,sans-Serif\" font-size=\"14.00\" fill=\"#000000\">samples = 1062</text>\n",
       "<text text-anchor=\"start\" x=\"240.5\" y=\"-128.8\" font-family=\"Helvetica,sans-Serif\" font-size=\"14.00\" fill=\"#000000\">value = [336.826, 2424.607]</text>\n",
       "<text text-anchor=\"start\" x=\"298.5\" y=\"-114.8\" font-family=\"Helvetica,sans-Serif\" font-size=\"14.00\" fill=\"#000000\">class = y</text>\n",
       "<text text-anchor=\"start\" x=\"356.5\" y=\"-114.8\" font-family=\"Helvetica,sans-Serif\" baseline-shift=\"sub\" font-size=\"14.00\" fill=\"#000000\">1</text>\n",
       "</g>\n",
       "<!-- 2&#45;&gt;6 -->\n",
       "<g id=\"edge6\" class=\"edge\">\n",
       "<title>2&#45;&gt;6</title>\n",
       "<path fill=\"none\" stroke=\"#000000\" d=\"M254.2648,-213.7677C266.0887,-202.247 279.0168,-189.6503 290.8345,-178.1356\"/>\n",
       "<polygon fill=\"#000000\" stroke=\"#000000\" points=\"293.3096,-180.6107 298.0294,-171.1252 288.4245,-175.5971 293.3096,-180.6107\"/>\n",
       "</g>\n",
       "<!-- 4 -->\n",
       "<g id=\"node5\" class=\"node\">\n",
       "<title>4</title>\n",
       "<path fill=\"#a8d4f4\" stroke=\"#000000\" d=\"M194,-64C194,-64 12,-64 12,-64 6,-64 0,-58 0,-52 0,-52 0,-12 0,-12 0,-6 6,0 12,0 12,0 194,0 194,0 200,0 206,-6 206,-12 206,-12 206,-52 206,-52 206,-58 200,-64 194,-64\"/>\n",
       "<text text-anchor=\"start\" x=\"52\" y=\"-49.8\" font-family=\"Helvetica,sans-Serif\" font-size=\"14.00\" fill=\"#000000\">entropy = 0.941</text>\n",
       "<text text-anchor=\"start\" x=\"51\" y=\"-35.8\" font-family=\"Helvetica,sans-Serif\" font-size=\"14.00\" fill=\"#000000\">samples = 4225</text>\n",
       "<text text-anchor=\"start\" x=\"8\" y=\"-21.8\" font-family=\"Helvetica,sans-Serif\" font-size=\"14.00\" fill=\"#000000\">value = [1968.037, 3521.325]</text>\n",
       "<text text-anchor=\"start\" x=\"70.5\" y=\"-7.8\" font-family=\"Helvetica,sans-Serif\" font-size=\"14.00\" fill=\"#000000\">class = y</text>\n",
       "<text text-anchor=\"start\" x=\"128.5\" y=\"-7.8\" font-family=\"Helvetica,sans-Serif\" baseline-shift=\"sub\" font-size=\"14.00\" fill=\"#000000\">1</text>\n",
       "</g>\n",
       "<!-- 3&#45;&gt;4 -->\n",
       "<g id=\"edge4\" class=\"edge\">\n",
       "<title>3&#45;&gt;4</title>\n",
       "<path fill=\"none\" stroke=\"#000000\" d=\"M105.5333,-99.7647C105.2226,-91.4537 104.8934,-82.6472 104.5787,-74.2305\"/>\n",
       "<polygon fill=\"#000000\" stroke=\"#000000\" points=\"108.0756,-74.0791 104.2044,-64.2169 101.0805,-74.3407 108.0756,-74.0791\"/>\n",
       "</g>\n",
       "<!-- 5 -->\n",
       "<g id=\"node6\" class=\"node\">\n",
       "<title>5</title>\n",
       "<path fill=\"#79bded\" stroke=\"#000000\" d=\"M426,-64C426,-64 236,-64 236,-64 230,-64 224,-58 224,-52 224,-52 224,-12 224,-12 224,-6 230,0 236,0 236,0 426,0 426,0 432,0 438,-6 438,-12 438,-12 438,-52 438,-52 438,-58 432,-64 426,-64\"/>\n",
       "<text text-anchor=\"start\" x=\"280\" y=\"-49.8\" font-family=\"Helvetica,sans-Serif\" font-size=\"14.00\" fill=\"#000000\">entropy = 0.802</text>\n",
       "<text text-anchor=\"start\" x=\"279\" y=\"-35.8\" font-family=\"Helvetica,sans-Serif\" font-size=\"14.00\" fill=\"#000000\">samples = 8815</text>\n",
       "<text text-anchor=\"start\" x=\"232\" y=\"-21.8\" font-family=\"Helvetica,sans-Serif\" font-size=\"14.00\" fill=\"#000000\">value = [3689.655, 11408.019]</text>\n",
       "<text text-anchor=\"start\" x=\"298.5\" y=\"-7.8\" font-family=\"Helvetica,sans-Serif\" font-size=\"14.00\" fill=\"#000000\">class = y</text>\n",
       "<text text-anchor=\"start\" x=\"356.5\" y=\"-7.8\" font-family=\"Helvetica,sans-Serif\" baseline-shift=\"sub\" font-size=\"14.00\" fill=\"#000000\">1</text>\n",
       "</g>\n",
       "<!-- 3&#45;&gt;5 -->\n",
       "<g id=\"edge5\" class=\"edge\">\n",
       "<title>3&#45;&gt;5</title>\n",
       "<path fill=\"none\" stroke=\"#000000\" d=\"M188.82,-99.9163C210.2669,-89.6716 233.3092,-78.6648 254.4683,-68.5576\"/>\n",
       "<polygon fill=\"#000000\" stroke=\"#000000\" points=\"256.212,-71.6035 263.7268,-64.135 253.1948,-65.2871 256.212,-71.6035\"/>\n",
       "</g>\n",
       "<!-- 9 -->\n",
       "<g id=\"node10\" class=\"node\">\n",
       "<title>9</title>\n",
       "<path fill=\"#e99456\" stroke=\"#000000\" d=\"M755,-292C755,-292 573,-292 573,-292 567,-292 561,-286 561,-280 561,-280 561,-226 561,-226 561,-220 567,-214 573,-214 573,-214 755,-214 755,-214 761,-214 767,-220 767,-226 767,-226 767,-280 767,-280 767,-286 761,-292 755,-292\"/>\n",
       "<text text-anchor=\"start\" x=\"591.5\" y=\"-277.8\" font-family=\"Helvetica,sans-Serif\" font-size=\"14.00\" fill=\"#000000\">offer_received ≤ 252.0</text>\n",
       "<text text-anchor=\"start\" x=\"613\" y=\"-263.8\" font-family=\"Helvetica,sans-Serif\" font-size=\"14.00\" fill=\"#000000\">entropy = 0.552</text>\n",
       "<text text-anchor=\"start\" x=\"608\" y=\"-249.8\" font-family=\"Helvetica,sans-Serif\" font-size=\"14.00\" fill=\"#000000\">samples = 17575</text>\n",
       "<text text-anchor=\"start\" x=\"569\" y=\"-235.8\" font-family=\"Helvetica,sans-Serif\" font-size=\"14.00\" fill=\"#000000\">value = [9544.703, 1403.154]</text>\n",
       "<text text-anchor=\"start\" x=\"631.5\" y=\"-221.8\" font-family=\"Helvetica,sans-Serif\" font-size=\"14.00\" fill=\"#000000\">class = y</text>\n",
       "<text text-anchor=\"start\" x=\"689.5\" y=\"-221.8\" font-family=\"Helvetica,sans-Serif\" baseline-shift=\"sub\" font-size=\"14.00\" fill=\"#000000\">0</text>\n",
       "</g>\n",
       "<!-- 8&#45;&gt;9 -->\n",
       "<g id=\"edge9\" class=\"edge\">\n",
       "<title>8&#45;&gt;9</title>\n",
       "<path fill=\"none\" stroke=\"#000000\" d=\"M665.9676,-327.7677C665.7531,-319.6172 665.5244,-310.9283 665.3017,-302.4649\"/>\n",
       "<polygon fill=\"#000000\" stroke=\"#000000\" points=\"668.7963,-302.2091 665.0343,-292.3046 661.7987,-302.3933 668.7963,-302.2091\"/>\n",
       "</g>\n",
       "<!-- 14 -->\n",
       "<g id=\"node15\" class=\"node\">\n",
       "<title>14</title>\n",
       "<path fill=\"#f1bd98\" stroke=\"#000000\" d=\"M979,-285C979,-285 797,-285 797,-285 791,-285 785,-279 785,-273 785,-273 785,-233 785,-233 785,-227 791,-221 797,-221 797,-221 979,-221 979,-221 985,-221 991,-227 991,-233 991,-233 991,-273 991,-273 991,-279 985,-285 979,-285\"/>\n",
       "<text text-anchor=\"start\" x=\"837\" y=\"-270.8\" font-family=\"Helvetica,sans-Serif\" font-size=\"14.00\" fill=\"#000000\">entropy = 0.908</text>\n",
       "<text text-anchor=\"start\" x=\"836\" y=\"-256.8\" font-family=\"Helvetica,sans-Serif\" font-size=\"14.00\" fill=\"#000000\">samples = 9009</text>\n",
       "<text text-anchor=\"start\" x=\"793\" y=\"-242.8\" font-family=\"Helvetica,sans-Serif\" font-size=\"14.00\" fill=\"#000000\">value = [4734.314, 2263.325]</text>\n",
       "<text text-anchor=\"start\" x=\"855.5\" y=\"-228.8\" font-family=\"Helvetica,sans-Serif\" font-size=\"14.00\" fill=\"#000000\">class = y</text>\n",
       "<text text-anchor=\"start\" x=\"913.5\" y=\"-228.8\" font-family=\"Helvetica,sans-Serif\" baseline-shift=\"sub\" font-size=\"14.00\" fill=\"#000000\">0</text>\n",
       "</g>\n",
       "<!-- 8&#45;&gt;14 -->\n",
       "<g id=\"edge14\" class=\"edge\">\n",
       "<title>8&#45;&gt;14</title>\n",
       "<path fill=\"none\" stroke=\"#000000\" d=\"M742.7465,-327.9272C766.7893,-315.525 793.2761,-301.8621 816.9741,-289.6378\"/>\n",
       "<polygon fill=\"#000000\" stroke=\"#000000\" points=\"818.6264,-292.7238 825.9091,-285.0288 815.4173,-286.5027 818.6264,-292.7238\"/>\n",
       "</g>\n",
       "<!-- 10 -->\n",
       "<g id=\"node11\" class=\"node\">\n",
       "<title>10</title>\n",
       "<path fill=\"#e68743\" stroke=\"#000000\" d=\"M686.5,-171C686.5,-171 513.5,-171 513.5,-171 507.5,-171 501.5,-165 501.5,-159 501.5,-159 501.5,-119 501.5,-119 501.5,-113 507.5,-107 513.5,-107 513.5,-107 686.5,-107 686.5,-107 692.5,-107 698.5,-113 698.5,-119 698.5,-119 698.5,-159 698.5,-159 698.5,-165 692.5,-171 686.5,-171\"/>\n",
       "<text text-anchor=\"start\" x=\"549\" y=\"-156.8\" font-family=\"Helvetica,sans-Serif\" font-size=\"14.00\" fill=\"#000000\">entropy = 0.272</text>\n",
       "<text text-anchor=\"start\" x=\"548\" y=\"-142.8\" font-family=\"Helvetica,sans-Serif\" font-size=\"14.00\" fill=\"#000000\">samples = 5822</text>\n",
       "<text text-anchor=\"start\" x=\"509.5\" y=\"-128.8\" font-family=\"Helvetica,sans-Serif\" font-size=\"14.00\" fill=\"#000000\">value = [3193.512, 155.906]</text>\n",
       "<text text-anchor=\"start\" x=\"567.5\" y=\"-114.8\" font-family=\"Helvetica,sans-Serif\" font-size=\"14.00\" fill=\"#000000\">class = y</text>\n",
       "<text text-anchor=\"start\" x=\"625.5\" y=\"-114.8\" font-family=\"Helvetica,sans-Serif\" baseline-shift=\"sub\" font-size=\"14.00\" fill=\"#000000\">0</text>\n",
       "</g>\n",
       "<!-- 9&#45;&gt;10 -->\n",
       "<g id=\"edge10\" class=\"edge\">\n",
       "<title>9&#45;&gt;10</title>\n",
       "<path fill=\"none\" stroke=\"#000000\" d=\"M641.9748,-213.7677C635.8732,-202.8991 629.2339,-191.0729 623.0742,-180.1009\"/>\n",
       "<polygon fill=\"#000000\" stroke=\"#000000\" points=\"625.9825,-178.1317 618.0352,-171.1252 619.8786,-181.5584 625.9825,-178.1317\"/>\n",
       "</g>\n",
       "<!-- 11 -->\n",
       "<g id=\"node12\" class=\"node\">\n",
       "<title>11</title>\n",
       "<path fill=\"#ea9a60\" stroke=\"#000000\" d=\"M911,-178C911,-178 729,-178 729,-178 723,-178 717,-172 717,-166 717,-166 717,-112 717,-112 717,-106 723,-100 729,-100 729,-100 911,-100 911,-100 917,-100 923,-106 923,-112 923,-112 923,-166 923,-166 923,-172 917,-178 911,-178\"/>\n",
       "<text text-anchor=\"start\" x=\"785.5\" y=\"-163.8\" font-family=\"Helvetica,sans-Serif\" font-size=\"14.00\" fill=\"#000000\">age ≤ 94.5</text>\n",
       "<text text-anchor=\"start\" x=\"769\" y=\"-149.8\" font-family=\"Helvetica,sans-Serif\" font-size=\"14.00\" fill=\"#000000\">entropy = 0.644</text>\n",
       "<text text-anchor=\"start\" x=\"764\" y=\"-135.8\" font-family=\"Helvetica,sans-Serif\" font-size=\"14.00\" fill=\"#000000\">samples = 11753</text>\n",
       "<text text-anchor=\"start\" x=\"725\" y=\"-121.8\" font-family=\"Helvetica,sans-Serif\" font-size=\"14.00\" fill=\"#000000\">value = [6351.191, 1247.248]</text>\n",
       "<text text-anchor=\"start\" x=\"787.5\" y=\"-107.8\" font-family=\"Helvetica,sans-Serif\" font-size=\"14.00\" fill=\"#000000\">class = y</text>\n",
       "<text text-anchor=\"start\" x=\"845.5\" y=\"-107.8\" font-family=\"Helvetica,sans-Serif\" baseline-shift=\"sub\" font-size=\"14.00\" fill=\"#000000\">0</text>\n",
       "</g>\n",
       "<!-- 9&#45;&gt;11 -->\n",
       "<g id=\"edge11\" class=\"edge\">\n",
       "<title>9&#45;&gt;11</title>\n",
       "<path fill=\"none\" stroke=\"#000000\" d=\"M717.6864,-213.7677C730.751,-204.2204 744.8268,-193.9342 758.2332,-184.1373\"/>\n",
       "<polygon fill=\"#000000\" stroke=\"#000000\" points=\"760.4702,-186.8375 766.4791,-178.1115 756.3401,-181.1858 760.4702,-186.8375\"/>\n",
       "</g>\n",
       "<!-- 12 -->\n",
       "<g id=\"node13\" class=\"node\">\n",
       "<title>12</title>\n",
       "<path fill=\"#eb9e67\" stroke=\"#000000\" d=\"M753,-64C753,-64 571,-64 571,-64 565,-64 559,-58 559,-52 559,-52 559,-12 559,-12 559,-6 565,0 571,0 571,0 753,0 753,0 759,0 765,-6 765,-12 765,-12 765,-52 765,-52 765,-58 759,-64 753,-64\"/>\n",
       "<text text-anchor=\"start\" x=\"619.5\" y=\"-49.8\" font-family=\"Helvetica,sans-Serif\" font-size=\"14.00\" fill=\"#000000\">entropy = 0.7</text>\n",
       "<text text-anchor=\"start\" x=\"610\" y=\"-35.8\" font-family=\"Helvetica,sans-Serif\" font-size=\"14.00\" fill=\"#000000\">samples = 9396</text>\n",
       "<text text-anchor=\"start\" x=\"567\" y=\"-21.8\" font-family=\"Helvetica,sans-Serif\" font-size=\"14.00\" fill=\"#000000\">value = [5058.461, 1182.735]</text>\n",
       "<text text-anchor=\"start\" x=\"629.5\" y=\"-7.8\" font-family=\"Helvetica,sans-Serif\" font-size=\"14.00\" fill=\"#000000\">class = y</text>\n",
       "<text text-anchor=\"start\" x=\"687.5\" y=\"-7.8\" font-family=\"Helvetica,sans-Serif\" baseline-shift=\"sub\" font-size=\"14.00\" fill=\"#000000\">0</text>\n",
       "</g>\n",
       "<!-- 11&#45;&gt;12 -->\n",
       "<g id=\"edge12\" class=\"edge\">\n",
       "<title>11&#45;&gt;12</title>\n",
       "<path fill=\"none\" stroke=\"#000000\" d=\"M762.0638,-99.7647C747.56,-89.9426 732.0344,-79.4284 717.6448,-69.6835\"/>\n",
       "<polygon fill=\"#000000\" stroke=\"#000000\" points=\"719.5625,-66.7551 709.3199,-64.0458 715.6373,-72.5511 719.5625,-66.7551\"/>\n",
       "</g>\n",
       "<!-- 13 -->\n",
       "<g id=\"node14\" class=\"node\">\n",
       "<title>13</title>\n",
       "<path fill=\"#e68743\" stroke=\"#000000\" d=\"M952.5,-64C952.5,-64 795.5,-64 795.5,-64 789.5,-64 783.5,-58 783.5,-52 783.5,-52 783.5,-12 783.5,-12 783.5,-6 789.5,0 795.5,0 795.5,0 952.5,0 952.5,0 958.5,0 964.5,-6 964.5,-12 964.5,-12 964.5,-52 964.5,-52 964.5,-58 958.5,-64 952.5,-64\"/>\n",
       "<text text-anchor=\"start\" x=\"823\" y=\"-49.8\" font-family=\"Helvetica,sans-Serif\" font-size=\"14.00\" fill=\"#000000\">entropy = 0.276</text>\n",
       "<text text-anchor=\"start\" x=\"822\" y=\"-35.8\" font-family=\"Helvetica,sans-Serif\" font-size=\"14.00\" fill=\"#000000\">samples = 2357</text>\n",
       "<text text-anchor=\"start\" x=\"791.5\" y=\"-21.8\" font-family=\"Helvetica,sans-Serif\" font-size=\"14.00\" fill=\"#000000\">value = [1292.73, 64.513]</text>\n",
       "<text text-anchor=\"start\" x=\"841.5\" y=\"-7.8\" font-family=\"Helvetica,sans-Serif\" font-size=\"14.00\" fill=\"#000000\">class = y</text>\n",
       "<text text-anchor=\"start\" x=\"899.5\" y=\"-7.8\" font-family=\"Helvetica,sans-Serif\" baseline-shift=\"sub\" font-size=\"14.00\" fill=\"#000000\">0</text>\n",
       "</g>\n",
       "<!-- 11&#45;&gt;13 -->\n",
       "<g id=\"edge13\" class=\"edge\">\n",
       "<title>11&#45;&gt;13</title>\n",
       "<path fill=\"none\" stroke=\"#000000\" d=\"M839.801,-99.7647C844.1336,-91.1797 848.733,-82.066 853.1068,-73.3994\"/>\n",
       "<polygon fill=\"#000000\" stroke=\"#000000\" points=\"856.3601,-74.7213 857.741,-64.2169 850.1108,-71.5675 856.3601,-74.7213\"/>\n",
       "</g>\n",
       "</g>\n",
       "</svg>\n"
      ],
      "text/plain": [
       "<graphviz.files.Source at 0x7fef9da5e470>"
      ]
     },
     "execution_count": 171,
     "metadata": {
      "tags": []
     },
     "output_type": "execute_result"
    }
   ],
   "source": [
    "from sklearn import tree\n",
    "import graphviz \n",
    "\n",
    "#plt.figure(figsize=(10,10))\n",
    "#tree.plot_tree(clf ); \n",
    "\n",
    "dot_data = tree.export_graphviz(clf, out_file=None,   feature_names=X_test.columns,\n",
    "                                class_names=True,\n",
    "                                #class_names=['other',\"comp. not view\"],  \n",
    "  filled=True, rounded=True,  special_characters=True)  \n",
    "graph = graphviz.Source(dot_data)  \n",
    "graph\n",
    "#graph.view() \n",
    "#graph.render(filename='/content/gdrive/My Drive/UD/Sbux/dt_g.png',format='png')\n",
    "\n",
    "#plt.savefig('graph.png')\n",
    "#plt.show()"
   ]
  },
  {
   "cell_type": "code",
   "execution_count": 191,
   "metadata": {
    "colab": {
     "base_uri": "https://localhost:8080/",
     "height": 295
    },
    "colab_type": "code",
    "executionInfo": {
     "elapsed": 4935,
     "status": "ok",
     "timestamp": 1561309068497,
     "user": {
      "displayName": "Marco B.",
      "photoUrl": "https://lh4.googleusercontent.com/-UCwdW0bUFwk/AAAAAAAAAAI/AAAAAAAAIIg/behzAmlzOhc/s64/photo.jpg",
      "userId": "09882507054701017253"
     },
     "user_tz": -120
    },
    "id": "RCQDZVlSpbDT",
    "outputId": "43997fc3-e5e7-4d55-f9b5-f3cb16c2e0a8"
   },
   "outputs": [
    {
     "data": {
      "image/png": "[encoded data removed]",
      "text/plain": [
       "<Figure size 432x288 with 1 Axes>"
      ]
     },
     "metadata": {
      "tags": []
     },
     "output_type": "display_data"
    }
   ],
   "source": [
    "clf.fit(X_train,y_train)\n",
    "probas_ = clf.predict_proba(X_test)\n",
    "fpr, tpr, thresholds = roc_curve(y_test, 0*probas_[:, 1])\n",
    "\n",
    "roc_auc = auc(fpr, tpr)\n",
    "plt.plot(fpr, tpr, lw=1, alpha=1, label='ROC RF(AUC = %0.2f)' % (roc_auc));\n",
    "plt.plot([0, 1], [0, 1], linestyle='--', lw=2, color='r',\n",
    "         label='Chance', alpha=.8)\n",
    "plt.xlim([-0.05, 1.05])\n",
    "plt.ylim([-0.05, 1.05])\n",
    "plt.xlabel('False Positive Rate')\n",
    "plt.ylabel('True Positive Rate')\n",
    "plt.title('ROC viewed')\n",
    "plt.legend(loc=\"lower right\");\n",
    "plt.axis('square');"
   ]
  },
  {
   "cell_type": "code",
   "execution_count": 193,
   "metadata": {
    "colab": {
     "base_uri": "https://localhost:8080/",
     "height": 34
    },
    "colab_type": "code",
    "executionInfo": {
     "elapsed": 498,
     "status": "ok",
     "timestamp": 1561309083545,
     "user": {
      "displayName": "Marco B.",
      "photoUrl": "https://lh4.googleusercontent.com/-UCwdW0bUFwk/AAAAAAAAAAI/AAAAAAAAIIg/behzAmlzOhc/s64/photo.jpg",
      "userId": "09882507054701017253"
     },
     "user_tz": -120
    },
    "id": "-u2EAqurvdvP",
    "outputId": "2115dfad-6c7a-482a-ff17-eb4974a31fcc"
   },
   "outputs": [
    {
     "name": "stdout",
     "output_type": "stream",
     "text": [
      "-7716.0\n"
     ]
    }
   ],
   "source": [
    "score_do_nothing=cm_score_manual(y_test,0*y_test, reward=X_test['offer_reward'],loss_of_revenue_per_hour= 0.12,duration=X_test['duration_hours'])\n",
    "print(score_do_nothing)"
   ]
  },
  {
   "cell_type": "code",
   "execution_count": null,
   "metadata": {
    "colab": {},
    "colab_type": "code",
    "id": "bxvlC8bgpbGr"
   },
   "outputs": [],
   "source": []
  },
  {
   "cell_type": "code",
   "execution_count": null,
   "metadata": {
    "colab": {},
    "colab_type": "code",
    "id": "0Iwf9-CfpbKE"
   },
   "outputs": [],
   "source": []
  },
  {
   "cell_type": "code",
   "execution_count": null,
   "metadata": {
    "colab": {},
    "colab_type": "code",
    "id": "VHghEDFYpbOS"
   },
   "outputs": [],
   "source": []
  },
  {
   "cell_type": "code",
   "execution_count": null,
   "metadata": {
    "colab": {},
    "colab_type": "code",
    "id": "wve3Te0fpbR2"
   },
   "outputs": [],
   "source": []
  },
  {
   "cell_type": "code",
   "execution_count": null,
   "metadata": {
    "colab": {
     "base_uri": "https://localhost:8080/",
     "height": 217
    },
    "colab_type": "code",
    "executionInfo": {
     "elapsed": 583,
     "status": "ok",
     "timestamp": 1560280620972,
     "user": {
      "displayName": "Marco B.",
      "photoUrl": "https://lh4.googleusercontent.com/-UCwdW0bUFwk/AAAAAAAAAAI/AAAAAAAAIIg/behzAmlzOhc/s64/photo.jpg",
      "userId": "09882507054701017253"
     },
     "user_tz": -120
    },
    "id": "9GBE8AEXCucZ",
    "outputId": "b2e54755-99b1-47e7-f7d4-748a34b58cff"
   },
   "outputs": [
    {
     "data": {
      "text/html": [
       "<div>\n",
       "<style scoped>\n",
       "    .dataframe tbody tr th:only-of-type {\n",
       "        vertical-align: middle;\n",
       "    }\n",
       "\n",
       "    .dataframe tbody tr th {\n",
       "        vertical-align: top;\n",
       "    }\n",
       "\n",
       "    .dataframe thead th {\n",
       "        text-align: right;\n",
       "    }\n",
       "</style>\n",
       "<table border=\"1\" class=\"dataframe\">\n",
       "  <thead>\n",
       "    <tr style=\"text-align: right;\">\n",
       "      <th></th>\n",
       "      <th>person</th>\n",
       "      <th>offer</th>\n",
       "      <th>offer_received</th>\n",
       "      <th>offer_viewed</th>\n",
       "      <th>offer_completed</th>\n",
       "      <th>reward</th>\n",
       "      <th>offer_end</th>\n",
       "      <th>difficulty</th>\n",
       "      <th>duration</th>\n",
       "      <th>offer_type</th>\n",
       "      <th>web</th>\n",
       "      <th>email</th>\n",
       "      <th>mobile</th>\n",
       "      <th>social</th>\n",
       "      <th>offer_reward</th>\n",
       "      <th>duration_hours</th>\n",
       "      <th>duration_viewed</th>\n",
       "      <th>duration_effective</th>\n",
       "      <th>viewed</th>\n",
       "      <th>rewarded</th>\n",
       "      <th>received</th>\n",
       "      <th>comp_not_viewed</th>\n",
       "      <th>completed</th>\n",
       "      <th>Tpay_out</th>\n",
       "      <th>Npay_out</th>\n",
       "      <th>Tpay_offers_tot</th>\n",
       "      <th>Npay_offers_tot</th>\n",
       "      <th>Tpay_offer</th>\n",
       "      <th>Npay_offer</th>\n",
       "      <th>tot_gross_offer_time</th>\n",
       "      <th>tot_net_offers_time</th>\n",
       "      <th>tot_not_offers_time</th>\n",
       "      <th>age</th>\n",
       "      <th>became_member_on</th>\n",
       "      <th>gender</th>\n",
       "      <th>income</th>\n",
       "      <th>joined_year</th>\n",
       "      <th>joined_month</th>\n",
       "      <th>joined_week</th>\n",
       "      <th>gender_num</th>\n",
       "      <th>user_time</th>\n",
       "      <th>Avg_pay_offer</th>\n",
       "      <th>Avg_pay_offers</th>\n",
       "      <th>Avg_pay_outside</th>\n",
       "      <th>Avg_D_O</th>\n",
       "      <th>Avg_D_OS</th>\n",
       "    </tr>\n",
       "  </thead>\n",
       "  <tbody>\n",
       "    <tr>\n",
       "      <th>0</th>\n",
       "      <td>78afa995795e4d85b5d9ceeca43f5fef</td>\n",
       "      <td>g</td>\n",
       "      <td>0</td>\n",
       "      <td>6.0</td>\n",
       "      <td>132.0</td>\n",
       "      <td>5.0</td>\n",
       "      <td>168.0</td>\n",
       "      <td>5</td>\n",
       "      <td>7</td>\n",
       "      <td>bogo</td>\n",
       "      <td>True</td>\n",
       "      <td>True</td>\n",
       "      <td>True</td>\n",
       "      <td>False</td>\n",
       "      <td>5</td>\n",
       "      <td>168.0</td>\n",
       "      <td>162.0</td>\n",
       "      <td>162.0</td>\n",
       "      <td>True</td>\n",
       "      <td>True</td>\n",
       "      <td>True</td>\n",
       "      <td>False</td>\n",
       "      <td>True</td>\n",
       "      <td>0.00</td>\n",
       "      <td>0.0</td>\n",
       "      <td>135.34</td>\n",
       "      <td>6.0</td>\n",
       "      <td>37.67</td>\n",
       "      <td>2.0</td>\n",
       "      <td>396.0</td>\n",
       "      <td>400.0</td>\n",
       "      <td>344.0</td>\n",
       "      <td>75</td>\n",
       "      <td>2017-05-09</td>\n",
       "      <td>F</td>\n",
       "      <td>100000.0</td>\n",
       "      <td>2017</td>\n",
       "      <td>5</td>\n",
       "      <td>19</td>\n",
       "      <td>0</td>\n",
       "      <td>443</td>\n",
       "      <td>0.232531</td>\n",
       "      <td>0.338350</td>\n",
       "      <td>0.000000</td>\n",
       "      <td>0.232531</td>\n",
       "      <td>0.338350</td>\n",
       "    </tr>\n",
       "    <tr>\n",
       "      <th>1</th>\n",
       "      <td>ebe7ef46ea6f4963a7dd49f501b26779</td>\n",
       "      <td>g</td>\n",
       "      <td>0</td>\n",
       "      <td>NaN</td>\n",
       "      <td>NaN</td>\n",
       "      <td>0.0</td>\n",
       "      <td>168.0</td>\n",
       "      <td>5</td>\n",
       "      <td>7</td>\n",
       "      <td>bogo</td>\n",
       "      <td>True</td>\n",
       "      <td>True</td>\n",
       "      <td>True</td>\n",
       "      <td>False</td>\n",
       "      <td>5</td>\n",
       "      <td>168.0</td>\n",
       "      <td>0.0</td>\n",
       "      <td>0.0</td>\n",
       "      <td>False</td>\n",
       "      <td>False</td>\n",
       "      <td>True</td>\n",
       "      <td>False</td>\n",
       "      <td>False</td>\n",
       "      <td>52.08</td>\n",
       "      <td>13.0</td>\n",
       "      <td>49.17</td>\n",
       "      <td>11.0</td>\n",
       "      <td>0.00</td>\n",
       "      <td>0.0</td>\n",
       "      <td>390.0</td>\n",
       "      <td>297.0</td>\n",
       "      <td>447.0</td>\n",
       "      <td>59</td>\n",
       "      <td>2015-01-21</td>\n",
       "      <td>M</td>\n",
       "      <td>41000.0</td>\n",
       "      <td>2015</td>\n",
       "      <td>1</td>\n",
       "      <td>4</td>\n",
       "      <td>1</td>\n",
       "      <td>1282</td>\n",
       "      <td>0.000000</td>\n",
       "      <td>0.165556</td>\n",
       "      <td>0.116510</td>\n",
       "      <td>-0.116510</td>\n",
       "      <td>0.049045</td>\n",
       "    </tr>\n",
       "    <tr>\n",
       "      <th>2</th>\n",
       "      <td>f082d80f0aac47a99173ba8ef8fc1909</td>\n",
       "      <td>g</td>\n",
       "      <td>0</td>\n",
       "      <td>48.0</td>\n",
       "      <td>12.0</td>\n",
       "      <td>5.0</td>\n",
       "      <td>168.0</td>\n",
       "      <td>5</td>\n",
       "      <td>7</td>\n",
       "      <td>bogo</td>\n",
       "      <td>True</td>\n",
       "      <td>True</td>\n",
       "      <td>True</td>\n",
       "      <td>False</td>\n",
       "      <td>5</td>\n",
       "      <td>168.0</td>\n",
       "      <td>120.0</td>\n",
       "      <td>120.0</td>\n",
       "      <td>True</td>\n",
       "      <td>True</td>\n",
       "      <td>True</td>\n",
       "      <td>False</td>\n",
       "      <td>True</td>\n",
       "      <td>40.94</td>\n",
       "      <td>14.0</td>\n",
       "      <td>24.86</td>\n",
       "      <td>9.0</td>\n",
       "      <td>14.64</td>\n",
       "      <td>4.0</td>\n",
       "      <td>402.0</td>\n",
       "      <td>327.0</td>\n",
       "      <td>417.0</td>\n",
       "      <td>40</td>\n",
       "      <td>2016-07-09</td>\n",
       "      <td>M</td>\n",
       "      <td>33000.0</td>\n",
       "      <td>2016</td>\n",
       "      <td>7</td>\n",
       "      <td>27</td>\n",
       "      <td>1</td>\n",
       "      <td>747</td>\n",
       "      <td>0.122000</td>\n",
       "      <td>0.076024</td>\n",
       "      <td>0.098177</td>\n",
       "      <td>0.023823</td>\n",
       "      <td>-0.022153</td>\n",
       "    </tr>\n",
       "    <tr>\n",
       "      <th>3</th>\n",
       "      <td>c0d210398dee4a0895b24444a5fcd1d2</td>\n",
       "      <td>g</td>\n",
       "      <td>0</td>\n",
       "      <td>30.0</td>\n",
       "      <td>66.0</td>\n",
       "      <td>5.0</td>\n",
       "      <td>168.0</td>\n",
       "      <td>5</td>\n",
       "      <td>7</td>\n",
       "      <td>bogo</td>\n",
       "      <td>True</td>\n",
       "      <td>True</td>\n",
       "      <td>True</td>\n",
       "      <td>False</td>\n",
       "      <td>5</td>\n",
       "      <td>168.0</td>\n",
       "      <td>138.0</td>\n",
       "      <td>138.0</td>\n",
       "      <td>True</td>\n",
       "      <td>True</td>\n",
       "      <td>True</td>\n",
       "      <td>False</td>\n",
       "      <td>True</td>\n",
       "      <td>0.00</td>\n",
       "      <td>0.0</td>\n",
       "      <td>54.05</td>\n",
       "      <td>7.0</td>\n",
       "      <td>6.01</td>\n",
       "      <td>1.0</td>\n",
       "      <td>570.0</td>\n",
       "      <td>482.0</td>\n",
       "      <td>262.0</td>\n",
       "      <td>45</td>\n",
       "      <td>2018-07-07</td>\n",
       "      <td>M</td>\n",
       "      <td>33000.0</td>\n",
       "      <td>2018</td>\n",
       "      <td>7</td>\n",
       "      <td>27</td>\n",
       "      <td>1</td>\n",
       "      <td>19</td>\n",
       "      <td>0.043551</td>\n",
       "      <td>0.112137</td>\n",
       "      <td>0.000000</td>\n",
       "      <td>0.043551</td>\n",
       "      <td>0.112137</td>\n",
       "    </tr>\n",
       "    <tr>\n",
       "      <th>4</th>\n",
       "      <td>57dd18ec5ddc46828afb81ec5977bef2</td>\n",
       "      <td>g</td>\n",
       "      <td>0</td>\n",
       "      <td>NaN</td>\n",
       "      <td>NaN</td>\n",
       "      <td>0.0</td>\n",
       "      <td>168.0</td>\n",
       "      <td>5</td>\n",
       "      <td>7</td>\n",
       "      <td>bogo</td>\n",
       "      <td>True</td>\n",
       "      <td>True</td>\n",
       "      <td>True</td>\n",
       "      <td>False</td>\n",
       "      <td>5</td>\n",
       "      <td>168.0</td>\n",
       "      <td>0.0</td>\n",
       "      <td>0.0</td>\n",
       "      <td>False</td>\n",
       "      <td>False</td>\n",
       "      <td>True</td>\n",
       "      <td>False</td>\n",
       "      <td>False</td>\n",
       "      <td>0.00</td>\n",
       "      <td>0.0</td>\n",
       "      <td>219.54</td>\n",
       "      <td>8.0</td>\n",
       "      <td>0.00</td>\n",
       "      <td>0.0</td>\n",
       "      <td>492.0</td>\n",
       "      <td>453.0</td>\n",
       "      <td>291.0</td>\n",
       "      <td>54</td>\n",
       "      <td>2017-02-07</td>\n",
       "      <td>F</td>\n",
       "      <td>80000.0</td>\n",
       "      <td>2017</td>\n",
       "      <td>2</td>\n",
       "      <td>6</td>\n",
       "      <td>0</td>\n",
       "      <td>534</td>\n",
       "      <td>0.000000</td>\n",
       "      <td>0.484636</td>\n",
       "      <td>0.000000</td>\n",
       "      <td>0.000000</td>\n",
       "      <td>0.484636</td>\n",
       "    </tr>\n",
       "  </tbody>\n",
       "</table>\n",
       "</div>"
      ],
      "text/plain": [
       "                             person offer  ...   Avg_D_O  Avg_D_OS\n",
       "0  78afa995795e4d85b5d9ceeca43f5fef     g  ...  0.232531  0.338350\n",
       "1  ebe7ef46ea6f4963a7dd49f501b26779     g  ... -0.116510  0.049045\n",
       "2  f082d80f0aac47a99173ba8ef8fc1909     g  ...  0.023823 -0.022153\n",
       "3  c0d210398dee4a0895b24444a5fcd1d2     g  ...  0.043551  0.112137\n",
       "4  57dd18ec5ddc46828afb81ec5977bef2     g  ...  0.000000  0.484636\n",
       "\n",
       "[5 rows x 46 columns]"
      ]
     },
     "execution_count": 64,
     "metadata": {
      "tags": []
     },
     "output_type": "execute_result"
    }
   ],
   "source": [
    "out.head()"
   ]
  },
  {
   "cell_type": "code",
   "execution_count": null,
   "metadata": {
    "colab": {},
    "colab_type": "code",
    "id": "kCr4GUmn_wHd"
   },
   "outputs": [],
   "source": [
    "def cmp_hist4(out,var):\n",
    "  \n",
    "  cnv= ( (out.rewarded==True)  & (  out.viewed==True )  )\n",
    "  out.loc[cnv,var].hist(bins=50,histtype='step',lw=2,label='compl. & viewed',density=True,alpha=0.5);\n",
    "\n",
    "  cnv= ( (out.rewarded==True)  & (  out.viewed==False )  )\n",
    "  out.loc[cnv,var].hist(bins=50,histtype='step',lw=2,label='compl. not viewed',density=True,alpha=0.5);\n",
    "  \n",
    "  cnv= ( (out.rewarded==False)  & (  out.viewed==True )  )\n",
    "  out.loc[cnv,var].hist(bins=50,histtype='step',lw=2,label='not compl. & viewed',density=True,alpha=0.5);\n",
    "\n",
    "  cnv= ( (out.rewarded==False)  & (  out.viewed==False )  )\n",
    "  out.loc[cnv,var].hist(bins=50,histtype='step',lw=2,label='not compl. & not viewed',density=True,alpha=0.5);\n",
    "  \n",
    "  \n",
    "  plt.legend(loc=1);\n",
    "  plt.title(var);"
   ]
  },
  {
   "cell_type": "code",
   "execution_count": null,
   "metadata": {
    "colab": {},
    "colab_type": "code",
    "id": "i2osjm_7Haer"
   },
   "outputs": [],
   "source": [
    "def cmp_hist(out,var):\n",
    "  \n",
    "  cnv= ( (out.rewarded==True)  & (  out.viewed==True )  )\n",
    "  out.loc[cnv,var].hist(bins=50,histtype='step',lw=2,label='compl. & viewed',density=True,alpha=0.5);\n",
    "\n",
    "  cnv= ( (out.rewarded==True)  & (  out.viewed==False )  )\n",
    "  out.loc[cnv,var].hist(bins=50,histtype='step',lw=2,label='compl. not viewed',density=True,alpha=0.5);\n",
    "  plt.legend(loc=1);\n",
    "  plt.title(var);"
   ]
  },
  {
   "cell_type": "code",
   "execution_count": null,
   "metadata": {
    "colab": {
     "base_uri": "https://localhost:8080/",
     "height": 316
    },
    "colab_type": "code",
    "executionInfo": {
     "elapsed": 807,
     "status": "ok",
     "timestamp": 1561023405465,
     "user": {
      "displayName": "Marco B.",
      "photoUrl": "https://lh4.googleusercontent.com/-UCwdW0bUFwk/AAAAAAAAAAI/AAAAAAAAIIg/behzAmlzOhc/s64/photo.jpg",
      "userId": "09882507054701017253"
     },
     "user_tz": -120
    },
    "id": "TC_VrLcyHlhi",
    "outputId": "2a8121e0-4ad3-43a2-88de-304f8223cc7b"
   },
   "outputs": [
    {
     "name": "stderr",
     "output_type": "stream",
     "text": [
      "/usr/local/lib/python3.6/dist-packages/numpy/lib/histograms.py:893: RuntimeWarning: invalid value encountered in true_divide\n",
      "  return n/db/n.sum(), bin_edges\n"
     ]
    },
    {
     "data": {
      "image/png": "[encoded data removed]",
      "text/plain": [
       "<Figure size 432x288 with 1 Axes>"
      ]
     },
     "metadata": {
      "tags": []
     },
     "output_type": "display_data"
    }
   ],
   "source": [
    "cmp_hist4(out,'income')"
   ]
  },
  {
   "cell_type": "code",
   "execution_count": null,
   "metadata": {
    "colab": {
     "base_uri": "https://localhost:8080/",
     "height": 316
    },
    "colab_type": "code",
    "executionInfo": {
     "elapsed": 731,
     "status": "ok",
     "timestamp": 1561023432281,
     "user": {
      "displayName": "Marco B.",
      "photoUrl": "https://lh4.googleusercontent.com/-UCwdW0bUFwk/AAAAAAAAAAI/AAAAAAAAIIg/behzAmlzOhc/s64/photo.jpg",
      "userId": "09882507054701017253"
     },
     "user_tz": -120
    },
    "id": "t5cZXhK5Is_p",
    "outputId": "e84c2920-7925-4369-cfb8-10701e666fce"
   },
   "outputs": [
    {
     "name": "stderr",
     "output_type": "stream",
     "text": [
      "/usr/local/lib/python3.6/dist-packages/numpy/lib/histograms.py:893: RuntimeWarning: invalid value encountered in true_divide\n",
      "  return n/db/n.sum(), bin_edges\n"
     ]
    },
    {
     "data": {
      "image/png": "[encoded data removed]",
      "text/plain": [
       "<Figure size 432x288 with 1 Axes>"
      ]
     },
     "metadata": {
      "tags": []
     },
     "output_type": "display_data"
    }
   ],
   "source": [
    "cmp_hist4(out,'user_time')"
   ]
  },
  {
   "cell_type": "code",
   "execution_count": null,
   "metadata": {
    "colab": {
     "base_uri": "https://localhost:8080/",
     "height": 316
    },
    "colab_type": "code",
    "executionInfo": {
     "elapsed": 655,
     "status": "ok",
     "timestamp": 1561023442632,
     "user": {
      "displayName": "Marco B.",
      "photoUrl": "https://lh4.googleusercontent.com/-UCwdW0bUFwk/AAAAAAAAAAI/AAAAAAAAIIg/behzAmlzOhc/s64/photo.jpg",
      "userId": "09882507054701017253"
     },
     "user_tz": -120
    },
    "id": "s-0QEnd0Iws1",
    "outputId": "5ea375af-f8c6-4aa1-aa38-5e7b78462a5a"
   },
   "outputs": [
    {
     "name": "stderr",
     "output_type": "stream",
     "text": [
      "/usr/local/lib/python3.6/dist-packages/numpy/lib/histograms.py:893: RuntimeWarning: invalid value encountered in true_divide\n",
      "  return n/db/n.sum(), bin_edges\n"
     ]
    },
    {
     "data": {
      "image/png": "[encoded data removed]",
      "text/plain": [
       "<Figure size 432x288 with 1 Axes>"
      ]
     },
     "metadata": {
      "tags": []
     },
     "output_type": "display_data"
    }
   ],
   "source": [
    "cmp_hist4(out,'age')"
   ]
  },
  {
   "cell_type": "code",
   "execution_count": null,
   "metadata": {
    "colab": {},
    "colab_type": "code",
    "id": "_j23xy6U-0FK"
   },
   "outputs": [],
   "source": []
  },
  {
   "cell_type": "code",
   "execution_count": null,
   "metadata": {
    "colab": {
     "base_uri": "https://localhost:8080/",
     "height": 123
    },
    "colab_type": "code",
    "executionInfo": {
     "elapsed": 568,
     "status": "ok",
     "timestamp": 1560280495574,
     "user": {
      "displayName": "Marco B.",
      "photoUrl": "https://lh4.googleusercontent.com/-UCwdW0bUFwk/AAAAAAAAAAI/AAAAAAAAIIg/behzAmlzOhc/s64/photo.jpg",
      "userId": "09882507054701017253"
     },
     "user_tz": -120
    },
    "id": "xjoBv45p9Y0T",
    "outputId": "7205fa28-4572-4254-e246-81321d40d17e"
   },
   "outputs": [
    {
     "data": {
      "text/plain": [
       "viewed  social\n",
       "False   False     0.831008\n",
       "        True      0.168992\n",
       "True    True      0.747141\n",
       "        False     0.252859\n",
       "Name: social, dtype: float64"
      ]
     },
     "execution_count": 63,
     "metadata": {
      "tags": []
     },
     "output_type": "execute_result"
    }
   ],
   "source": [
    "var='social'\n",
    "out.loc[out.rewarded==True].groupby(by=\"viewed\")[var].value_counts(normalize=True)"
   ]
  },
  {
   "cell_type": "code",
   "execution_count": null,
   "metadata": {
    "colab": {
     "base_uri": "https://localhost:8080/",
     "height": 158
    },
    "colab_type": "code",
    "executionInfo": {
     "elapsed": 562,
     "status": "ok",
     "timestamp": 1560280727114,
     "user": {
      "displayName": "Marco B.",
      "photoUrl": "https://lh4.googleusercontent.com/-UCwdW0bUFwk/AAAAAAAAAAI/AAAAAAAAIIg/behzAmlzOhc/s64/photo.jpg",
      "userId": "09882507054701017253"
     },
     "user_tz": -120
    },
    "id": "B46orbeg9Y5a",
    "outputId": "90ded006-4c2a-4359-fc30-158e71e3f628"
   },
   "outputs": [
    {
     "data": {
      "text/plain": [
       "viewed  gender\n",
       "False   F         0.510600\n",
       "        M         0.481204\n",
       "        O         0.008195\n",
       "True    M         0.513307\n",
       "        F         0.469756\n",
       "        O         0.016937\n",
       "Name: gender, dtype: float64"
      ]
     },
     "execution_count": 65,
     "metadata": {
      "tags": []
     },
     "output_type": "execute_result"
    }
   ],
   "source": [
    "var='gender'\n",
    "out.loc[out.rewarded==True].groupby(by=\"viewed\")[var].value_counts(normalize=True)"
   ]
  },
  {
   "cell_type": "code",
   "execution_count": null,
   "metadata": {
    "colab": {},
    "colab_type": "code",
    "id": "B9OlWQDB9ZB-"
   },
   "outputs": [],
   "source": []
  },
  {
   "cell_type": "code",
   "execution_count": null,
   "metadata": {
    "colab": {
     "base_uri": "https://localhost:8080/",
     "height": 68
    },
    "colab_type": "code",
    "executionInfo": {
     "elapsed": 634,
     "status": "ok",
     "timestamp": 1560267243714,
     "user": {
      "displayName": "Marco B.",
      "photoUrl": "https://lh4.googleusercontent.com/-UCwdW0bUFwk/AAAAAAAAAAI/AAAAAAAAIIg/behzAmlzOhc/s64/photo.jpg",
      "userId": "09882507054701017253"
     },
     "user_tz": -120
    },
    "id": "QZSu9efxJAXi",
    "outputId": "e7903e84-834d-419f-862b-a45503f9845c"
   },
   "outputs": [
    {
     "data": {
      "text/plain": [
       "True     20843\n",
       "False     7054\n",
       "Name: social, dtype: int64"
      ]
     },
     "execution_count": 99,
     "metadata": {
      "tags": []
     },
     "output_type": "execute_result"
    }
   ],
   "source": [
    "cnv= ( (out.rewarded==True)  & (  out.viewed==True )  )\n",
    "out.loc[cnv,'social'].value_counts()\n",
    "\n"
   ]
  },
  {
   "cell_type": "code",
   "execution_count": null,
   "metadata": {
    "colab": {
     "base_uri": "https://localhost:8080/",
     "height": 68
    },
    "colab_type": "code",
    "executionInfo": {
     "elapsed": 622,
     "status": "ok",
     "timestamp": 1560267259448,
     "user": {
      "displayName": "Marco B.",
      "photoUrl": "https://lh4.googleusercontent.com/-UCwdW0bUFwk/AAAAAAAAAAI/AAAAAAAAIIg/behzAmlzOhc/s64/photo.jpg",
      "userId": "09882507054701017253"
     },
     "user_tz": -120
    },
    "id": "nH9lBk-qLA5H",
    "outputId": "ccc3e130-6ea8-4bee-cee5-2196b2edec8e"
   },
   "outputs": [
    {
     "data": {
      "text/plain": [
       "False    4765\n",
       "True      969\n",
       "Name: social, dtype: int64"
      ]
     },
     "execution_count": 100,
     "metadata": {
      "tags": []
     },
     "output_type": "execute_result"
    }
   ],
   "source": [
    "cnv= ( (out.rewarded==True)  & (  out.viewed==False )  )\n",
    "out.loc[cnv,'social'].value_counts()"
   ]
  },
  {
   "cell_type": "code",
   "execution_count": null,
   "metadata": {
    "colab": {},
    "colab_type": "code",
    "id": "qzwmxes5LPuI"
   },
   "outputs": [],
   "source": [
    "\n",
    "\n"
   ]
  },
  {
   "cell_type": "code",
   "execution_count": null,
   "metadata": {
    "colab": {},
    "colab_type": "code",
    "id": "O3UUpbYjLa-J"
   },
   "outputs": [],
   "source": [
    "col_scale=['Tpay_out', 'income',  'offer_received', 'Npay_out', 'user_time', 'Avg_pay_outside', 'age']\n",
    "scaler=StandardScaler()\n",
    "\n",
    "scaler.fit(X_train[col_scale])\n",
    "\n",
    "\n",
    "def apply_scaling(X,scaler,col_scale):\n",
    "  X_scaled=scaler.transform(X[col_scale])\n",
    "  X_scaled=pd.DataFrame(X_scaled,columns=col_scale,index=X.index)\n",
    "  \n",
    "  other_cols=set(X.columns)-set(col_scale)\n",
    "  X2=pd.concat((X_scaled,X[other_cols]),axis=1)\n",
    "  return(X2)\n"
   ]
  },
  {
   "cell_type": "code",
   "execution_count": null,
   "metadata": {
    "colab": {},
    "colab_type": "code",
    "id": "mE6lXCO7zIoH"
   },
   "outputs": [],
   "source": [
    "X2_train=apply_scaling(X_train,scaler,col_scale)\n",
    "X2_test=apply_scaling(X_test,scaler,col_scale)\n"
   ]
  },
  {
   "cell_type": "code",
   "execution_count": null,
   "metadata": {
    "colab": {
     "base_uri": "https://localhost:8080/",
     "height": 224
    },
    "colab_type": "code",
    "executionInfo": {
     "elapsed": 577,
     "status": "ok",
     "timestamp": 1561042318740,
     "user": {
      "displayName": "Marco B.",
      "photoUrl": "https://lh4.googleusercontent.com/-UCwdW0bUFwk/AAAAAAAAAAI/AAAAAAAAIIg/behzAmlzOhc/s64/photo.jpg",
      "userId": "09882507054701017253"
     },
     "user_tz": -120
    },
    "id": "7puOgqmLzooG",
    "outputId": "457e8789-5484-40e6-cec4-aabbcf0b91fa"
   },
   "outputs": [
    {
     "data": {
      "text/html": [
       "<div>\n",
       "<style scoped>\n",
       "    .dataframe tbody tr th:only-of-type {\n",
       "        vertical-align: middle;\n",
       "    }\n",
       "\n",
       "    .dataframe tbody tr th {\n",
       "        vertical-align: top;\n",
       "    }\n",
       "\n",
       "    .dataframe thead th {\n",
       "        text-align: right;\n",
       "    }\n",
       "</style>\n",
       "<table border=\"1\" class=\"dataframe\">\n",
       "  <thead>\n",
       "    <tr style=\"text-align: right;\">\n",
       "      <th></th>\n",
       "      <th>Tpay_out</th>\n",
       "      <th>income</th>\n",
       "      <th>offer_received</th>\n",
       "      <th>Npay_out</th>\n",
       "      <th>user_time</th>\n",
       "      <th>Avg_pay_outside</th>\n",
       "      <th>age</th>\n",
       "      <th>offer_type_bogo</th>\n",
       "      <th>gender_O</th>\n",
       "      <th>web</th>\n",
       "      <th>mobile</th>\n",
       "      <th>gender_F</th>\n",
       "      <th>gender_M</th>\n",
       "      <th>social</th>\n",
       "      <th>offer_type_discount</th>\n",
       "    </tr>\n",
       "  </thead>\n",
       "  <tbody>\n",
       "    <tr>\n",
       "      <th>9905</th>\n",
       "      <td>-0.383536</td>\n",
       "      <td>-1.552600</td>\n",
       "      <td>-0.390355</td>\n",
       "      <td>-0.382812</td>\n",
       "      <td>-0.392713</td>\n",
       "      <td>-0.382760</td>\n",
       "      <td>-0.382864</td>\n",
       "      <td>0</td>\n",
       "      <td>0</td>\n",
       "      <td>1</td>\n",
       "      <td>0</td>\n",
       "      <td>0</td>\n",
       "      <td>1</td>\n",
       "      <td>0</td>\n",
       "      <td>1</td>\n",
       "    </tr>\n",
       "    <tr>\n",
       "      <th>8937</th>\n",
       "      <td>-0.383536</td>\n",
       "      <td>2.158132</td>\n",
       "      <td>-0.398092</td>\n",
       "      <td>-0.382812</td>\n",
       "      <td>-0.367036</td>\n",
       "      <td>-0.382760</td>\n",
       "      <td>-0.382726</td>\n",
       "      <td>0</td>\n",
       "      <td>0</td>\n",
       "      <td>1</td>\n",
       "      <td>0</td>\n",
       "      <td>0</td>\n",
       "      <td>1</td>\n",
       "      <td>0</td>\n",
       "      <td>1</td>\n",
       "    </tr>\n",
       "    <tr>\n",
       "      <th>62098</th>\n",
       "      <td>-0.383536</td>\n",
       "      <td>-0.909407</td>\n",
       "      <td>-0.398092</td>\n",
       "      <td>-0.382812</td>\n",
       "      <td>-0.390404</td>\n",
       "      <td>-0.382760</td>\n",
       "      <td>-0.383965</td>\n",
       "      <td>1</td>\n",
       "      <td>0</td>\n",
       "      <td>0</td>\n",
       "      <td>1</td>\n",
       "      <td>1</td>\n",
       "      <td>0</td>\n",
       "      <td>1</td>\n",
       "      <td>0</td>\n",
       "    </tr>\n",
       "    <tr>\n",
       "      <th>48893</th>\n",
       "      <td>-0.383536</td>\n",
       "      <td>-1.552600</td>\n",
       "      <td>-0.382618</td>\n",
       "      <td>-0.382812</td>\n",
       "      <td>-0.390681</td>\n",
       "      <td>-0.382760</td>\n",
       "      <td>-0.382176</td>\n",
       "      <td>0</td>\n",
       "      <td>0</td>\n",
       "      <td>1</td>\n",
       "      <td>1</td>\n",
       "      <td>0</td>\n",
       "      <td>1</td>\n",
       "      <td>1</td>\n",
       "      <td>1</td>\n",
       "    </tr>\n",
       "    <tr>\n",
       "      <th>50613</th>\n",
       "      <td>2.612618</td>\n",
       "      <td>-0.000446</td>\n",
       "      <td>2.612535</td>\n",
       "      <td>2.612628</td>\n",
       "      <td>2.612202</td>\n",
       "      <td>2.612628</td>\n",
       "      <td>2.612627</td>\n",
       "      <td>0</td>\n",
       "      <td>0</td>\n",
       "      <td>65371</td>\n",
       "      <td>65371</td>\n",
       "      <td>0</td>\n",
       "      <td>0</td>\n",
       "      <td>65371</td>\n",
       "      <td>1</td>\n",
       "    </tr>\n",
       "  </tbody>\n",
       "</table>\n",
       "</div>"
      ],
      "text/plain": [
       "       Tpay_out    income  ...  social  offer_type_discount\n",
       "9905  -0.383536 -1.552600  ...       0                    1\n",
       "8937  -0.383536  2.158132  ...       0                    1\n",
       "62098 -0.383536 -0.909407  ...       1                    0\n",
       "48893 -0.383536 -1.552600  ...       1                    1\n",
       "50613  2.612618 -0.000446  ...   65371                    1\n",
       "\n",
       "[5 rows x 15 columns]"
      ]
     },
     "execution_count": 46,
     "metadata": {
      "tags": []
     },
     "output_type": "execute_result"
    }
   ],
   "source": [
    "X2_train.head()"
   ]
  },
  {
   "cell_type": "code",
   "execution_count": null,
   "metadata": {
    "colab": {
     "base_uri": "https://localhost:8080/",
     "height": 340
    },
    "colab_type": "code",
    "executionInfo": {
     "elapsed": 356561,
     "status": "error",
     "timestamp": 1561042678447,
     "user": {
      "displayName": "Marco B.",
      "photoUrl": "https://lh4.googleusercontent.com/-UCwdW0bUFwk/AAAAAAAAAAI/AAAAAAAAIIg/behzAmlzOhc/s64/photo.jpg",
      "userId": "09882507054701017253"
     },
     "user_tz": -120
    },
    "id": "SYWHxMAy2amK",
    "outputId": "7f6d03fe-2b72-4c3c-befa-e8fbe9034e8b"
   },
   "outputs": [
    {
     "ename": "KeyboardInterrupt",
     "evalue": "ignored",
     "output_type": "error",
     "traceback": [
      "\u001b[0;31m---------------------------------------------------------------------------\u001b[0m",
      "\u001b[0;31mKeyboardInterrupt\u001b[0m                         Traceback (most recent call last)",
      "\u001b[0;32m<ipython-input-47-5e15c3591fbd>\u001b[0m in \u001b[0;36m<module>\u001b[0;34m()\u001b[0m\n\u001b[1;32m     12\u001b[0m \u001b[0mrandom_search\u001b[0m \u001b[0;34m=\u001b[0m \u001b[0mRandomizedSearchCV\u001b[0m\u001b[0;34m(\u001b[0m\u001b[0mclf\u001b[0m\u001b[0;34m,\u001b[0m \u001b[0mparam_distributions\u001b[0m\u001b[0;34m=\u001b[0m\u001b[0mparam_dist\u001b[0m\u001b[0;34m,\u001b[0m  \u001b[0mcv\u001b[0m\u001b[0;34m=\u001b[0m\u001b[0;36m5\u001b[0m\u001b[0;34m,\u001b[0m \u001b[0miid\u001b[0m\u001b[0;34m=\u001b[0m\u001b[0;32mFalse\u001b[0m\u001b[0;34m)\u001b[0m\u001b[0;34m\u001b[0m\u001b[0;34m\u001b[0m\u001b[0m\n\u001b[1;32m     13\u001b[0m \u001b[0;34m\u001b[0m\u001b[0m\n\u001b[0;32m---> 14\u001b[0;31m \u001b[0mrandom_search\u001b[0m\u001b[0;34m.\u001b[0m\u001b[0mfit\u001b[0m\u001b[0;34m(\u001b[0m\u001b[0mX2_train\u001b[0m\u001b[0;34m,\u001b[0m \u001b[0my_train\u001b[0m\u001b[0;34m)\u001b[0m\u001b[0;34m\u001b[0m\u001b[0;34m\u001b[0m\u001b[0m\n\u001b[0m",
      "\u001b[0;32m/usr/local/lib/python3.6/dist-packages/sklearn/model_selection/_search.py\u001b[0m in \u001b[0;36mfit\u001b[0;34m(self, X, y, groups, **fit_params)\u001b[0m\n\u001b[1;32m    685\u001b[0m                 \u001b[0;32mreturn\u001b[0m \u001b[0mresults\u001b[0m\u001b[0;34m\u001b[0m\u001b[0;34m\u001b[0m\u001b[0m\n\u001b[1;32m    686\u001b[0m \u001b[0;34m\u001b[0m\u001b[0m\n\u001b[0;32m--> 687\u001b[0;31m             \u001b[0mself\u001b[0m\u001b[0;34m.\u001b[0m\u001b[0m_run_search\u001b[0m\u001b[0;34m(\u001b[0m\u001b[0mevaluate_candidates\u001b[0m\u001b[0;34m)\u001b[0m\u001b[0;34m\u001b[0m\u001b[0;34m\u001b[0m\u001b[0m\n\u001b[0m\u001b[1;32m    688\u001b[0m \u001b[0;34m\u001b[0m\u001b[0m\n\u001b[1;32m    689\u001b[0m         \u001b[0;31m# For multi-metric evaluation, store the best_index_, best_params_ and\u001b[0m\u001b[0;34m\u001b[0m\u001b[0;34m\u001b[0m\u001b[0;34m\u001b[0m\u001b[0m\n",
      "\u001b[0;32m/usr/local/lib/python3.6/dist-packages/sklearn/model_selection/_search.py\u001b[0m in \u001b[0;36m_run_search\u001b[0;34m(self, evaluate_candidates)\u001b[0m\n\u001b[1;32m   1466\u001b[0m         evaluate_candidates(ParameterSampler(\n\u001b[1;32m   1467\u001b[0m             \u001b[0mself\u001b[0m\u001b[0;34m.\u001b[0m\u001b[0mparam_distributions\u001b[0m\u001b[0;34m,\u001b[0m \u001b[0mself\u001b[0m\u001b[0;34m.\u001b[0m\u001b[0mn_iter\u001b[0m\u001b[0;34m,\u001b[0m\u001b[0;34m\u001b[0m\u001b[0;34m\u001b[0m\u001b[0m\n\u001b[0;32m-> 1468\u001b[0;31m             random_state=self.random_state))\n\u001b[0m",
      "\u001b[0;32m/usr/local/lib/python3.6/dist-packages/sklearn/model_selection/_search.py\u001b[0m in \u001b[0;36mevaluate_candidates\u001b[0;34m(candidate_params)\u001b[0m\n\u001b[1;32m    664\u001b[0m                                \u001b[0;32mfor\u001b[0m \u001b[0mparameters\u001b[0m\u001b[0;34m,\u001b[0m \u001b[0;34m(\u001b[0m\u001b[0mtrain\u001b[0m\u001b[0;34m,\u001b[0m \u001b[0mtest\u001b[0m\u001b[0;34m)\u001b[0m\u001b[0;34m\u001b[0m\u001b[0;34m\u001b[0m\u001b[0m\n\u001b[1;32m    665\u001b[0m                                in product(candidate_params,\n\u001b[0;32m--> 666\u001b[0;31m                                           cv.split(X, y, groups)))\n\u001b[0m\u001b[1;32m    667\u001b[0m \u001b[0;34m\u001b[0m\u001b[0m\n\u001b[1;32m    668\u001b[0m                 \u001b[0;32mif\u001b[0m \u001b[0mlen\u001b[0m\u001b[0;34m(\u001b[0m\u001b[0mout\u001b[0m\u001b[0;34m)\u001b[0m \u001b[0;34m<\u001b[0m \u001b[0;36m1\u001b[0m\u001b[0;34m:\u001b[0m\u001b[0;34m\u001b[0m\u001b[0;34m\u001b[0m\u001b[0m\n",
      "\u001b[0;32m/usr/local/lib/python3.6/dist-packages/joblib/parallel.py\u001b[0m in \u001b[0;36m__call__\u001b[0;34m(self, iterable)\u001b[0m\n\u001b[1;32m    922\u001b[0m                 \u001b[0mself\u001b[0m\u001b[0;34m.\u001b[0m\u001b[0m_iterating\u001b[0m \u001b[0;34m=\u001b[0m \u001b[0mself\u001b[0m\u001b[0;34m.\u001b[0m\u001b[0m_original_iterator\u001b[0m \u001b[0;32mis\u001b[0m \u001b[0;32mnot\u001b[0m \u001b[0;32mNone\u001b[0m\u001b[0;34m\u001b[0m\u001b[0;34m\u001b[0m\u001b[0m\n\u001b[1;32m    923\u001b[0m \u001b[0;34m\u001b[0m\u001b[0m\n\u001b[0;32m--> 924\u001b[0;31m             \u001b[0;32mwhile\u001b[0m \u001b[0mself\u001b[0m\u001b[0;34m.\u001b[0m\u001b[0mdispatch_one_batch\u001b[0m\u001b[0;34m(\u001b[0m\u001b[0miterator\u001b[0m\u001b[0;34m)\u001b[0m\u001b[0;34m:\u001b[0m\u001b[0;34m\u001b[0m\u001b[0;34m\u001b[0m\u001b[0m\n\u001b[0m\u001b[1;32m    925\u001b[0m                 \u001b[0;32mpass\u001b[0m\u001b[0;34m\u001b[0m\u001b[0;34m\u001b[0m\u001b[0m\n\u001b[1;32m    926\u001b[0m \u001b[0;34m\u001b[0m\u001b[0m\n",
      "\u001b[0;32m/usr/local/lib/python3.6/dist-packages/joblib/parallel.py\u001b[0m in \u001b[0;36mdispatch_one_batch\u001b[0;34m(self, iterator)\u001b[0m\n\u001b[1;32m    757\u001b[0m                 \u001b[0;32mreturn\u001b[0m \u001b[0;32mFalse\u001b[0m\u001b[0;34m\u001b[0m\u001b[0;34m\u001b[0m\u001b[0m\n\u001b[1;32m    758\u001b[0m             \u001b[0;32melse\u001b[0m\u001b[0;34m:\u001b[0m\u001b[0;34m\u001b[0m\u001b[0;34m\u001b[0m\u001b[0m\n\u001b[0;32m--> 759\u001b[0;31m                 \u001b[0mself\u001b[0m\u001b[0;34m.\u001b[0m\u001b[0m_dispatch\u001b[0m\u001b[0;34m(\u001b[0m\u001b[0mtasks\u001b[0m\u001b[0;34m)\u001b[0m\u001b[0;34m\u001b[0m\u001b[0;34m\u001b[0m\u001b[0m\n\u001b[0m\u001b[1;32m    760\u001b[0m                 \u001b[0;32mreturn\u001b[0m \u001b[0;32mTrue\u001b[0m\u001b[0;34m\u001b[0m\u001b[0;34m\u001b[0m\u001b[0m\n\u001b[1;32m    761\u001b[0m \u001b[0;34m\u001b[0m\u001b[0m\n",
      "\u001b[0;32m/usr/local/lib/python3.6/dist-packages/joblib/parallel.py\u001b[0m in \u001b[0;36m_dispatch\u001b[0;34m(self, batch)\u001b[0m\n\u001b[1;32m    714\u001b[0m         \u001b[0;32mwith\u001b[0m \u001b[0mself\u001b[0m\u001b[0;34m.\u001b[0m\u001b[0m_lock\u001b[0m\u001b[0;34m:\u001b[0m\u001b[0;34m\u001b[0m\u001b[0;34m\u001b[0m\u001b[0m\n\u001b[1;32m    715\u001b[0m             \u001b[0mjob_idx\u001b[0m \u001b[0;34m=\u001b[0m \u001b[0mlen\u001b[0m\u001b[0;34m(\u001b[0m\u001b[0mself\u001b[0m\u001b[0;34m.\u001b[0m\u001b[0m_jobs\u001b[0m\u001b[0;34m)\u001b[0m\u001b[0;34m\u001b[0m\u001b[0;34m\u001b[0m\u001b[0m\n\u001b[0;32m--> 716\u001b[0;31m             \u001b[0mjob\u001b[0m \u001b[0;34m=\u001b[0m \u001b[0mself\u001b[0m\u001b[0;34m.\u001b[0m\u001b[0m_backend\u001b[0m\u001b[0;34m.\u001b[0m\u001b[0mapply_async\u001b[0m\u001b[0;34m(\u001b[0m\u001b[0mbatch\u001b[0m\u001b[0;34m,\u001b[0m \u001b[0mcallback\u001b[0m\u001b[0;34m=\u001b[0m\u001b[0mcb\u001b[0m\u001b[0;34m)\u001b[0m\u001b[0;34m\u001b[0m\u001b[0;34m\u001b[0m\u001b[0m\n\u001b[0m\u001b[1;32m    717\u001b[0m             \u001b[0;31m# A job can complete so quickly than its callback is\u001b[0m\u001b[0;34m\u001b[0m\u001b[0;34m\u001b[0m\u001b[0;34m\u001b[0m\u001b[0m\n\u001b[1;32m    718\u001b[0m             \u001b[0;31m# called before we get here, causing self._jobs to\u001b[0m\u001b[0;34m\u001b[0m\u001b[0;34m\u001b[0m\u001b[0;34m\u001b[0m\u001b[0m\n",
      "\u001b[0;32m/usr/local/lib/python3.6/dist-packages/joblib/_parallel_backends.py\u001b[0m in \u001b[0;36mapply_async\u001b[0;34m(self, func, callback)\u001b[0m\n\u001b[1;32m    180\u001b[0m     \u001b[0;32mdef\u001b[0m \u001b[0mapply_async\u001b[0m\u001b[0;34m(\u001b[0m\u001b[0mself\u001b[0m\u001b[0;34m,\u001b[0m \u001b[0mfunc\u001b[0m\u001b[0;34m,\u001b[0m \u001b[0mcallback\u001b[0m\u001b[0;34m=\u001b[0m\u001b[0;32mNone\u001b[0m\u001b[0;34m)\u001b[0m\u001b[0;34m:\u001b[0m\u001b[0;34m\u001b[0m\u001b[0;34m\u001b[0m\u001b[0m\n\u001b[1;32m    181\u001b[0m         \u001b[0;34m\"\"\"Schedule a func to be run\"\"\"\u001b[0m\u001b[0;34m\u001b[0m\u001b[0;34m\u001b[0m\u001b[0m\n\u001b[0;32m--> 182\u001b[0;31m         \u001b[0mresult\u001b[0m \u001b[0;34m=\u001b[0m \u001b[0mImmediateResult\u001b[0m\u001b[0;34m(\u001b[0m\u001b[0mfunc\u001b[0m\u001b[0;34m)\u001b[0m\u001b[0;34m\u001b[0m\u001b[0;34m\u001b[0m\u001b[0m\n\u001b[0m\u001b[1;32m    183\u001b[0m         \u001b[0;32mif\u001b[0m \u001b[0mcallback\u001b[0m\u001b[0;34m:\u001b[0m\u001b[0;34m\u001b[0m\u001b[0;34m\u001b[0m\u001b[0m\n\u001b[1;32m    184\u001b[0m             \u001b[0mcallback\u001b[0m\u001b[0;34m(\u001b[0m\u001b[0mresult\u001b[0m\u001b[0;34m)\u001b[0m\u001b[0;34m\u001b[0m\u001b[0;34m\u001b[0m\u001b[0m\n",
      "\u001b[0;32m/usr/local/lib/python3.6/dist-packages/joblib/_parallel_backends.py\u001b[0m in \u001b[0;36m__init__\u001b[0;34m(self, batch)\u001b[0m\n\u001b[1;32m    547\u001b[0m         \u001b[0;31m# Don't delay the application, to avoid keeping the input\u001b[0m\u001b[0;34m\u001b[0m\u001b[0;34m\u001b[0m\u001b[0;34m\u001b[0m\u001b[0m\n\u001b[1;32m    548\u001b[0m         \u001b[0;31m# arguments in memory\u001b[0m\u001b[0;34m\u001b[0m\u001b[0;34m\u001b[0m\u001b[0;34m\u001b[0m\u001b[0m\n\u001b[0;32m--> 549\u001b[0;31m         \u001b[0mself\u001b[0m\u001b[0;34m.\u001b[0m\u001b[0mresults\u001b[0m \u001b[0;34m=\u001b[0m \u001b[0mbatch\u001b[0m\u001b[0;34m(\u001b[0m\u001b[0;34m)\u001b[0m\u001b[0;34m\u001b[0m\u001b[0;34m\u001b[0m\u001b[0m\n\u001b[0m\u001b[1;32m    550\u001b[0m \u001b[0;34m\u001b[0m\u001b[0m\n\u001b[1;32m    551\u001b[0m     \u001b[0;32mdef\u001b[0m \u001b[0mget\u001b[0m\u001b[0;34m(\u001b[0m\u001b[0mself\u001b[0m\u001b[0;34m)\u001b[0m\u001b[0;34m:\u001b[0m\u001b[0;34m\u001b[0m\u001b[0;34m\u001b[0m\u001b[0m\n",
      "\u001b[0;32m/usr/local/lib/python3.6/dist-packages/joblib/parallel.py\u001b[0m in \u001b[0;36m__call__\u001b[0;34m(self)\u001b[0m\n\u001b[1;32m    223\u001b[0m         \u001b[0;32mwith\u001b[0m \u001b[0mparallel_backend\u001b[0m\u001b[0;34m(\u001b[0m\u001b[0mself\u001b[0m\u001b[0;34m.\u001b[0m\u001b[0m_backend\u001b[0m\u001b[0;34m,\u001b[0m \u001b[0mn_jobs\u001b[0m\u001b[0;34m=\u001b[0m\u001b[0mself\u001b[0m\u001b[0;34m.\u001b[0m\u001b[0m_n_jobs\u001b[0m\u001b[0;34m)\u001b[0m\u001b[0;34m:\u001b[0m\u001b[0;34m\u001b[0m\u001b[0;34m\u001b[0m\u001b[0m\n\u001b[1;32m    224\u001b[0m             return [func(*args, **kwargs)\n\u001b[0;32m--> 225\u001b[0;31m                     for func, args, kwargs in self.items]\n\u001b[0m\u001b[1;32m    226\u001b[0m \u001b[0;34m\u001b[0m\u001b[0m\n\u001b[1;32m    227\u001b[0m     \u001b[0;32mdef\u001b[0m \u001b[0m__len__\u001b[0m\u001b[0;34m(\u001b[0m\u001b[0mself\u001b[0m\u001b[0;34m)\u001b[0m\u001b[0;34m:\u001b[0m\u001b[0;34m\u001b[0m\u001b[0;34m\u001b[0m\u001b[0m\n",
      "\u001b[0;32m/usr/local/lib/python3.6/dist-packages/joblib/parallel.py\u001b[0m in \u001b[0;36m<listcomp>\u001b[0;34m(.0)\u001b[0m\n\u001b[1;32m    223\u001b[0m         \u001b[0;32mwith\u001b[0m \u001b[0mparallel_backend\u001b[0m\u001b[0;34m(\u001b[0m\u001b[0mself\u001b[0m\u001b[0;34m.\u001b[0m\u001b[0m_backend\u001b[0m\u001b[0;34m,\u001b[0m \u001b[0mn_jobs\u001b[0m\u001b[0;34m=\u001b[0m\u001b[0mself\u001b[0m\u001b[0;34m.\u001b[0m\u001b[0m_n_jobs\u001b[0m\u001b[0;34m)\u001b[0m\u001b[0;34m:\u001b[0m\u001b[0;34m\u001b[0m\u001b[0;34m\u001b[0m\u001b[0m\n\u001b[1;32m    224\u001b[0m             return [func(*args, **kwargs)\n\u001b[0;32m--> 225\u001b[0;31m                     for func, args, kwargs in self.items]\n\u001b[0m\u001b[1;32m    226\u001b[0m \u001b[0;34m\u001b[0m\u001b[0m\n\u001b[1;32m    227\u001b[0m     \u001b[0;32mdef\u001b[0m \u001b[0m__len__\u001b[0m\u001b[0;34m(\u001b[0m\u001b[0mself\u001b[0m\u001b[0;34m)\u001b[0m\u001b[0;34m:\u001b[0m\u001b[0;34m\u001b[0m\u001b[0;34m\u001b[0m\u001b[0m\n",
      "\u001b[0;32m/usr/local/lib/python3.6/dist-packages/sklearn/model_selection/_validation.py\u001b[0m in \u001b[0;36m_fit_and_score\u001b[0;34m(estimator, X, y, scorer, train, test, verbose, parameters, fit_params, return_train_score, return_parameters, return_n_test_samples, return_times, return_estimator, error_score)\u001b[0m\n\u001b[1;32m    512\u001b[0m             \u001b[0mestimator\u001b[0m\u001b[0;34m.\u001b[0m\u001b[0mfit\u001b[0m\u001b[0;34m(\u001b[0m\u001b[0mX_train\u001b[0m\u001b[0;34m,\u001b[0m \u001b[0;34m**\u001b[0m\u001b[0mfit_params\u001b[0m\u001b[0;34m)\u001b[0m\u001b[0;34m\u001b[0m\u001b[0;34m\u001b[0m\u001b[0m\n\u001b[1;32m    513\u001b[0m         \u001b[0;32melse\u001b[0m\u001b[0;34m:\u001b[0m\u001b[0;34m\u001b[0m\u001b[0;34m\u001b[0m\u001b[0m\n\u001b[0;32m--> 514\u001b[0;31m             \u001b[0mestimator\u001b[0m\u001b[0;34m.\u001b[0m\u001b[0mfit\u001b[0m\u001b[0;34m(\u001b[0m\u001b[0mX_train\u001b[0m\u001b[0;34m,\u001b[0m \u001b[0my_train\u001b[0m\u001b[0;34m,\u001b[0m \u001b[0;34m**\u001b[0m\u001b[0mfit_params\u001b[0m\u001b[0;34m)\u001b[0m\u001b[0;34m\u001b[0m\u001b[0;34m\u001b[0m\u001b[0m\n\u001b[0m\u001b[1;32m    515\u001b[0m \u001b[0;34m\u001b[0m\u001b[0m\n\u001b[1;32m    516\u001b[0m     \u001b[0;32mexcept\u001b[0m \u001b[0mException\u001b[0m \u001b[0;32mas\u001b[0m \u001b[0me\u001b[0m\u001b[0;34m:\u001b[0m\u001b[0;34m\u001b[0m\u001b[0;34m\u001b[0m\u001b[0m\n",
      "\u001b[0;32m/usr/local/lib/python3.6/dist-packages/sklearn/svm/base.py\u001b[0m in \u001b[0;36mfit\u001b[0;34m(self, X, y, sample_weight)\u001b[0m\n\u001b[1;32m    207\u001b[0m \u001b[0;34m\u001b[0m\u001b[0m\n\u001b[1;32m    208\u001b[0m         \u001b[0mseed\u001b[0m \u001b[0;34m=\u001b[0m \u001b[0mrnd\u001b[0m\u001b[0;34m.\u001b[0m\u001b[0mrandint\u001b[0m\u001b[0;34m(\u001b[0m\u001b[0mnp\u001b[0m\u001b[0;34m.\u001b[0m\u001b[0miinfo\u001b[0m\u001b[0;34m(\u001b[0m\u001b[0;34m'i'\u001b[0m\u001b[0;34m)\u001b[0m\u001b[0;34m.\u001b[0m\u001b[0mmax\u001b[0m\u001b[0;34m)\u001b[0m\u001b[0;34m\u001b[0m\u001b[0;34m\u001b[0m\u001b[0m\n\u001b[0;32m--> 209\u001b[0;31m         \u001b[0mfit\u001b[0m\u001b[0;34m(\u001b[0m\u001b[0mX\u001b[0m\u001b[0;34m,\u001b[0m \u001b[0my\u001b[0m\u001b[0;34m,\u001b[0m \u001b[0msample_weight\u001b[0m\u001b[0;34m,\u001b[0m \u001b[0msolver_type\u001b[0m\u001b[0;34m,\u001b[0m \u001b[0mkernel\u001b[0m\u001b[0;34m,\u001b[0m \u001b[0mrandom_seed\u001b[0m\u001b[0;34m=\u001b[0m\u001b[0mseed\u001b[0m\u001b[0;34m)\u001b[0m\u001b[0;34m\u001b[0m\u001b[0;34m\u001b[0m\u001b[0m\n\u001b[0m\u001b[1;32m    210\u001b[0m         \u001b[0;31m# see comment on the other call to np.iinfo in this file\u001b[0m\u001b[0;34m\u001b[0m\u001b[0;34m\u001b[0m\u001b[0;34m\u001b[0m\u001b[0m\n\u001b[1;32m    211\u001b[0m \u001b[0;34m\u001b[0m\u001b[0m\n",
      "\u001b[0;32m/usr/local/lib/python3.6/dist-packages/sklearn/svm/base.py\u001b[0m in \u001b[0;36m_dense_fit\u001b[0;34m(self, X, y, sample_weight, solver_type, kernel, random_seed)\u001b[0m\n\u001b[1;32m    266\u001b[0m                 \u001b[0mcache_size\u001b[0m\u001b[0;34m=\u001b[0m\u001b[0mself\u001b[0m\u001b[0;34m.\u001b[0m\u001b[0mcache_size\u001b[0m\u001b[0;34m,\u001b[0m \u001b[0mcoef0\u001b[0m\u001b[0;34m=\u001b[0m\u001b[0mself\u001b[0m\u001b[0;34m.\u001b[0m\u001b[0mcoef0\u001b[0m\u001b[0;34m,\u001b[0m\u001b[0;34m\u001b[0m\u001b[0;34m\u001b[0m\u001b[0m\n\u001b[1;32m    267\u001b[0m                 \u001b[0mgamma\u001b[0m\u001b[0;34m=\u001b[0m\u001b[0mself\u001b[0m\u001b[0;34m.\u001b[0m\u001b[0m_gamma\u001b[0m\u001b[0;34m,\u001b[0m \u001b[0mepsilon\u001b[0m\u001b[0;34m=\u001b[0m\u001b[0mself\u001b[0m\u001b[0;34m.\u001b[0m\u001b[0mepsilon\u001b[0m\u001b[0;34m,\u001b[0m\u001b[0;34m\u001b[0m\u001b[0;34m\u001b[0m\u001b[0m\n\u001b[0;32m--> 268\u001b[0;31m                 max_iter=self.max_iter, random_seed=random_seed)\n\u001b[0m\u001b[1;32m    269\u001b[0m \u001b[0;34m\u001b[0m\u001b[0m\n\u001b[1;32m    270\u001b[0m         \u001b[0mself\u001b[0m\u001b[0;34m.\u001b[0m\u001b[0m_warn_from_fit_status\u001b[0m\u001b[0;34m(\u001b[0m\u001b[0;34m)\u001b[0m\u001b[0;34m\u001b[0m\u001b[0;34m\u001b[0m\u001b[0m\n",
      "\u001b[0;31mKeyboardInterrupt\u001b[0m: "
     ]
    }
   ],
   "source": [
    "\n",
    "# specify parameters and distributions to sample from\n",
    "param_dist = {\n",
    "              \"C\": uniform(0.01, 1),\n",
    "              \"degree\": sp_randint(1, 3),\n",
    "              \n",
    "    \n",
    "            }\n",
    "\n",
    "# run randomized search\n",
    "n_iter_search = 10\n",
    "# clf = LogisticRegression(random_state=42,solver=\"saga\")\n",
    "clf = SVC(random_state=42 , kernel = \"linear\",probability =True)\n",
    "random_search = RandomizedSearchCV(clf, param_distributions=param_dist,  cv=5, iid=False)\n",
    "\n",
    "random_search.fit(X2_train, y_train)"
   ]
  },
  {
   "cell_type": "code",
   "execution_count": null,
   "metadata": {
    "colab": {},
    "colab_type": "code",
    "id": "4YvWS9Q-3gMU"
   },
   "outputs": [],
   "source": [
    "sorted(random_search.cv_results_.keys())\n",
    "display(random_search.cv_results_['mean_test_score'])\n",
    "SVCclf=random_search.best_estimator_"
   ]
  },
  {
   "cell_type": "code",
   "execution_count": null,
   "metadata": {
    "colab": {},
    "colab_type": "code",
    "id": "LBT2u4eD2apT"
   },
   "outputs": [],
   "source": [
    "SVCclf.fit(X2_train,y_train)\n",
    "probas_ = SVCclf.predict_proba(X2_test)\n",
    "fpr, tpr, thresholds = roc_curve(y_test, probas_[:, 1])\n",
    "\n",
    "roc_auc = auc(fpr, tpr)\n",
    "plt.plot(fpr, tpr, lw=1, alpha=1, label='ROC SVC(AUC = %0.2f)' % (roc_auc));\n",
    "plt.plot([0, 1], [0, 1], linestyle='--', lw=2, color='r',\n",
    "         label='Chance', alpha=.8)\n",
    "plt.xlim([-0.05, 1.05])\n",
    "plt.ylim([-0.05, 1.05])\n",
    "plt.xlabel('False Positive Rate')\n",
    "plt.ylabel('True Positive Rate')\n",
    "plt.title('ROC viewed')\n",
    "plt.legend(loc=\"lower right\");\n",
    "plt.axis('square');"
   ]
  },
  {
   "cell_type": "code",
   "execution_count": null,
   "metadata": {
    "colab": {},
    "colab_type": "code",
    "id": "6UlTClMi2atE"
   },
   "outputs": [],
   "source": []
  },
  {
   "cell_type": "code",
   "execution_count": null,
   "metadata": {
    "colab": {},
    "colab_type": "code",
    "id": "3Kpg97pK2awG"
   },
   "outputs": [],
   "source": [
    "\n"
   ]
  },
  {
   "cell_type": "code",
   "execution_count": null,
   "metadata": {
    "colab": {},
    "colab_type": "code",
    "id": "yn8KSOd02azG"
   },
   "outputs": [],
   "source": []
  },
  {
   "cell_type": "code",
   "execution_count": null,
   "metadata": {
    "colab": {},
    "colab_type": "code",
    "id": "1D8TWpnU2a1-"
   },
   "outputs": [],
   "source": []
  },
  {
   "cell_type": "code",
   "execution_count": null,
   "metadata": {
    "colab": {},
    "colab_type": "code",
    "id": "pL8kVUEc2a5F"
   },
   "outputs": [],
   "source": []
  },
  {
   "cell_type": "code",
   "execution_count": null,
   "metadata": {
    "colab": {},
    "colab_type": "code",
    "id": "3z6NVuSA2a8R"
   },
   "outputs": [],
   "source": []
  },
  {
   "cell_type": "code",
   "execution_count": null,
   "metadata": {
    "colab": {
     "base_uri": "https://localhost:8080/",
     "height": 394
    },
    "colab_type": "code",
    "executionInfo": {
     "elapsed": 10502,
     "status": "error",
     "timestamp": 1561042830694,
     "user": {
      "displayName": "Marco B.",
      "photoUrl": "https://lh4.googleusercontent.com/-UCwdW0bUFwk/AAAAAAAAAAI/AAAAAAAAIIg/behzAmlzOhc/s64/photo.jpg",
      "userId": "09882507054701017253"
     },
     "user_tz": -120
    },
    "id": "mSG8Ga3BLbBN",
    "outputId": "ec49dfbf-a6b8-4a77-9dff-2d550d89cda6"
   },
   "outputs": [
    {
     "name": "stderr",
     "output_type": "stream",
     "text": [
      "/usr/local/lib/python3.6/dist-packages/sklearn/linear_model/logistic.py:947: ConvergenceWarning: lbfgs failed to converge. Increase the number of iterations.\n",
      "  \"of iterations.\", ConvergenceWarning)\n"
     ]
    },
    {
     "ename": "KeyboardInterrupt",
     "evalue": "ignored",
     "output_type": "error",
     "traceback": [
      "\u001b[0;31m---------------------------------------------------------------------------\u001b[0m",
      "\u001b[0;31mKeyboardInterrupt\u001b[0m                         Traceback (most recent call last)",
      "\u001b[0;32m<ipython-input-53-5f9ab09d799d>\u001b[0m in \u001b[0;36m<module>\u001b[0;34m()\u001b[0m\n\u001b[1;32m     10\u001b[0m \u001b[0mrandom_search\u001b[0m \u001b[0;34m=\u001b[0m \u001b[0mRandomizedSearchCV\u001b[0m\u001b[0;34m(\u001b[0m\u001b[0mclf\u001b[0m\u001b[0;34m,\u001b[0m \u001b[0mparam_distributions\u001b[0m\u001b[0;34m=\u001b[0m\u001b[0mparam_dist\u001b[0m\u001b[0;34m,\u001b[0m  \u001b[0mcv\u001b[0m\u001b[0;34m=\u001b[0m\u001b[0;36m5\u001b[0m\u001b[0;34m,\u001b[0m \u001b[0miid\u001b[0m\u001b[0;34m=\u001b[0m\u001b[0;32mFalse\u001b[0m\u001b[0;34m)\u001b[0m\u001b[0;34m\u001b[0m\u001b[0;34m\u001b[0m\u001b[0m\n\u001b[1;32m     11\u001b[0m \u001b[0;34m\u001b[0m\u001b[0m\n\u001b[0;32m---> 12\u001b[0;31m \u001b[0mrandom_search\u001b[0m\u001b[0;34m.\u001b[0m\u001b[0mfit\u001b[0m\u001b[0;34m(\u001b[0m\u001b[0mX2_train\u001b[0m\u001b[0;34m,\u001b[0m \u001b[0my_train\u001b[0m\u001b[0;34m)\u001b[0m\u001b[0;34m\u001b[0m\u001b[0;34m\u001b[0m\u001b[0m\n\u001b[0m",
      "\u001b[0;32m/usr/local/lib/python3.6/dist-packages/sklearn/model_selection/_search.py\u001b[0m in \u001b[0;36mfit\u001b[0;34m(self, X, y, groups, **fit_params)\u001b[0m\n\u001b[1;32m    685\u001b[0m                 \u001b[0;32mreturn\u001b[0m \u001b[0mresults\u001b[0m\u001b[0;34m\u001b[0m\u001b[0;34m\u001b[0m\u001b[0m\n\u001b[1;32m    686\u001b[0m \u001b[0;34m\u001b[0m\u001b[0m\n\u001b[0;32m--> 687\u001b[0;31m             \u001b[0mself\u001b[0m\u001b[0;34m.\u001b[0m\u001b[0m_run_search\u001b[0m\u001b[0;34m(\u001b[0m\u001b[0mevaluate_candidates\u001b[0m\u001b[0;34m)\u001b[0m\u001b[0;34m\u001b[0m\u001b[0;34m\u001b[0m\u001b[0m\n\u001b[0m\u001b[1;32m    688\u001b[0m \u001b[0;34m\u001b[0m\u001b[0m\n\u001b[1;32m    689\u001b[0m         \u001b[0;31m# For multi-metric evaluation, store the best_index_, best_params_ and\u001b[0m\u001b[0;34m\u001b[0m\u001b[0;34m\u001b[0m\u001b[0;34m\u001b[0m\u001b[0m\n",
      "\u001b[0;32m/usr/local/lib/python3.6/dist-packages/sklearn/model_selection/_search.py\u001b[0m in \u001b[0;36m_run_search\u001b[0;34m(self, evaluate_candidates)\u001b[0m\n\u001b[1;32m   1466\u001b[0m         evaluate_candidates(ParameterSampler(\n\u001b[1;32m   1467\u001b[0m             \u001b[0mself\u001b[0m\u001b[0;34m.\u001b[0m\u001b[0mparam_distributions\u001b[0m\u001b[0;34m,\u001b[0m \u001b[0mself\u001b[0m\u001b[0;34m.\u001b[0m\u001b[0mn_iter\u001b[0m\u001b[0;34m,\u001b[0m\u001b[0;34m\u001b[0m\u001b[0;34m\u001b[0m\u001b[0m\n\u001b[0;32m-> 1468\u001b[0;31m             random_state=self.random_state))\n\u001b[0m",
      "\u001b[0;32m/usr/local/lib/python3.6/dist-packages/sklearn/model_selection/_search.py\u001b[0m in \u001b[0;36mevaluate_candidates\u001b[0;34m(candidate_params)\u001b[0m\n\u001b[1;32m    664\u001b[0m                                \u001b[0;32mfor\u001b[0m \u001b[0mparameters\u001b[0m\u001b[0;34m,\u001b[0m \u001b[0;34m(\u001b[0m\u001b[0mtrain\u001b[0m\u001b[0;34m,\u001b[0m \u001b[0mtest\u001b[0m\u001b[0;34m)\u001b[0m\u001b[0;34m\u001b[0m\u001b[0;34m\u001b[0m\u001b[0m\n\u001b[1;32m    665\u001b[0m                                in product(candidate_params,\n\u001b[0;32m--> 666\u001b[0;31m                                           cv.split(X, y, groups)))\n\u001b[0m\u001b[1;32m    667\u001b[0m \u001b[0;34m\u001b[0m\u001b[0m\n\u001b[1;32m    668\u001b[0m                 \u001b[0;32mif\u001b[0m \u001b[0mlen\u001b[0m\u001b[0;34m(\u001b[0m\u001b[0mout\u001b[0m\u001b[0;34m)\u001b[0m \u001b[0;34m<\u001b[0m \u001b[0;36m1\u001b[0m\u001b[0;34m:\u001b[0m\u001b[0;34m\u001b[0m\u001b[0;34m\u001b[0m\u001b[0m\n",
      "\u001b[0;32m/usr/local/lib/python3.6/dist-packages/joblib/parallel.py\u001b[0m in \u001b[0;36m__call__\u001b[0;34m(self, iterable)\u001b[0m\n\u001b[1;32m    922\u001b[0m                 \u001b[0mself\u001b[0m\u001b[0;34m.\u001b[0m\u001b[0m_iterating\u001b[0m \u001b[0;34m=\u001b[0m \u001b[0mself\u001b[0m\u001b[0;34m.\u001b[0m\u001b[0m_original_iterator\u001b[0m \u001b[0;32mis\u001b[0m \u001b[0;32mnot\u001b[0m \u001b[0;32mNone\u001b[0m\u001b[0;34m\u001b[0m\u001b[0;34m\u001b[0m\u001b[0m\n\u001b[1;32m    923\u001b[0m \u001b[0;34m\u001b[0m\u001b[0m\n\u001b[0;32m--> 924\u001b[0;31m             \u001b[0;32mwhile\u001b[0m \u001b[0mself\u001b[0m\u001b[0;34m.\u001b[0m\u001b[0mdispatch_one_batch\u001b[0m\u001b[0;34m(\u001b[0m\u001b[0miterator\u001b[0m\u001b[0;34m)\u001b[0m\u001b[0;34m:\u001b[0m\u001b[0;34m\u001b[0m\u001b[0;34m\u001b[0m\u001b[0m\n\u001b[0m\u001b[1;32m    925\u001b[0m                 \u001b[0;32mpass\u001b[0m\u001b[0;34m\u001b[0m\u001b[0;34m\u001b[0m\u001b[0m\n\u001b[1;32m    926\u001b[0m \u001b[0;34m\u001b[0m\u001b[0m\n",
      "\u001b[0;32m/usr/local/lib/python3.6/dist-packages/joblib/parallel.py\u001b[0m in \u001b[0;36mdispatch_one_batch\u001b[0;34m(self, iterator)\u001b[0m\n\u001b[1;32m    757\u001b[0m                 \u001b[0;32mreturn\u001b[0m \u001b[0;32mFalse\u001b[0m\u001b[0;34m\u001b[0m\u001b[0;34m\u001b[0m\u001b[0m\n\u001b[1;32m    758\u001b[0m             \u001b[0;32melse\u001b[0m\u001b[0;34m:\u001b[0m\u001b[0;34m\u001b[0m\u001b[0;34m\u001b[0m\u001b[0m\n\u001b[0;32m--> 759\u001b[0;31m                 \u001b[0mself\u001b[0m\u001b[0;34m.\u001b[0m\u001b[0m_dispatch\u001b[0m\u001b[0;34m(\u001b[0m\u001b[0mtasks\u001b[0m\u001b[0;34m)\u001b[0m\u001b[0;34m\u001b[0m\u001b[0;34m\u001b[0m\u001b[0m\n\u001b[0m\u001b[1;32m    760\u001b[0m                 \u001b[0;32mreturn\u001b[0m \u001b[0;32mTrue\u001b[0m\u001b[0;34m\u001b[0m\u001b[0;34m\u001b[0m\u001b[0m\n\u001b[1;32m    761\u001b[0m \u001b[0;34m\u001b[0m\u001b[0m\n",
      "\u001b[0;32m/usr/local/lib/python3.6/dist-packages/joblib/parallel.py\u001b[0m in \u001b[0;36m_dispatch\u001b[0;34m(self, batch)\u001b[0m\n\u001b[1;32m    714\u001b[0m         \u001b[0;32mwith\u001b[0m \u001b[0mself\u001b[0m\u001b[0;34m.\u001b[0m\u001b[0m_lock\u001b[0m\u001b[0;34m:\u001b[0m\u001b[0;34m\u001b[0m\u001b[0;34m\u001b[0m\u001b[0m\n\u001b[1;32m    715\u001b[0m             \u001b[0mjob_idx\u001b[0m \u001b[0;34m=\u001b[0m \u001b[0mlen\u001b[0m\u001b[0;34m(\u001b[0m\u001b[0mself\u001b[0m\u001b[0;34m.\u001b[0m\u001b[0m_jobs\u001b[0m\u001b[0;34m)\u001b[0m\u001b[0;34m\u001b[0m\u001b[0;34m\u001b[0m\u001b[0m\n\u001b[0;32m--> 716\u001b[0;31m             \u001b[0mjob\u001b[0m \u001b[0;34m=\u001b[0m \u001b[0mself\u001b[0m\u001b[0;34m.\u001b[0m\u001b[0m_backend\u001b[0m\u001b[0;34m.\u001b[0m\u001b[0mapply_async\u001b[0m\u001b[0;34m(\u001b[0m\u001b[0mbatch\u001b[0m\u001b[0;34m,\u001b[0m \u001b[0mcallback\u001b[0m\u001b[0;34m=\u001b[0m\u001b[0mcb\u001b[0m\u001b[0;34m)\u001b[0m\u001b[0;34m\u001b[0m\u001b[0;34m\u001b[0m\u001b[0m\n\u001b[0m\u001b[1;32m    717\u001b[0m             \u001b[0;31m# A job can complete so quickly than its callback is\u001b[0m\u001b[0;34m\u001b[0m\u001b[0;34m\u001b[0m\u001b[0;34m\u001b[0m\u001b[0m\n\u001b[1;32m    718\u001b[0m             \u001b[0;31m# called before we get here, causing self._jobs to\u001b[0m\u001b[0;34m\u001b[0m\u001b[0;34m\u001b[0m\u001b[0;34m\u001b[0m\u001b[0m\n",
      "\u001b[0;32m/usr/local/lib/python3.6/dist-packages/joblib/_parallel_backends.py\u001b[0m in \u001b[0;36mapply_async\u001b[0;34m(self, func, callback)\u001b[0m\n\u001b[1;32m    180\u001b[0m     \u001b[0;32mdef\u001b[0m \u001b[0mapply_async\u001b[0m\u001b[0;34m(\u001b[0m\u001b[0mself\u001b[0m\u001b[0;34m,\u001b[0m \u001b[0mfunc\u001b[0m\u001b[0;34m,\u001b[0m \u001b[0mcallback\u001b[0m\u001b[0;34m=\u001b[0m\u001b[0;32mNone\u001b[0m\u001b[0;34m)\u001b[0m\u001b[0;34m:\u001b[0m\u001b[0;34m\u001b[0m\u001b[0;34m\u001b[0m\u001b[0m\n\u001b[1;32m    181\u001b[0m         \u001b[0;34m\"\"\"Schedule a func to be run\"\"\"\u001b[0m\u001b[0;34m\u001b[0m\u001b[0;34m\u001b[0m\u001b[0m\n\u001b[0;32m--> 182\u001b[0;31m         \u001b[0mresult\u001b[0m \u001b[0;34m=\u001b[0m \u001b[0mImmediateResult\u001b[0m\u001b[0;34m(\u001b[0m\u001b[0mfunc\u001b[0m\u001b[0;34m)\u001b[0m\u001b[0;34m\u001b[0m\u001b[0;34m\u001b[0m\u001b[0m\n\u001b[0m\u001b[1;32m    183\u001b[0m         \u001b[0;32mif\u001b[0m \u001b[0mcallback\u001b[0m\u001b[0;34m:\u001b[0m\u001b[0;34m\u001b[0m\u001b[0;34m\u001b[0m\u001b[0m\n\u001b[1;32m    184\u001b[0m             \u001b[0mcallback\u001b[0m\u001b[0;34m(\u001b[0m\u001b[0mresult\u001b[0m\u001b[0;34m)\u001b[0m\u001b[0;34m\u001b[0m\u001b[0;34m\u001b[0m\u001b[0m\n",
      "\u001b[0;32m/usr/local/lib/python3.6/dist-packages/joblib/_parallel_backends.py\u001b[0m in \u001b[0;36m__init__\u001b[0;34m(self, batch)\u001b[0m\n\u001b[1;32m    547\u001b[0m         \u001b[0;31m# Don't delay the application, to avoid keeping the input\u001b[0m\u001b[0;34m\u001b[0m\u001b[0;34m\u001b[0m\u001b[0;34m\u001b[0m\u001b[0m\n\u001b[1;32m    548\u001b[0m         \u001b[0;31m# arguments in memory\u001b[0m\u001b[0;34m\u001b[0m\u001b[0;34m\u001b[0m\u001b[0;34m\u001b[0m\u001b[0m\n\u001b[0;32m--> 549\u001b[0;31m         \u001b[0mself\u001b[0m\u001b[0;34m.\u001b[0m\u001b[0mresults\u001b[0m \u001b[0;34m=\u001b[0m \u001b[0mbatch\u001b[0m\u001b[0;34m(\u001b[0m\u001b[0;34m)\u001b[0m\u001b[0;34m\u001b[0m\u001b[0;34m\u001b[0m\u001b[0m\n\u001b[0m\u001b[1;32m    550\u001b[0m \u001b[0;34m\u001b[0m\u001b[0m\n\u001b[1;32m    551\u001b[0m     \u001b[0;32mdef\u001b[0m \u001b[0mget\u001b[0m\u001b[0;34m(\u001b[0m\u001b[0mself\u001b[0m\u001b[0;34m)\u001b[0m\u001b[0;34m:\u001b[0m\u001b[0;34m\u001b[0m\u001b[0;34m\u001b[0m\u001b[0m\n",
      "\u001b[0;32m/usr/local/lib/python3.6/dist-packages/joblib/parallel.py\u001b[0m in \u001b[0;36m__call__\u001b[0;34m(self)\u001b[0m\n\u001b[1;32m    223\u001b[0m         \u001b[0;32mwith\u001b[0m \u001b[0mparallel_backend\u001b[0m\u001b[0;34m(\u001b[0m\u001b[0mself\u001b[0m\u001b[0;34m.\u001b[0m\u001b[0m_backend\u001b[0m\u001b[0;34m,\u001b[0m \u001b[0mn_jobs\u001b[0m\u001b[0;34m=\u001b[0m\u001b[0mself\u001b[0m\u001b[0;34m.\u001b[0m\u001b[0m_n_jobs\u001b[0m\u001b[0;34m)\u001b[0m\u001b[0;34m:\u001b[0m\u001b[0;34m\u001b[0m\u001b[0;34m\u001b[0m\u001b[0m\n\u001b[1;32m    224\u001b[0m             return [func(*args, **kwargs)\n\u001b[0;32m--> 225\u001b[0;31m                     for func, args, kwargs in self.items]\n\u001b[0m\u001b[1;32m    226\u001b[0m \u001b[0;34m\u001b[0m\u001b[0m\n\u001b[1;32m    227\u001b[0m     \u001b[0;32mdef\u001b[0m \u001b[0m__len__\u001b[0m\u001b[0;34m(\u001b[0m\u001b[0mself\u001b[0m\u001b[0;34m)\u001b[0m\u001b[0;34m:\u001b[0m\u001b[0;34m\u001b[0m\u001b[0;34m\u001b[0m\u001b[0m\n",
      "\u001b[0;32m/usr/local/lib/python3.6/dist-packages/joblib/parallel.py\u001b[0m in \u001b[0;36m<listcomp>\u001b[0;34m(.0)\u001b[0m\n\u001b[1;32m    223\u001b[0m         \u001b[0;32mwith\u001b[0m \u001b[0mparallel_backend\u001b[0m\u001b[0;34m(\u001b[0m\u001b[0mself\u001b[0m\u001b[0;34m.\u001b[0m\u001b[0m_backend\u001b[0m\u001b[0;34m,\u001b[0m \u001b[0mn_jobs\u001b[0m\u001b[0;34m=\u001b[0m\u001b[0mself\u001b[0m\u001b[0;34m.\u001b[0m\u001b[0m_n_jobs\u001b[0m\u001b[0;34m)\u001b[0m\u001b[0;34m:\u001b[0m\u001b[0;34m\u001b[0m\u001b[0;34m\u001b[0m\u001b[0m\n\u001b[1;32m    224\u001b[0m             return [func(*args, **kwargs)\n\u001b[0;32m--> 225\u001b[0;31m                     for func, args, kwargs in self.items]\n\u001b[0m\u001b[1;32m    226\u001b[0m \u001b[0;34m\u001b[0m\u001b[0m\n\u001b[1;32m    227\u001b[0m     \u001b[0;32mdef\u001b[0m \u001b[0m__len__\u001b[0m\u001b[0;34m(\u001b[0m\u001b[0mself\u001b[0m\u001b[0;34m)\u001b[0m\u001b[0;34m:\u001b[0m\u001b[0;34m\u001b[0m\u001b[0;34m\u001b[0m\u001b[0m\n",
      "\u001b[0;32m/usr/local/lib/python3.6/dist-packages/sklearn/model_selection/_validation.py\u001b[0m in \u001b[0;36m_fit_and_score\u001b[0;34m(estimator, X, y, scorer, train, test, verbose, parameters, fit_params, return_train_score, return_parameters, return_n_test_samples, return_times, return_estimator, error_score)\u001b[0m\n\u001b[1;32m    512\u001b[0m             \u001b[0mestimator\u001b[0m\u001b[0;34m.\u001b[0m\u001b[0mfit\u001b[0m\u001b[0;34m(\u001b[0m\u001b[0mX_train\u001b[0m\u001b[0;34m,\u001b[0m \u001b[0;34m**\u001b[0m\u001b[0mfit_params\u001b[0m\u001b[0;34m)\u001b[0m\u001b[0;34m\u001b[0m\u001b[0;34m\u001b[0m\u001b[0m\n\u001b[1;32m    513\u001b[0m         \u001b[0;32melse\u001b[0m\u001b[0;34m:\u001b[0m\u001b[0;34m\u001b[0m\u001b[0;34m\u001b[0m\u001b[0m\n\u001b[0;32m--> 514\u001b[0;31m             \u001b[0mestimator\u001b[0m\u001b[0;34m.\u001b[0m\u001b[0mfit\u001b[0m\u001b[0;34m(\u001b[0m\u001b[0mX_train\u001b[0m\u001b[0;34m,\u001b[0m \u001b[0my_train\u001b[0m\u001b[0;34m,\u001b[0m \u001b[0;34m**\u001b[0m\u001b[0mfit_params\u001b[0m\u001b[0;34m)\u001b[0m\u001b[0;34m\u001b[0m\u001b[0;34m\u001b[0m\u001b[0m\n\u001b[0m\u001b[1;32m    515\u001b[0m \u001b[0;34m\u001b[0m\u001b[0m\n\u001b[1;32m    516\u001b[0m     \u001b[0;32mexcept\u001b[0m \u001b[0mException\u001b[0m \u001b[0;32mas\u001b[0m \u001b[0me\u001b[0m\u001b[0;34m:\u001b[0m\u001b[0;34m\u001b[0m\u001b[0;34m\u001b[0m\u001b[0m\n",
      "\u001b[0;32m/usr/local/lib/python3.6/dist-packages/sklearn/linear_model/logistic.py\u001b[0m in \u001b[0;36mfit\u001b[0;34m(self, X, y, sample_weight)\u001b[0m\n\u001b[1;32m   1604\u001b[0m                       \u001b[0mpenalty\u001b[0m\u001b[0;34m=\u001b[0m\u001b[0mpenalty\u001b[0m\u001b[0;34m,\u001b[0m \u001b[0mmax_squared_sum\u001b[0m\u001b[0;34m=\u001b[0m\u001b[0mmax_squared_sum\u001b[0m\u001b[0;34m,\u001b[0m\u001b[0;34m\u001b[0m\u001b[0;34m\u001b[0m\u001b[0m\n\u001b[1;32m   1605\u001b[0m                       sample_weight=sample_weight)\n\u001b[0;32m-> 1606\u001b[0;31m             for class_, warm_start_coef_ in zip(classes_, warm_start_coef))\n\u001b[0m\u001b[1;32m   1607\u001b[0m \u001b[0;34m\u001b[0m\u001b[0m\n\u001b[1;32m   1608\u001b[0m         \u001b[0mfold_coefs_\u001b[0m\u001b[0;34m,\u001b[0m \u001b[0m_\u001b[0m\u001b[0;34m,\u001b[0m \u001b[0mn_iter_\u001b[0m \u001b[0;34m=\u001b[0m \u001b[0mzip\u001b[0m\u001b[0;34m(\u001b[0m\u001b[0;34m*\u001b[0m\u001b[0mfold_coefs_\u001b[0m\u001b[0;34m)\u001b[0m\u001b[0;34m\u001b[0m\u001b[0;34m\u001b[0m\u001b[0m\n",
      "\u001b[0;32m/usr/local/lib/python3.6/dist-packages/joblib/parallel.py\u001b[0m in \u001b[0;36m__call__\u001b[0;34m(self, iterable)\u001b[0m\n\u001b[1;32m    919\u001b[0m             \u001b[0;31m# remaining jobs.\u001b[0m\u001b[0;34m\u001b[0m\u001b[0;34m\u001b[0m\u001b[0;34m\u001b[0m\u001b[0m\n\u001b[1;32m    920\u001b[0m             \u001b[0mself\u001b[0m\u001b[0;34m.\u001b[0m\u001b[0m_iterating\u001b[0m \u001b[0;34m=\u001b[0m \u001b[0;32mFalse\u001b[0m\u001b[0;34m\u001b[0m\u001b[0;34m\u001b[0m\u001b[0m\n\u001b[0;32m--> 921\u001b[0;31m             \u001b[0;32mif\u001b[0m \u001b[0mself\u001b[0m\u001b[0;34m.\u001b[0m\u001b[0mdispatch_one_batch\u001b[0m\u001b[0;34m(\u001b[0m\u001b[0miterator\u001b[0m\u001b[0;34m)\u001b[0m\u001b[0;34m:\u001b[0m\u001b[0;34m\u001b[0m\u001b[0;34m\u001b[0m\u001b[0m\n\u001b[0m\u001b[1;32m    922\u001b[0m                 \u001b[0mself\u001b[0m\u001b[0;34m.\u001b[0m\u001b[0m_iterating\u001b[0m \u001b[0;34m=\u001b[0m \u001b[0mself\u001b[0m\u001b[0;34m.\u001b[0m\u001b[0m_original_iterator\u001b[0m \u001b[0;32mis\u001b[0m \u001b[0;32mnot\u001b[0m \u001b[0;32mNone\u001b[0m\u001b[0;34m\u001b[0m\u001b[0;34m\u001b[0m\u001b[0m\n\u001b[1;32m    923\u001b[0m \u001b[0;34m\u001b[0m\u001b[0m\n",
      "\u001b[0;32m/usr/local/lib/python3.6/dist-packages/joblib/parallel.py\u001b[0m in \u001b[0;36mdispatch_one_batch\u001b[0;34m(self, iterator)\u001b[0m\n\u001b[1;32m    757\u001b[0m                 \u001b[0;32mreturn\u001b[0m \u001b[0;32mFalse\u001b[0m\u001b[0;34m\u001b[0m\u001b[0;34m\u001b[0m\u001b[0m\n\u001b[1;32m    758\u001b[0m             \u001b[0;32melse\u001b[0m\u001b[0;34m:\u001b[0m\u001b[0;34m\u001b[0m\u001b[0;34m\u001b[0m\u001b[0m\n\u001b[0;32m--> 759\u001b[0;31m                 \u001b[0mself\u001b[0m\u001b[0;34m.\u001b[0m\u001b[0m_dispatch\u001b[0m\u001b[0;34m(\u001b[0m\u001b[0mtasks\u001b[0m\u001b[0;34m)\u001b[0m\u001b[0;34m\u001b[0m\u001b[0;34m\u001b[0m\u001b[0m\n\u001b[0m\u001b[1;32m    760\u001b[0m                 \u001b[0;32mreturn\u001b[0m \u001b[0;32mTrue\u001b[0m\u001b[0;34m\u001b[0m\u001b[0;34m\u001b[0m\u001b[0m\n\u001b[1;32m    761\u001b[0m \u001b[0;34m\u001b[0m\u001b[0m\n",
      "\u001b[0;32m/usr/local/lib/python3.6/dist-packages/joblib/parallel.py\u001b[0m in \u001b[0;36m_dispatch\u001b[0;34m(self, batch)\u001b[0m\n\u001b[1;32m    714\u001b[0m         \u001b[0;32mwith\u001b[0m \u001b[0mself\u001b[0m\u001b[0;34m.\u001b[0m\u001b[0m_lock\u001b[0m\u001b[0;34m:\u001b[0m\u001b[0;34m\u001b[0m\u001b[0;34m\u001b[0m\u001b[0m\n\u001b[1;32m    715\u001b[0m             \u001b[0mjob_idx\u001b[0m \u001b[0;34m=\u001b[0m \u001b[0mlen\u001b[0m\u001b[0;34m(\u001b[0m\u001b[0mself\u001b[0m\u001b[0;34m.\u001b[0m\u001b[0m_jobs\u001b[0m\u001b[0;34m)\u001b[0m\u001b[0;34m\u001b[0m\u001b[0;34m\u001b[0m\u001b[0m\n\u001b[0;32m--> 716\u001b[0;31m             \u001b[0mjob\u001b[0m \u001b[0;34m=\u001b[0m \u001b[0mself\u001b[0m\u001b[0;34m.\u001b[0m\u001b[0m_backend\u001b[0m\u001b[0;34m.\u001b[0m\u001b[0mapply_async\u001b[0m\u001b[0;34m(\u001b[0m\u001b[0mbatch\u001b[0m\u001b[0;34m,\u001b[0m \u001b[0mcallback\u001b[0m\u001b[0;34m=\u001b[0m\u001b[0mcb\u001b[0m\u001b[0;34m)\u001b[0m\u001b[0;34m\u001b[0m\u001b[0;34m\u001b[0m\u001b[0m\n\u001b[0m\u001b[1;32m    717\u001b[0m             \u001b[0;31m# A job can complete so quickly than its callback is\u001b[0m\u001b[0;34m\u001b[0m\u001b[0;34m\u001b[0m\u001b[0;34m\u001b[0m\u001b[0m\n\u001b[1;32m    718\u001b[0m             \u001b[0;31m# called before we get here, causing self._jobs to\u001b[0m\u001b[0;34m\u001b[0m\u001b[0;34m\u001b[0m\u001b[0;34m\u001b[0m\u001b[0m\n",
      "\u001b[0;32m/usr/local/lib/python3.6/dist-packages/joblib/_parallel_backends.py\u001b[0m in \u001b[0;36mapply_async\u001b[0;34m(self, func, callback)\u001b[0m\n\u001b[1;32m    180\u001b[0m     \u001b[0;32mdef\u001b[0m \u001b[0mapply_async\u001b[0m\u001b[0;34m(\u001b[0m\u001b[0mself\u001b[0m\u001b[0;34m,\u001b[0m \u001b[0mfunc\u001b[0m\u001b[0;34m,\u001b[0m \u001b[0mcallback\u001b[0m\u001b[0;34m=\u001b[0m\u001b[0;32mNone\u001b[0m\u001b[0;34m)\u001b[0m\u001b[0;34m:\u001b[0m\u001b[0;34m\u001b[0m\u001b[0;34m\u001b[0m\u001b[0m\n\u001b[1;32m    181\u001b[0m         \u001b[0;34m\"\"\"Schedule a func to be run\"\"\"\u001b[0m\u001b[0;34m\u001b[0m\u001b[0;34m\u001b[0m\u001b[0m\n\u001b[0;32m--> 182\u001b[0;31m         \u001b[0mresult\u001b[0m \u001b[0;34m=\u001b[0m \u001b[0mImmediateResult\u001b[0m\u001b[0;34m(\u001b[0m\u001b[0mfunc\u001b[0m\u001b[0;34m)\u001b[0m\u001b[0;34m\u001b[0m\u001b[0;34m\u001b[0m\u001b[0m\n\u001b[0m\u001b[1;32m    183\u001b[0m         \u001b[0;32mif\u001b[0m \u001b[0mcallback\u001b[0m\u001b[0;34m:\u001b[0m\u001b[0;34m\u001b[0m\u001b[0;34m\u001b[0m\u001b[0m\n\u001b[1;32m    184\u001b[0m             \u001b[0mcallback\u001b[0m\u001b[0;34m(\u001b[0m\u001b[0mresult\u001b[0m\u001b[0;34m)\u001b[0m\u001b[0;34m\u001b[0m\u001b[0;34m\u001b[0m\u001b[0m\n",
      "\u001b[0;32m/usr/local/lib/python3.6/dist-packages/joblib/_parallel_backends.py\u001b[0m in \u001b[0;36m__init__\u001b[0;34m(self, batch)\u001b[0m\n\u001b[1;32m    547\u001b[0m         \u001b[0;31m# Don't delay the application, to avoid keeping the input\u001b[0m\u001b[0;34m\u001b[0m\u001b[0;34m\u001b[0m\u001b[0;34m\u001b[0m\u001b[0m\n\u001b[1;32m    548\u001b[0m         \u001b[0;31m# arguments in memory\u001b[0m\u001b[0;34m\u001b[0m\u001b[0;34m\u001b[0m\u001b[0;34m\u001b[0m\u001b[0m\n\u001b[0;32m--> 549\u001b[0;31m         \u001b[0mself\u001b[0m\u001b[0;34m.\u001b[0m\u001b[0mresults\u001b[0m \u001b[0;34m=\u001b[0m \u001b[0mbatch\u001b[0m\u001b[0;34m(\u001b[0m\u001b[0;34m)\u001b[0m\u001b[0;34m\u001b[0m\u001b[0;34m\u001b[0m\u001b[0m\n\u001b[0m\u001b[1;32m    550\u001b[0m \u001b[0;34m\u001b[0m\u001b[0m\n\u001b[1;32m    551\u001b[0m     \u001b[0;32mdef\u001b[0m \u001b[0mget\u001b[0m\u001b[0;34m(\u001b[0m\u001b[0mself\u001b[0m\u001b[0;34m)\u001b[0m\u001b[0;34m:\u001b[0m\u001b[0;34m\u001b[0m\u001b[0;34m\u001b[0m\u001b[0m\n",
      "\u001b[0;32m/usr/local/lib/python3.6/dist-packages/joblib/parallel.py\u001b[0m in \u001b[0;36m__call__\u001b[0;34m(self)\u001b[0m\n\u001b[1;32m    223\u001b[0m         \u001b[0;32mwith\u001b[0m \u001b[0mparallel_backend\u001b[0m\u001b[0;34m(\u001b[0m\u001b[0mself\u001b[0m\u001b[0;34m.\u001b[0m\u001b[0m_backend\u001b[0m\u001b[0;34m,\u001b[0m \u001b[0mn_jobs\u001b[0m\u001b[0;34m=\u001b[0m\u001b[0mself\u001b[0m\u001b[0;34m.\u001b[0m\u001b[0m_n_jobs\u001b[0m\u001b[0;34m)\u001b[0m\u001b[0;34m:\u001b[0m\u001b[0;34m\u001b[0m\u001b[0;34m\u001b[0m\u001b[0m\n\u001b[1;32m    224\u001b[0m             return [func(*args, **kwargs)\n\u001b[0;32m--> 225\u001b[0;31m                     for func, args, kwargs in self.items]\n\u001b[0m\u001b[1;32m    226\u001b[0m \u001b[0;34m\u001b[0m\u001b[0m\n\u001b[1;32m    227\u001b[0m     \u001b[0;32mdef\u001b[0m \u001b[0m__len__\u001b[0m\u001b[0;34m(\u001b[0m\u001b[0mself\u001b[0m\u001b[0;34m)\u001b[0m\u001b[0;34m:\u001b[0m\u001b[0;34m\u001b[0m\u001b[0;34m\u001b[0m\u001b[0m\n",
      "\u001b[0;32m/usr/local/lib/python3.6/dist-packages/joblib/parallel.py\u001b[0m in \u001b[0;36m<listcomp>\u001b[0;34m(.0)\u001b[0m\n\u001b[1;32m    223\u001b[0m         \u001b[0;32mwith\u001b[0m \u001b[0mparallel_backend\u001b[0m\u001b[0;34m(\u001b[0m\u001b[0mself\u001b[0m\u001b[0;34m.\u001b[0m\u001b[0m_backend\u001b[0m\u001b[0;34m,\u001b[0m \u001b[0mn_jobs\u001b[0m\u001b[0;34m=\u001b[0m\u001b[0mself\u001b[0m\u001b[0;34m.\u001b[0m\u001b[0m_n_jobs\u001b[0m\u001b[0;34m)\u001b[0m\u001b[0;34m:\u001b[0m\u001b[0;34m\u001b[0m\u001b[0;34m\u001b[0m\u001b[0m\n\u001b[1;32m    224\u001b[0m             return [func(*args, **kwargs)\n\u001b[0;32m--> 225\u001b[0;31m                     for func, args, kwargs in self.items]\n\u001b[0m\u001b[1;32m    226\u001b[0m \u001b[0;34m\u001b[0m\u001b[0m\n\u001b[1;32m    227\u001b[0m     \u001b[0;32mdef\u001b[0m \u001b[0m__len__\u001b[0m\u001b[0;34m(\u001b[0m\u001b[0mself\u001b[0m\u001b[0;34m)\u001b[0m\u001b[0;34m:\u001b[0m\u001b[0;34m\u001b[0m\u001b[0;34m\u001b[0m\u001b[0m\n",
      "\u001b[0;32m/usr/local/lib/python3.6/dist-packages/sklearn/linear_model/logistic.py\u001b[0m in \u001b[0;36m_logistic_regression_path\u001b[0;34m(X, y, pos_class, Cs, fit_intercept, max_iter, tol, verbose, solver, coef, class_weight, dual, penalty, intercept_scaling, multi_class, random_state, check_input, max_squared_sum, sample_weight, l1_ratio)\u001b[0m\n\u001b[1;32m    942\u001b[0m                 \u001b[0mfunc\u001b[0m\u001b[0;34m,\u001b[0m \u001b[0mw0\u001b[0m\u001b[0;34m,\u001b[0m \u001b[0mfprime\u001b[0m\u001b[0;34m=\u001b[0m\u001b[0;32mNone\u001b[0m\u001b[0;34m,\u001b[0m\u001b[0;34m\u001b[0m\u001b[0;34m\u001b[0m\u001b[0m\n\u001b[1;32m    943\u001b[0m                 \u001b[0margs\u001b[0m\u001b[0;34m=\u001b[0m\u001b[0;34m(\u001b[0m\u001b[0mX\u001b[0m\u001b[0;34m,\u001b[0m \u001b[0mtarget\u001b[0m\u001b[0;34m,\u001b[0m \u001b[0;36m1.\u001b[0m \u001b[0;34m/\u001b[0m \u001b[0mC\u001b[0m\u001b[0;34m,\u001b[0m \u001b[0msample_weight\u001b[0m\u001b[0;34m)\u001b[0m\u001b[0;34m,\u001b[0m\u001b[0;34m\u001b[0m\u001b[0;34m\u001b[0m\u001b[0m\n\u001b[0;32m--> 944\u001b[0;31m                 iprint=iprint, pgtol=tol, maxiter=max_iter)\n\u001b[0m\u001b[1;32m    945\u001b[0m             \u001b[0;32mif\u001b[0m \u001b[0minfo\u001b[0m\u001b[0;34m[\u001b[0m\u001b[0;34m\"warnflag\"\u001b[0m\u001b[0;34m]\u001b[0m \u001b[0;34m==\u001b[0m \u001b[0;36m1\u001b[0m\u001b[0;34m:\u001b[0m\u001b[0;34m\u001b[0m\u001b[0;34m\u001b[0m\u001b[0m\n\u001b[1;32m    946\u001b[0m                 warnings.warn(\"lbfgs failed to converge. Increase the number \"\n",
      "\u001b[0;32m/usr/local/lib/python3.6/dist-packages/scipy/optimize/lbfgsb.py\u001b[0m in \u001b[0;36mfmin_l_bfgs_b\u001b[0;34m(func, x0, fprime, args, approx_grad, bounds, m, factr, pgtol, epsilon, iprint, maxfun, maxiter, disp, callback, maxls)\u001b[0m\n\u001b[1;32m    197\u001b[0m \u001b[0;34m\u001b[0m\u001b[0m\n\u001b[1;32m    198\u001b[0m     res = _minimize_lbfgsb(fun, x0, args=args, jac=jac, bounds=bounds,\n\u001b[0;32m--> 199\u001b[0;31m                            **opts)\n\u001b[0m\u001b[1;32m    200\u001b[0m     d = {'grad': res['jac'],\n\u001b[1;32m    201\u001b[0m          \u001b[0;34m'task'\u001b[0m\u001b[0;34m:\u001b[0m \u001b[0mres\u001b[0m\u001b[0;34m[\u001b[0m\u001b[0;34m'message'\u001b[0m\u001b[0;34m]\u001b[0m\u001b[0;34m,\u001b[0m\u001b[0;34m\u001b[0m\u001b[0;34m\u001b[0m\u001b[0m\n",
      "\u001b[0;32m/usr/local/lib/python3.6/dist-packages/scipy/optimize/lbfgsb.py\u001b[0m in \u001b[0;36m_minimize_lbfgsb\u001b[0;34m(fun, x0, args, jac, bounds, disp, maxcor, ftol, gtol, eps, maxfun, maxiter, iprint, callback, maxls, **unknown_options)\u001b[0m\n\u001b[1;32m    333\u001b[0m             \u001b[0;31m# until the completion of the current minimization iteration.\u001b[0m\u001b[0;34m\u001b[0m\u001b[0;34m\u001b[0m\u001b[0;34m\u001b[0m\u001b[0m\n\u001b[1;32m    334\u001b[0m             \u001b[0;31m# Overwrite f and g:\u001b[0m\u001b[0;34m\u001b[0m\u001b[0;34m\u001b[0m\u001b[0;34m\u001b[0m\u001b[0m\n\u001b[0;32m--> 335\u001b[0;31m             \u001b[0mf\u001b[0m\u001b[0;34m,\u001b[0m \u001b[0mg\u001b[0m \u001b[0;34m=\u001b[0m \u001b[0mfunc_and_grad\u001b[0m\u001b[0;34m(\u001b[0m\u001b[0mx\u001b[0m\u001b[0;34m)\u001b[0m\u001b[0;34m\u001b[0m\u001b[0;34m\u001b[0m\u001b[0m\n\u001b[0m\u001b[1;32m    336\u001b[0m         \u001b[0;32melif\u001b[0m \u001b[0mtask_str\u001b[0m\u001b[0;34m.\u001b[0m\u001b[0mstartswith\u001b[0m\u001b[0;34m(\u001b[0m\u001b[0;34mb'NEW_X'\u001b[0m\u001b[0;34m)\u001b[0m\u001b[0;34m:\u001b[0m\u001b[0;34m\u001b[0m\u001b[0;34m\u001b[0m\u001b[0m\n\u001b[1;32m    337\u001b[0m             \u001b[0;31m# new iteration\u001b[0m\u001b[0;34m\u001b[0m\u001b[0;34m\u001b[0m\u001b[0;34m\u001b[0m\u001b[0m\n",
      "\u001b[0;32m/usr/local/lib/python3.6/dist-packages/scipy/optimize/lbfgsb.py\u001b[0m in \u001b[0;36mfunc_and_grad\u001b[0;34m(x)\u001b[0m\n\u001b[1;32m    283\u001b[0m     \u001b[0;32melse\u001b[0m\u001b[0;34m:\u001b[0m\u001b[0;34m\u001b[0m\u001b[0;34m\u001b[0m\u001b[0m\n\u001b[1;32m    284\u001b[0m         \u001b[0;32mdef\u001b[0m \u001b[0mfunc_and_grad\u001b[0m\u001b[0;34m(\u001b[0m\u001b[0mx\u001b[0m\u001b[0;34m)\u001b[0m\u001b[0;34m:\u001b[0m\u001b[0;34m\u001b[0m\u001b[0;34m\u001b[0m\u001b[0m\n\u001b[0;32m--> 285\u001b[0;31m             \u001b[0mf\u001b[0m \u001b[0;34m=\u001b[0m \u001b[0mfun\u001b[0m\u001b[0;34m(\u001b[0m\u001b[0mx\u001b[0m\u001b[0;34m,\u001b[0m \u001b[0;34m*\u001b[0m\u001b[0margs\u001b[0m\u001b[0;34m)\u001b[0m\u001b[0;34m\u001b[0m\u001b[0;34m\u001b[0m\u001b[0m\n\u001b[0m\u001b[1;32m    286\u001b[0m             \u001b[0mg\u001b[0m \u001b[0;34m=\u001b[0m \u001b[0mjac\u001b[0m\u001b[0;34m(\u001b[0m\u001b[0mx\u001b[0m\u001b[0;34m,\u001b[0m \u001b[0;34m*\u001b[0m\u001b[0margs\u001b[0m\u001b[0;34m)\u001b[0m\u001b[0;34m\u001b[0m\u001b[0;34m\u001b[0m\u001b[0m\n\u001b[1;32m    287\u001b[0m             \u001b[0;32mreturn\u001b[0m \u001b[0mf\u001b[0m\u001b[0;34m,\u001b[0m \u001b[0mg\u001b[0m\u001b[0;34m\u001b[0m\u001b[0;34m\u001b[0m\u001b[0m\n",
      "\u001b[0;32m/usr/local/lib/python3.6/dist-packages/scipy/optimize/optimize.py\u001b[0m in \u001b[0;36mfunction_wrapper\u001b[0;34m(*wrapper_args)\u001b[0m\n\u001b[1;32m    324\u001b[0m     \u001b[0;32mdef\u001b[0m \u001b[0mfunction_wrapper\u001b[0m\u001b[0;34m(\u001b[0m\u001b[0;34m*\u001b[0m\u001b[0mwrapper_args\u001b[0m\u001b[0;34m)\u001b[0m\u001b[0;34m:\u001b[0m\u001b[0;34m\u001b[0m\u001b[0;34m\u001b[0m\u001b[0m\n\u001b[1;32m    325\u001b[0m         \u001b[0mncalls\u001b[0m\u001b[0;34m[\u001b[0m\u001b[0;36m0\u001b[0m\u001b[0;34m]\u001b[0m \u001b[0;34m+=\u001b[0m \u001b[0;36m1\u001b[0m\u001b[0;34m\u001b[0m\u001b[0;34m\u001b[0m\u001b[0m\n\u001b[0;32m--> 326\u001b[0;31m         \u001b[0;32mreturn\u001b[0m \u001b[0mfunction\u001b[0m\u001b[0;34m(\u001b[0m\u001b[0;34m*\u001b[0m\u001b[0;34m(\u001b[0m\u001b[0mwrapper_args\u001b[0m \u001b[0;34m+\u001b[0m \u001b[0margs\u001b[0m\u001b[0;34m)\u001b[0m\u001b[0;34m)\u001b[0m\u001b[0;34m\u001b[0m\u001b[0;34m\u001b[0m\u001b[0m\n\u001b[0m\u001b[1;32m    327\u001b[0m \u001b[0;34m\u001b[0m\u001b[0m\n\u001b[1;32m    328\u001b[0m     \u001b[0;32mreturn\u001b[0m \u001b[0mncalls\u001b[0m\u001b[0;34m,\u001b[0m \u001b[0mfunction_wrapper\u001b[0m\u001b[0;34m\u001b[0m\u001b[0;34m\u001b[0m\u001b[0m\n",
      "\u001b[0;32m/usr/local/lib/python3.6/dist-packages/scipy/optimize/optimize.py\u001b[0m in \u001b[0;36m__call__\u001b[0;34m(self, x, *args)\u001b[0m\n\u001b[1;32m     62\u001b[0m     \u001b[0;32mdef\u001b[0m \u001b[0m__call__\u001b[0m\u001b[0;34m(\u001b[0m\u001b[0mself\u001b[0m\u001b[0;34m,\u001b[0m \u001b[0mx\u001b[0m\u001b[0;34m,\u001b[0m \u001b[0;34m*\u001b[0m\u001b[0margs\u001b[0m\u001b[0;34m)\u001b[0m\u001b[0;34m:\u001b[0m\u001b[0;34m\u001b[0m\u001b[0;34m\u001b[0m\u001b[0m\n\u001b[1;32m     63\u001b[0m         \u001b[0mself\u001b[0m\u001b[0;34m.\u001b[0m\u001b[0mx\u001b[0m \u001b[0;34m=\u001b[0m \u001b[0mnumpy\u001b[0m\u001b[0;34m.\u001b[0m\u001b[0masarray\u001b[0m\u001b[0;34m(\u001b[0m\u001b[0mx\u001b[0m\u001b[0;34m)\u001b[0m\u001b[0;34m.\u001b[0m\u001b[0mcopy\u001b[0m\u001b[0;34m(\u001b[0m\u001b[0;34m)\u001b[0m\u001b[0;34m\u001b[0m\u001b[0;34m\u001b[0m\u001b[0m\n\u001b[0;32m---> 64\u001b[0;31m         \u001b[0mfg\u001b[0m \u001b[0;34m=\u001b[0m \u001b[0mself\u001b[0m\u001b[0;34m.\u001b[0m\u001b[0mfun\u001b[0m\u001b[0;34m(\u001b[0m\u001b[0mx\u001b[0m\u001b[0;34m,\u001b[0m \u001b[0;34m*\u001b[0m\u001b[0margs\u001b[0m\u001b[0;34m)\u001b[0m\u001b[0;34m\u001b[0m\u001b[0;34m\u001b[0m\u001b[0m\n\u001b[0m\u001b[1;32m     65\u001b[0m         \u001b[0mself\u001b[0m\u001b[0;34m.\u001b[0m\u001b[0mjac\u001b[0m \u001b[0;34m=\u001b[0m \u001b[0mfg\u001b[0m\u001b[0;34m[\u001b[0m\u001b[0;36m1\u001b[0m\u001b[0;34m]\u001b[0m\u001b[0;34m\u001b[0m\u001b[0;34m\u001b[0m\u001b[0m\n\u001b[1;32m     66\u001b[0m         \u001b[0;32mreturn\u001b[0m \u001b[0mfg\u001b[0m\u001b[0;34m[\u001b[0m\u001b[0;36m0\u001b[0m\u001b[0;34m]\u001b[0m\u001b[0;34m\u001b[0m\u001b[0;34m\u001b[0m\u001b[0m\n",
      "\u001b[0;32m/usr/local/lib/python3.6/dist-packages/sklearn/linear_model/logistic.py\u001b[0m in \u001b[0;36m_logistic_loss_and_grad\u001b[0;34m(w, X, y, alpha, sample_weight)\u001b[0m\n\u001b[1;32m    111\u001b[0m     \u001b[0mgrad\u001b[0m \u001b[0;34m=\u001b[0m \u001b[0mnp\u001b[0m\u001b[0;34m.\u001b[0m\u001b[0mempty_like\u001b[0m\u001b[0;34m(\u001b[0m\u001b[0mw\u001b[0m\u001b[0;34m)\u001b[0m\u001b[0;34m\u001b[0m\u001b[0;34m\u001b[0m\u001b[0m\n\u001b[1;32m    112\u001b[0m \u001b[0;34m\u001b[0m\u001b[0m\n\u001b[0;32m--> 113\u001b[0;31m     \u001b[0mw\u001b[0m\u001b[0;34m,\u001b[0m \u001b[0mc\u001b[0m\u001b[0;34m,\u001b[0m \u001b[0myz\u001b[0m \u001b[0;34m=\u001b[0m \u001b[0m_intercept_dot\u001b[0m\u001b[0;34m(\u001b[0m\u001b[0mw\u001b[0m\u001b[0;34m,\u001b[0m \u001b[0mX\u001b[0m\u001b[0;34m,\u001b[0m \u001b[0my\u001b[0m\u001b[0;34m)\u001b[0m\u001b[0;34m\u001b[0m\u001b[0;34m\u001b[0m\u001b[0m\n\u001b[0m\u001b[1;32m    114\u001b[0m \u001b[0;34m\u001b[0m\u001b[0m\n\u001b[1;32m    115\u001b[0m     \u001b[0;32mif\u001b[0m \u001b[0msample_weight\u001b[0m \u001b[0;32mis\u001b[0m \u001b[0;32mNone\u001b[0m\u001b[0;34m:\u001b[0m\u001b[0;34m\u001b[0m\u001b[0;34m\u001b[0m\u001b[0m\n",
      "\u001b[0;32m/usr/local/lib/python3.6/dist-packages/sklearn/linear_model/logistic.py\u001b[0m in \u001b[0;36m_intercept_dot\u001b[0;34m(w, X, y)\u001b[0m\n\u001b[1;32m     74\u001b[0m         \u001b[0mw\u001b[0m \u001b[0;34m=\u001b[0m \u001b[0mw\u001b[0m\u001b[0;34m[\u001b[0m\u001b[0;34m:\u001b[0m\u001b[0;34m-\u001b[0m\u001b[0;36m1\u001b[0m\u001b[0;34m]\u001b[0m\u001b[0;34m\u001b[0m\u001b[0;34m\u001b[0m\u001b[0m\n\u001b[1;32m     75\u001b[0m \u001b[0;34m\u001b[0m\u001b[0m\n\u001b[0;32m---> 76\u001b[0;31m     \u001b[0mz\u001b[0m \u001b[0;34m=\u001b[0m \u001b[0msafe_sparse_dot\u001b[0m\u001b[0;34m(\u001b[0m\u001b[0mX\u001b[0m\u001b[0;34m,\u001b[0m \u001b[0mw\u001b[0m\u001b[0;34m)\u001b[0m \u001b[0;34m+\u001b[0m \u001b[0mc\u001b[0m\u001b[0;34m\u001b[0m\u001b[0;34m\u001b[0m\u001b[0m\n\u001b[0m\u001b[1;32m     77\u001b[0m     \u001b[0myz\u001b[0m \u001b[0;34m=\u001b[0m \u001b[0my\u001b[0m \u001b[0;34m*\u001b[0m \u001b[0mz\u001b[0m\u001b[0;34m\u001b[0m\u001b[0;34m\u001b[0m\u001b[0m\n\u001b[1;32m     78\u001b[0m     \u001b[0;32mreturn\u001b[0m \u001b[0mw\u001b[0m\u001b[0;34m,\u001b[0m \u001b[0mc\u001b[0m\u001b[0;34m,\u001b[0m \u001b[0myz\u001b[0m\u001b[0;34m\u001b[0m\u001b[0;34m\u001b[0m\u001b[0m\n",
      "\u001b[0;32m/usr/local/lib/python3.6/dist-packages/sklearn/utils/extmath.py\u001b[0m in \u001b[0;36msafe_sparse_dot\u001b[0;34m(a, b, dense_output)\u001b[0m\n\u001b[1;32m    140\u001b[0m         \u001b[0;32mreturn\u001b[0m \u001b[0mret\u001b[0m\u001b[0;34m\u001b[0m\u001b[0;34m\u001b[0m\u001b[0m\n\u001b[1;32m    141\u001b[0m     \u001b[0;32melse\u001b[0m\u001b[0;34m:\u001b[0m\u001b[0;34m\u001b[0m\u001b[0;34m\u001b[0m\u001b[0m\n\u001b[0;32m--> 142\u001b[0;31m         \u001b[0;32mreturn\u001b[0m \u001b[0mnp\u001b[0m\u001b[0;34m.\u001b[0m\u001b[0mdot\u001b[0m\u001b[0;34m(\u001b[0m\u001b[0ma\u001b[0m\u001b[0;34m,\u001b[0m \u001b[0mb\u001b[0m\u001b[0;34m)\u001b[0m\u001b[0;34m\u001b[0m\u001b[0;34m\u001b[0m\u001b[0m\n\u001b[0m\u001b[1;32m    143\u001b[0m \u001b[0;34m\u001b[0m\u001b[0m\n\u001b[1;32m    144\u001b[0m \u001b[0;34m\u001b[0m\u001b[0m\n",
      "\u001b[0;31mKeyboardInterrupt\u001b[0m: "
     ]
    }
   ],
   "source": [
    "\n",
    "\n",
    "# specify parameters and distributions to sample from\n",
    "param_dist = {\n",
    "              \"C\": uniform(0.01, 1),\n",
    "              \"penalty\": ['l2']\n",
    "            }\n",
    "\n",
    "# run randomized search\n",
    "n_iter_search = 10\n",
    "# clf = LogisticRegression(random_state=42,solver=\"saga\")\n",
    "clf = LogisticRegression(random_state=42,solver=\"lbfgs\")\n",
    "random_search = RandomizedSearchCV(clf, param_distributions=param_dist,  cv=5, iid=False)\n",
    "\n",
    "random_search.fit(X2_train, y_train)"
   ]
  },
  {
   "cell_type": "code",
   "execution_count": null,
   "metadata": {
    "colab": {},
    "colab_type": "code",
    "id": "d8zSpLd8LbEE"
   },
   "outputs": [],
   "source": [
    "# clf = LogisticRegression(C=0.8,random_state=42, penalty=\"l1\",solver=\"saga\",max_iter=200)"
   ]
  },
  {
   "cell_type": "code",
   "execution_count": null,
   "metadata": {
    "colab": {
     "base_uri": "https://localhost:8080/",
     "height": 52
    },
    "colab_type": "code",
    "executionInfo": {
     "elapsed": 1010,
     "status": "ok",
     "timestamp": 1560278488979,
     "user": {
      "displayName": "Marco B.",
      "photoUrl": "https://lh4.googleusercontent.com/-UCwdW0bUFwk/AAAAAAAAAAI/AAAAAAAAIIg/behzAmlzOhc/s64/photo.jpg",
      "userId": "09882507054701017253"
     },
     "user_tz": -120
    },
    "id": "rQsd8M47014F",
    "outputId": "166d9dc6-dc1f-46ac-94a8-7b3a738923d5"
   },
   "outputs": [
    {
     "data": {
      "text/plain": [
       "array([0.90561446, 0.90561446, 0.90561446, 0.90561446, 0.90561446,\n",
       "       0.90561446, 0.90561446, 0.90561446, 0.90561446, 0.90561446])"
      ]
     },
     "metadata": {
      "tags": []
     },
     "output_type": "display_data"
    }
   ],
   "source": [
    "sorted(random_search.cv_results_.keys())\n",
    "display(random_search.cv_results_['mean_test_score'])\n",
    "LRclf=random_search.best_estimator_"
   ]
  },
  {
   "cell_type": "code",
   "execution_count": null,
   "metadata": {
    "colab": {
     "base_uri": "https://localhost:8080/",
     "height": 105
    },
    "colab_type": "code",
    "executionInfo": {
     "elapsed": 638,
     "status": "ok",
     "timestamp": 1560278491928,
     "user": {
      "displayName": "Marco B.",
      "photoUrl": "https://lh4.googleusercontent.com/-UCwdW0bUFwk/AAAAAAAAAAI/AAAAAAAAIIg/behzAmlzOhc/s64/photo.jpg",
      "userId": "09882507054701017253"
     },
     "user_tz": -120
    },
    "id": "Kb_fcqrO1Yqc",
    "outputId": "2fafde9c-5681-4581-e6de-c3791fefc9bc"
   },
   "outputs": [
    {
     "data": {
      "text/plain": [
       "LogisticRegression(C=0.6027753801353715, class_weight=None, dual=False,\n",
       "                   fit_intercept=True, intercept_scaling=1, l1_ratio=None,\n",
       "                   max_iter=100, multi_class='warn', n_jobs=None, penalty='l2',\n",
       "                   random_state=42, solver='lbfgs', tol=0.0001, verbose=0,\n",
       "                   warm_start=False)"
      ]
     },
     "execution_count": 49,
     "metadata": {
      "tags": []
     },
     "output_type": "execute_result"
    }
   ],
   "source": [
    "LRclf"
   ]
  },
  {
   "cell_type": "code",
   "execution_count": null,
   "metadata": {
    "colab": {
     "base_uri": "https://localhost:8080/",
     "height": 294
    },
    "colab_type": "code",
    "executionInfo": {
     "elapsed": 1721,
     "status": "ok",
     "timestamp": 1560278494895,
     "user": {
      "displayName": "Marco B.",
      "photoUrl": "https://lh4.googleusercontent.com/-UCwdW0bUFwk/AAAAAAAAAAI/AAAAAAAAIIg/behzAmlzOhc/s64/photo.jpg",
      "userId": "09882507054701017253"
     },
     "user_tz": -120
    },
    "id": "2XEQa-qrLbHR",
    "outputId": "1f4b4a01-9443-48b1-a270-8c4ccdfb1837"
   },
   "outputs": [
    {
     "data": {
      "image/png": "[encoded data removed]",
      "text/plain": [
       "<Figure size 432x288 with 1 Axes>"
      ]
     },
     "metadata": {
      "tags": []
     },
     "output_type": "display_data"
    }
   ],
   "source": [
    "LRclf.fit(X2_train,y_train)\n",
    "probas_ = LRclf.predict_proba(X2_test)\n",
    "fpr, tpr, thresholds = roc_curve(y_test, probas_[:, 1])\n",
    "\n",
    "roc_auc = auc(fpr, tpr)\n",
    "plt.plot(fpr, tpr, lw=1, alpha=1, label='ROC LR(AUC = %0.2f)' % (roc_auc));\n",
    "plt.plot([0, 1], [0, 1], linestyle='--', lw=2, color='r',\n",
    "         label='Chance', alpha=.8)\n",
    "plt.xlim([-0.05, 1.05])\n",
    "plt.ylim([-0.05, 1.05])\n",
    "plt.xlabel('False Positive Rate')\n",
    "plt.ylabel('True Positive Rate')\n",
    "plt.title('ROC viewed')\n",
    "plt.legend(loc=\"lower right\");\n",
    "plt.axis('square');"
   ]
  },
  {
   "cell_type": "code",
   "execution_count": null,
   "metadata": {
    "colab": {},
    "colab_type": "code",
    "id": "YHxc45XnMpO_"
   },
   "outputs": [],
   "source": []
  }
 ],
 "metadata": {
  "colab": {
   "collapsed_sections": [],
   "name": "Sbux_05_model.ipynb",
   "provenance": [],
   "version": "0.3.2"
  },
  "kernelspec": {
   "display_name": "Python 3",
   "language": "python",
   "name": "python3"
  },
  "language_info": {
   "codemirror_mode": {
    "name": "ipython",
    "version": 3
   },
   "file_extension": ".py",
   "mimetype": "text/x-python",
   "name": "python",
   "nbconvert_exporter": "python",
   "pygments_lexer": "ipython3",
   "version": "3.6.8"
  }
 },
 "nbformat": 4,
 "nbformat_minor": 2
}
