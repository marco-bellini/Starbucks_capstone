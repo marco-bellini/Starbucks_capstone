{
 "cells": [
  {
   "cell_type": "code",
   "execution_count": 1,
   "metadata": {},
   "outputs": [
    {
     "name": "stdout",
     "output_type": "stream",
     "text": [
      "pandas:  0.24.2\n",
      "sklearn:  0.21.2\n",
      "statsmodels:  0.10.0\n",
      "scipy:  1.3.0\n"
     ]
    }
   ],
   "source": [
    "import pandas as pd\n",
    "import sklearn\n",
    "import statsmodels\n",
    "import scipy\n",
    "\n",
    "print('pandas: ',pd.__version__)\n",
    "print('sklearn: ',sklearn.__version__)\n",
    "print('statsmodels: ',statsmodels.__version__)\n",
    "print('scipy: ',scipy.__version__)\n"
   ]
  },
  {
   "cell_type": "code",
   "execution_count": 2,
   "metadata": {},
   "outputs": [],
   "source": [
    "from capstone_data_eng import *\n",
    "import seaborn as sns\n",
    "import statsmodels.api as sm\n",
    "from statsmodels.stats.proportion import proportion_confint\n",
    "from plotting_functions import *\n",
    "\n",
    "\n",
    "from scipy.stats import randint as sp_randint , uniform\n",
    "\n",
    "from matplotlib.colors import BoundaryNorm, LogNorm\n",
    "from statsmodels.stats.proportion import proportion_confint\n",
    "\n",
    "from sklearn.pipeline import Pipeline\n",
    "from sklearn.feature_selection import VarianceThreshold\n",
    "from sklearn.feature_selection import SelectKBest\n",
    "from sklearn.feature_selection import chi2\n",
    "from sklearn.linear_model import LogisticRegression\n",
    "from sklearn.ensemble import RandomForestClassifier\n",
    "from sklearn.model_selection import cross_val_score\n",
    "from sklearn.model_selection import train_test_split\n",
    "from sklearn.metrics import roc_curve, auc , confusion_matrix\n",
    "from sklearn.model_selection import GridSearchCV,RandomizedSearchCV\n",
    "from sklearn.model_selection import train_test_split\n",
    "from sklearn.compose import ColumnTransformer\n",
    "\n",
    "from sklearn.metrics import precision_recall_curve, average_precision_score\n",
    "from sklearn.metrics import confusion_matrix, fbeta_score, make_scorer, auc\n",
    "\n",
    "from inspect import signature\n",
    "\n",
    "from sklearn.preprocessing import StandardScaler, OneHotEncoder\n",
    "from sklearn.svm import SVC\n",
    "from sklearn.manifold import TSNE\n",
    "\n",
    "import pickle"
   ]
  },
  {
   "cell_type": "code",
   "execution_count": 3,
   "metadata": {},
   "outputs": [
    {
     "name": "stderr",
     "output_type": "stream",
     "text": [
      "/home/marco/UD/Starbucks_capstone/capstone_data_eng.py:741: FutureWarning: specifying 'categories' or 'ordered' in .astype() is deprecated; pass a CategoricalDtype instead\n",
      "  profile_all = load_profile(location=location)\n"
     ]
    },
    {
     "name": "stdout",
     "output_type": "stream",
     "text": [
      "offer received     76277\n",
      "offer viewed       57725\n",
      "offer completed    33579\n",
      "Name: event, dtype: int64\n",
      "er,ec,ev\n",
      "(76277, 3) (33579, 4) (57725, 3)\n",
      "er  (76277, 6)\n",
      "persons with no offers received in timeframe:  6\n",
      "transactions_during_offer.shape: (122652, 7)\n",
      "(76277, 27)\n",
      "add_stats_by_person:\n",
      "(76277, 38)\n",
      "(76277, 44)\n",
      "(76277, 50)\n",
      "(76277, 51)\n",
      "(76277, 60)\n"
     ]
    }
   ],
   "source": [
    "out, profile_all, portfolio, offers_all, transactions_all, transactions_during_offer, transactions_outside_offer = load_data_cv(\n",
    "        person_split=None, rename_offers=True, time_split_min=None, time_split_max=None,\n",
    "        add_transactions=False, skip_overlap=False, skip_add_purchases=False, calc_net_offer_time=True,\n",
    "        assign_to='ignore', location='local')"
   ]
  },
  {
   "cell_type": "code",
   "execution_count": 4,
   "metadata": {},
   "outputs": [],
   "source": [
    "def fit_col_transformer(X_train,categorical_features,numeric_features):\n",
    "    ohe= OneHotEncoder(handle_unknown='ignore')\n",
    "    ssc=StandardScaler()\n",
    "\n",
    "    ohe.fit(X_train[categorical_features])\n",
    "    ssc.fit(X_train[numeric_features])\n",
    "    return(ohe,ssc)\n",
    "    \n",
    "def apply_transformer(ohe,ssc,X,categorical_features,numeric_features,binary_features):\n",
    "    xoh=ohe.transform(X[categorical_features]).todense()\n",
    "    dfoh=pd.DataFrame(data=xoh,columns=ohe.get_feature_names(input_features=categorical_features))\n",
    "    \n",
    "    xn=ssc.transform(X[numeric_features])\n",
    "    dfxn=pd.DataFrame(data=xn,columns=numeric_features)\n",
    "    \n",
    "    if len(binary_features)>0:\n",
    "        dfxb=X[binary_features].astype(int)\n",
    "        out=pd.concat( (dfoh,dfxn,dfxb),axis=1 )\n",
    "    \n",
    "    out=pd.concat( (dfoh,dfxn),axis=1 )\n",
    "    \n",
    "    return(out)\n",
    "        "
   ]
  },
  {
   "cell_type": "code",
   "execution_count": 29,
   "metadata": {},
   "outputs": [],
   "source": [
    "def plot_roc(y_prob,y_test,y_label,  first_plot=True):\n",
    "\n",
    "#     clf.fit(XT_train,y_train)\n",
    "#     probas_ = clf.predict_proba(XT_test)\n",
    "#     fpr, tpr, thresholds = roc_curve(y_test, probas_[:, 1])\n",
    "\n",
    "    fpr, tpr, thresholds = roc_curve(y_test, y_prob)\n",
    "    roc_auc = auc(fpr, tpr)\n",
    "\n",
    "    if first_plot:\n",
    "        plt.plot([0, 1], [0, 1], linestyle='--', lw=2, color='r',\n",
    "                 label='Chance', alpha=.8)\n",
    "        plt.xlim([-0.05, 1.05])\n",
    "        plt.ylim([-0.05, 1.05])\n",
    "        plt.xlabel('False Positive Rate')\n",
    "        plt.ylabel('True Positive Rate')\n",
    "        plt.title('ROC: RF, custom scorer')\n",
    "        plt.legend(loc=\"lower right\");\n",
    "        plt.axis('square');\n",
    "\n",
    "    plt.plot(fpr, tpr, lw=1, alpha=1, label='ROC %s(AUC = %0.2f)' % (y_label,roc_auc));\n",
    "    plt.legend(loc=\"lower right\");\n",
    "        "
   ]
  },
  {
   "cell_type": "code",
   "execution_count": null,
   "metadata": {},
   "outputs": [],
   "source": []
  },
  {
   "cell_type": "code",
   "execution_count": null,
   "metadata": {},
   "outputs": [],
   "source": []
  },
  {
   "cell_type": "code",
   "execution_count": null,
   "metadata": {},
   "outputs": [],
   "source": []
  },
  {
   "cell_type": "code",
   "execution_count": 6,
   "metadata": {},
   "outputs": [],
   "source": [
    "out.income=out.income.fillna(65400)\n",
    "out.age=out.age.fillna(54)\n",
    "out.gender=out.gender.fillna('M')\n",
    "out['group118']=out['age']>116\n",
    "out.loc[out['age']>116,'age']=54\n",
    "\n"
   ]
  },
  {
   "cell_type": "code",
   "execution_count": 7,
   "metadata": {},
   "outputs": [],
   "source": [
    "\n",
    "out['binned_income'] = pd.cut(out['income'],bins= np.arange(0,14)*1e4,labels=np.arange(0,13)*10)\n",
    "out['binned_age'] = pd.cut(out['age'],bins= np.arange(0,120,10) ,labels=np.arange(0,120,10)[:-1])\n"
   ]
  },
  {
   "cell_type": "code",
   "execution_count": 8,
   "metadata": {},
   "outputs": [
    {
     "data": {
      "text/plain": [
       "65404.9915682968"
      ]
     },
     "execution_count": 8,
     "metadata": {},
     "output_type": "execute_result"
    }
   ],
   "source": [
    "profile_all.income.mean()"
   ]
  },
  {
   "cell_type": "code",
   "execution_count": 9,
   "metadata": {},
   "outputs": [
    {
     "data": {
      "text/plain": [
       "54.39352445193929"
      ]
     },
     "execution_count": 9,
     "metadata": {},
     "output_type": "execute_result"
    }
   ],
   "source": [
    "profile_all.loc[profile_all.age<110,'age'].mean()"
   ]
  },
  {
   "cell_type": "code",
   "execution_count": null,
   "metadata": {},
   "outputs": [],
   "source": []
  },
  {
   "cell_type": "code",
   "execution_count": 10,
   "metadata": {},
   "outputs": [],
   "source": [
    "c_bin_offer=['web','email', 'mobile', 'social','viewed', 'rewarded', 'received', 'comp_not_viewed', 'completed']\n",
    "\n",
    "c_num_time=['offer_received', 'offer_viewed', 'offer_completed', 'offer_end',]\n",
    "c_num_offer=['overlaps','offer_reward', 'difficulty', 'duration'  ]\n",
    "c_num_leak_offer=['Tpay_offer', 'Npay_offer', 'Maxpay_offer', 'Minpay_offer', 'Netpay_offer', 'Avg_pay_offer', \n",
    "                  'Avg_pay_outside', 'Avg_D_O','reward', 'duration_viewed','duration_effective', ]\n",
    "c_num_person=['age', 'income', 'Tpay_out', 'Npay_out', 'user_time' ,'binned_age','binned_income']\n",
    "c_num_person_ignore=['became_member_on',   'joined_year', 'joined_month','joined_week', 'gender_num',  'duration_hours',]\n",
    "\n",
    "c_cat_offer=[ 'offer_type' ]\n",
    "\n",
    "c_bin_person=['group118']\n",
    "c_cat_person=['gender',]\n",
    "c_drop_order=['person','offer']\n",
    "\n",
    "c_num_offers=['p_c_r_ratio','p_c_v_ratio', 'p_cnv_r_ratio','Tpay_offers_tot',\n",
    "       'Npay_offers_tot', 'Maxpay_offers_tot', 'Minpay_offers_tot',\n",
    "       'Trewards_tot', 'Nrewards_tot', 'tot_gross_offer_time',\n",
    "       'tot_net_offers_time', 'tot_not_offers_time', 'Avg_pay_offers',\n",
    "       'Net_pay_offers', 'Avg_net_pay_offers', \n",
    "       'Avg_D_OS','Avg_D_nOS']\n"
   ]
  },
  {
   "cell_type": "code",
   "execution_count": 11,
   "metadata": {},
   "outputs": [
    {
     "data": {
      "text/plain": [
       "Index(['person', 'offer', 'offer_received', 'offer_viewed', 'offer_completed',\n",
       "       'reward', 'offer_end', 'difficulty', 'duration', 'offer_type', 'web',\n",
       "       'email', 'mobile', 'social', 'offer_reward', 'duration_hours',\n",
       "       'duration_viewed', 'duration_effective', 'viewed', 'rewarded',\n",
       "       'received', 'comp_not_viewed', 'completed', 'Tpay_offer', 'Npay_offer',\n",
       "       'Maxpay_offer', 'Minpay_offer', 'Netpay_offer', 'Avg_pay_offer', 'age',\n",
       "       'became_member_on', 'gender', 'income', 'joined_year', 'joined_month',\n",
       "       'joined_week', 'gender_num', 'user_time', 'Tpay_out', 'Npay_out',\n",
       "       'p_c_r_ratio', 'p_cnv_r_ratio', 'p_c_v_ratio', 'overlaps',\n",
       "       'Tpay_offers_tot', 'Npay_offers_tot', 'Maxpay_offers_tot',\n",
       "       'Minpay_offers_tot', 'Trewards_tot', 'Nrewards_tot',\n",
       "       'tot_gross_offer_time', 'tot_net_offers_time', 'tot_not_offers_time',\n",
       "       'Avg_pay_offers', 'Net_pay_offers', 'Avg_net_pay_offers',\n",
       "       'Avg_pay_outside', 'Avg_D_O', 'Avg_D_OS', 'Avg_D_nOS', 'group118',\n",
       "       'binned_income', 'binned_age'],\n",
       "      dtype='object')"
      ]
     },
     "execution_count": 11,
     "metadata": {},
     "output_type": "execute_result"
    }
   ],
   "source": [
    "out.columns"
   ]
  },
  {
   "cell_type": "code",
   "execution_count": 12,
   "metadata": {},
   "outputs": [],
   "source": [
    "c_total=c_bin_offer+c_bin_person+c_num_time+c_num_offer+c_num_leak_offer+c_num_person+c_num_person_ignore + \\\n",
    "    c_cat_offer+c_cat_person+c_num_offers+ c_drop_order"
   ]
  },
  {
   "cell_type": "code",
   "execution_count": 13,
   "metadata": {},
   "outputs": [
    {
     "data": {
      "text/plain": [
       "set()"
      ]
     },
     "metadata": {},
     "output_type": "display_data"
    }
   ],
   "source": [
    "display(set(c_total) ^ set(out.columns))"
   ]
  },
  {
   "cell_type": "code",
   "execution_count": 14,
   "metadata": {},
   "outputs": [
    {
     "name": "stdout",
     "output_type": "stream",
     "text": [
      "columns with nan:\n",
      "['offer_viewed', 'offer_completed']\n"
     ]
    }
   ],
   "source": [
    "print(\"columns with nan:\")\n",
    "fna=list(out.columns[out.isna().any()])\n",
    "print(fna)"
   ]
  },
  {
   "cell_type": "markdown",
   "metadata": {},
   "source": [
    "# Viewed"
   ]
  },
  {
   "cell_type": "code",
   "execution_count": 14,
   "metadata": {},
   "outputs": [],
   "source": [
    "outd=out.copy()\n",
    "outd=outd.drop(columns=c_num_leak_offer+c_num_offers+c_num_person_ignore+[ 'offer_viewed', 'offer_completed', 'offer_end'])\n",
    "outd=outd.drop(columns=['viewed', 'rewarded', 'received', 'comp_not_viewed', 'completed','overlaps'])\n",
    "outd=outd.drop(columns=['person','email'])\n",
    "outd=outd.drop(columns=['age','income'])\n",
    "\n",
    "Y=out['viewed']"
   ]
  },
  {
   "cell_type": "code",
   "execution_count": 15,
   "metadata": {},
   "outputs": [],
   "source": [
    "X_train, X_test, y_train, y_test = train_test_split( outd, Y, test_size=0.3, random_state=0)"
   ]
  },
  {
   "cell_type": "code",
   "execution_count": 16,
   "metadata": {},
   "outputs": [
    {
     "data": {
      "text/html": [
       "<div>\n",
       "<style scoped>\n",
       "    .dataframe tbody tr th:only-of-type {\n",
       "        vertical-align: middle;\n",
       "    }\n",
       "\n",
       "    .dataframe tbody tr th {\n",
       "        vertical-align: top;\n",
       "    }\n",
       "\n",
       "    .dataframe thead th {\n",
       "        text-align: right;\n",
       "    }\n",
       "</style>\n",
       "<table border=\"1\" class=\"dataframe\">\n",
       "  <thead>\n",
       "    <tr style=\"text-align: right;\">\n",
       "      <th></th>\n",
       "      <th>offer</th>\n",
       "      <th>offer_received</th>\n",
       "      <th>difficulty</th>\n",
       "      <th>duration</th>\n",
       "      <th>offer_type</th>\n",
       "      <th>web</th>\n",
       "      <th>mobile</th>\n",
       "      <th>social</th>\n",
       "      <th>offer_reward</th>\n",
       "      <th>gender</th>\n",
       "      <th>user_time</th>\n",
       "      <th>Tpay_out</th>\n",
       "      <th>Npay_out</th>\n",
       "      <th>group118</th>\n",
       "      <th>binned_income</th>\n",
       "      <th>binned_age</th>\n",
       "    </tr>\n",
       "  </thead>\n",
       "  <tbody>\n",
       "    <tr>\n",
       "      <th>0</th>\n",
       "      <td>g</td>\n",
       "      <td>0</td>\n",
       "      <td>5</td>\n",
       "      <td>7</td>\n",
       "      <td>bogo</td>\n",
       "      <td>True</td>\n",
       "      <td>True</td>\n",
       "      <td>False</td>\n",
       "      <td>5</td>\n",
       "      <td>F</td>\n",
       "      <td>443</td>\n",
       "      <td>0.00</td>\n",
       "      <td>0.0</td>\n",
       "      <td>False</td>\n",
       "      <td>90</td>\n",
       "      <td>70</td>\n",
       "    </tr>\n",
       "    <tr>\n",
       "      <th>1</th>\n",
       "      <td>g</td>\n",
       "      <td>0</td>\n",
       "      <td>5</td>\n",
       "      <td>7</td>\n",
       "      <td>bogo</td>\n",
       "      <td>True</td>\n",
       "      <td>True</td>\n",
       "      <td>False</td>\n",
       "      <td>5</td>\n",
       "      <td>M</td>\n",
       "      <td>1282</td>\n",
       "      <td>52.08</td>\n",
       "      <td>13.0</td>\n",
       "      <td>False</td>\n",
       "      <td>40</td>\n",
       "      <td>50</td>\n",
       "    </tr>\n",
       "    <tr>\n",
       "      <th>2</th>\n",
       "      <td>g</td>\n",
       "      <td>0</td>\n",
       "      <td>5</td>\n",
       "      <td>7</td>\n",
       "      <td>bogo</td>\n",
       "      <td>True</td>\n",
       "      <td>True</td>\n",
       "      <td>False</td>\n",
       "      <td>5</td>\n",
       "      <td>M</td>\n",
       "      <td>747</td>\n",
       "      <td>40.94</td>\n",
       "      <td>14.0</td>\n",
       "      <td>False</td>\n",
       "      <td>30</td>\n",
       "      <td>30</td>\n",
       "    </tr>\n",
       "    <tr>\n",
       "      <th>3</th>\n",
       "      <td>g</td>\n",
       "      <td>0</td>\n",
       "      <td>5</td>\n",
       "      <td>7</td>\n",
       "      <td>bogo</td>\n",
       "      <td>True</td>\n",
       "      <td>True</td>\n",
       "      <td>False</td>\n",
       "      <td>5</td>\n",
       "      <td>M</td>\n",
       "      <td>19</td>\n",
       "      <td>0.00</td>\n",
       "      <td>0.0</td>\n",
       "      <td>False</td>\n",
       "      <td>30</td>\n",
       "      <td>40</td>\n",
       "    </tr>\n",
       "    <tr>\n",
       "      <th>4</th>\n",
       "      <td>g</td>\n",
       "      <td>0</td>\n",
       "      <td>5</td>\n",
       "      <td>7</td>\n",
       "      <td>bogo</td>\n",
       "      <td>True</td>\n",
       "      <td>True</td>\n",
       "      <td>False</td>\n",
       "      <td>5</td>\n",
       "      <td>F</td>\n",
       "      <td>534</td>\n",
       "      <td>0.00</td>\n",
       "      <td>0.0</td>\n",
       "      <td>False</td>\n",
       "      <td>70</td>\n",
       "      <td>50</td>\n",
       "    </tr>\n",
       "  </tbody>\n",
       "</table>\n",
       "</div>"
      ],
      "text/plain": [
       "  offer  offer_received  difficulty  duration offer_type   web  mobile  \\\n",
       "0     g               0           5         7       bogo  True    True   \n",
       "1     g               0           5         7       bogo  True    True   \n",
       "2     g               0           5         7       bogo  True    True   \n",
       "3     g               0           5         7       bogo  True    True   \n",
       "4     g               0           5         7       bogo  True    True   \n",
       "\n",
       "   social  offer_reward gender  user_time  Tpay_out  Npay_out  group118  \\\n",
       "0   False             5      F        443      0.00       0.0     False   \n",
       "1   False             5      M       1282     52.08      13.0     False   \n",
       "2   False             5      M        747     40.94      14.0     False   \n",
       "3   False             5      M         19      0.00       0.0     False   \n",
       "4   False             5      F        534      0.00       0.0     False   \n",
       "\n",
       "  binned_income binned_age  \n",
       "0            90         70  \n",
       "1            40         50  \n",
       "2            30         30  \n",
       "3            30         40  \n",
       "4            70         50  "
      ]
     },
     "execution_count": 16,
     "metadata": {},
     "output_type": "execute_result"
    }
   ],
   "source": [
    "outd.head()"
   ]
  },
  {
   "cell_type": "code",
   "execution_count": 17,
   "metadata": {},
   "outputs": [],
   "source": [
    "numeric_features = ['Tpay_out', 'Npay_out']\n",
    "categorical_features = ['offer', 'offer_received', 'difficulty', 'duration', 'offer_type',\n",
    "       'web', 'mobile', 'social', 'offer_reward', 'gender','group118', 'binned_income', 'binned_age']\n",
    "binary_features=[]    "
   ]
  },
  {
   "cell_type": "code",
   "execution_count": 185,
   "metadata": {},
   "outputs": [],
   "source": [
    "ohe,ssc=fit_col_transformer(X_train,categorical_features,numeric_features)"
   ]
  },
  {
   "cell_type": "code",
   "execution_count": 186,
   "metadata": {},
   "outputs": [],
   "source": [
    "XT_train=apply_transformer(ohe,ssc,X_train,categorical_features,numeric_features,binary_features)\n",
    "XT_test=apply_transformer(ohe,ssc, X_test,categorical_features,numeric_features,binary_features)\n"
   ]
  },
  {
   "cell_type": "code",
   "execution_count": 187,
   "metadata": {},
   "outputs": [
    {
     "data": {
      "text/html": [
       "<div>\n",
       "<style scoped>\n",
       "    .dataframe tbody tr th:only-of-type {\n",
       "        vertical-align: middle;\n",
       "    }\n",
       "\n",
       "    .dataframe tbody tr th {\n",
       "        vertical-align: top;\n",
       "    }\n",
       "\n",
       "    .dataframe thead th {\n",
       "        text-align: right;\n",
       "    }\n",
       "</style>\n",
       "<table border=\"1\" class=\"dataframe\">\n",
       "  <thead>\n",
       "    <tr style=\"text-align: right;\">\n",
       "      <th></th>\n",
       "      <th>offer_a</th>\n",
       "      <th>offer_b</th>\n",
       "      <th>offer_c</th>\n",
       "      <th>offer_d</th>\n",
       "      <th>offer_e</th>\n",
       "      <th>offer_f</th>\n",
       "      <th>offer_g</th>\n",
       "      <th>offer_h</th>\n",
       "      <th>offer_i</th>\n",
       "      <th>offer_j</th>\n",
       "      <th>...</th>\n",
       "      <th>binned_age_30</th>\n",
       "      <th>binned_age_40</th>\n",
       "      <th>binned_age_50</th>\n",
       "      <th>binned_age_60</th>\n",
       "      <th>binned_age_70</th>\n",
       "      <th>binned_age_80</th>\n",
       "      <th>binned_age_90</th>\n",
       "      <th>binned_age_100</th>\n",
       "      <th>Tpay_out</th>\n",
       "      <th>Npay_out</th>\n",
       "    </tr>\n",
       "  </thead>\n",
       "  <tbody>\n",
       "    <tr>\n",
       "      <th>0</th>\n",
       "      <td>0.0</td>\n",
       "      <td>0.0</td>\n",
       "      <td>1.0</td>\n",
       "      <td>0.0</td>\n",
       "      <td>0.0</td>\n",
       "      <td>0.0</td>\n",
       "      <td>0.0</td>\n",
       "      <td>0.0</td>\n",
       "      <td>0.0</td>\n",
       "      <td>0.0</td>\n",
       "      <td>...</td>\n",
       "      <td>0.0</td>\n",
       "      <td>0.0</td>\n",
       "      <td>0.0</td>\n",
       "      <td>1.0</td>\n",
       "      <td>0.0</td>\n",
       "      <td>0.0</td>\n",
       "      <td>0.0</td>\n",
       "      <td>0.0</td>\n",
       "      <td>-0.249806</td>\n",
       "      <td>-0.350780</td>\n",
       "    </tr>\n",
       "    <tr>\n",
       "      <th>1</th>\n",
       "      <td>0.0</td>\n",
       "      <td>0.0</td>\n",
       "      <td>0.0</td>\n",
       "      <td>0.0</td>\n",
       "      <td>0.0</td>\n",
       "      <td>1.0</td>\n",
       "      <td>0.0</td>\n",
       "      <td>0.0</td>\n",
       "      <td>0.0</td>\n",
       "      <td>0.0</td>\n",
       "      <td>...</td>\n",
       "      <td>0.0</td>\n",
       "      <td>1.0</td>\n",
       "      <td>0.0</td>\n",
       "      <td>0.0</td>\n",
       "      <td>0.0</td>\n",
       "      <td>0.0</td>\n",
       "      <td>0.0</td>\n",
       "      <td>0.0</td>\n",
       "      <td>0.068193</td>\n",
       "      <td>-0.043980</td>\n",
       "    </tr>\n",
       "    <tr>\n",
       "      <th>2</th>\n",
       "      <td>1.0</td>\n",
       "      <td>0.0</td>\n",
       "      <td>0.0</td>\n",
       "      <td>0.0</td>\n",
       "      <td>0.0</td>\n",
       "      <td>0.0</td>\n",
       "      <td>0.0</td>\n",
       "      <td>0.0</td>\n",
       "      <td>0.0</td>\n",
       "      <td>0.0</td>\n",
       "      <td>...</td>\n",
       "      <td>0.0</td>\n",
       "      <td>1.0</td>\n",
       "      <td>0.0</td>\n",
       "      <td>0.0</td>\n",
       "      <td>0.0</td>\n",
       "      <td>0.0</td>\n",
       "      <td>0.0</td>\n",
       "      <td>0.0</td>\n",
       "      <td>1.083388</td>\n",
       "      <td>1.183218</td>\n",
       "    </tr>\n",
       "    <tr>\n",
       "      <th>3</th>\n",
       "      <td>0.0</td>\n",
       "      <td>0.0</td>\n",
       "      <td>0.0</td>\n",
       "      <td>0.0</td>\n",
       "      <td>0.0</td>\n",
       "      <td>0.0</td>\n",
       "      <td>0.0</td>\n",
       "      <td>0.0</td>\n",
       "      <td>0.0</td>\n",
       "      <td>1.0</td>\n",
       "      <td>...</td>\n",
       "      <td>0.0</td>\n",
       "      <td>0.0</td>\n",
       "      <td>1.0</td>\n",
       "      <td>0.0</td>\n",
       "      <td>0.0</td>\n",
       "      <td>0.0</td>\n",
       "      <td>0.0</td>\n",
       "      <td>0.0</td>\n",
       "      <td>-0.249806</td>\n",
       "      <td>-0.350780</td>\n",
       "    </tr>\n",
       "    <tr>\n",
       "      <th>4</th>\n",
       "      <td>0.0</td>\n",
       "      <td>0.0</td>\n",
       "      <td>1.0</td>\n",
       "      <td>0.0</td>\n",
       "      <td>0.0</td>\n",
       "      <td>0.0</td>\n",
       "      <td>0.0</td>\n",
       "      <td>0.0</td>\n",
       "      <td>0.0</td>\n",
       "      <td>0.0</td>\n",
       "      <td>...</td>\n",
       "      <td>1.0</td>\n",
       "      <td>0.0</td>\n",
       "      <td>0.0</td>\n",
       "      <td>0.0</td>\n",
       "      <td>0.0</td>\n",
       "      <td>0.0</td>\n",
       "      <td>0.0</td>\n",
       "      <td>0.0</td>\n",
       "      <td>-0.249806</td>\n",
       "      <td>-0.350780</td>\n",
       "    </tr>\n",
       "  </tbody>\n",
       "</table>\n",
       "<p>5 rows × 67 columns</p>\n",
       "</div>"
      ],
      "text/plain": [
       "   offer_a  offer_b  offer_c  offer_d  offer_e  offer_f  offer_g  offer_h  \\\n",
       "0      0.0      0.0      1.0      0.0      0.0      0.0      0.0      0.0   \n",
       "1      0.0      0.0      0.0      0.0      0.0      1.0      0.0      0.0   \n",
       "2      1.0      0.0      0.0      0.0      0.0      0.0      0.0      0.0   \n",
       "3      0.0      0.0      0.0      0.0      0.0      0.0      0.0      0.0   \n",
       "4      0.0      0.0      1.0      0.0      0.0      0.0      0.0      0.0   \n",
       "\n",
       "   offer_i  offer_j  ...  binned_age_30  binned_age_40  binned_age_50  \\\n",
       "0      0.0      0.0  ...            0.0            0.0            0.0   \n",
       "1      0.0      0.0  ...            0.0            1.0            0.0   \n",
       "2      0.0      0.0  ...            0.0            1.0            0.0   \n",
       "3      0.0      1.0  ...            0.0            0.0            1.0   \n",
       "4      0.0      0.0  ...            1.0            0.0            0.0   \n",
       "\n",
       "   binned_age_60  binned_age_70  binned_age_80  binned_age_90  binned_age_100  \\\n",
       "0            1.0            0.0            0.0            0.0             0.0   \n",
       "1            0.0            0.0            0.0            0.0             0.0   \n",
       "2            0.0            0.0            0.0            0.0             0.0   \n",
       "3            0.0            0.0            0.0            0.0             0.0   \n",
       "4            0.0            0.0            0.0            0.0             0.0   \n",
       "\n",
       "   Tpay_out  Npay_out  \n",
       "0 -0.249806 -0.350780  \n",
       "1  0.068193 -0.043980  \n",
       "2  1.083388  1.183218  \n",
       "3 -0.249806 -0.350780  \n",
       "4 -0.249806 -0.350780  \n",
       "\n",
       "[5 rows x 67 columns]"
      ]
     },
     "execution_count": 187,
     "metadata": {},
     "output_type": "execute_result"
    }
   ],
   "source": [
    "XT_train.head()"
   ]
  },
  {
   "cell_type": "code",
   "execution_count": 188,
   "metadata": {},
   "outputs": [
    {
     "name": "stdout",
     "output_type": "stream",
     "text": [
      "columns with nan:\n",
      "[]\n"
     ]
    }
   ],
   "source": [
    "print(\"columns with nan:\")\n",
    "fna=list(XT_train.columns[XT_train.isna().any()])\n",
    "print(fna)"
   ]
  },
  {
   "cell_type": "code",
   "execution_count": 189,
   "metadata": {},
   "outputs": [],
   "source": [
    "clf=RandomForestClassifier( bootstrap=20, criterion=\"entropy\",class_weight=\"balanced\")"
   ]
  },
  {
   "cell_type": "code",
   "execution_count": 190,
   "metadata": {},
   "outputs": [
    {
     "name": "stderr",
     "output_type": "stream",
     "text": [
      "/usr/local/lib/python3.6/dist-packages/sklearn/ensemble/forest.py:245: FutureWarning: The default value of n_estimators will change from 10 in version 0.20 to 100 in 0.22.\n",
      "  \"10 in version 0.20 to 100 in 0.22.\", FutureWarning)\n"
     ]
    },
    {
     "data": {
      "text/plain": [
       "RandomForestClassifier(bootstrap=20, class_weight='balanced',\n",
       "                       criterion='entropy', max_depth=None, max_features='auto',\n",
       "                       max_leaf_nodes=None, min_impurity_decrease=0.0,\n",
       "                       min_impurity_split=None, min_samples_leaf=1,\n",
       "                       min_samples_split=2, min_weight_fraction_leaf=0.0,\n",
       "                       n_estimators=10, n_jobs=None, oob_score=False,\n",
       "                       random_state=None, verbose=0, warm_start=False)"
      ]
     },
     "execution_count": 190,
     "metadata": {},
     "output_type": "execute_result"
    }
   ],
   "source": [
    "clf.fit(XT_train, y_train)"
   ]
  },
  {
   "cell_type": "code",
   "execution_count": 191,
   "metadata": {},
   "outputs": [
    {
     "data": {
      "text/plain": [
       "0.7500436986540815"
      ]
     },
     "execution_count": 191,
     "metadata": {},
     "output_type": "execute_result"
    }
   ],
   "source": [
    "clf.score(XT_test, y_test)"
   ]
  },
  {
   "cell_type": "markdown",
   "metadata": {},
   "source": [
    "# Completed not viewed"
   ]
  },
  {
   "cell_type": "code",
   "execution_count": 15,
   "metadata": {},
   "outputs": [],
   "source": [
    "outd=out.copy()\n",
    "outd=outd.drop(columns=c_num_leak_offer+c_num_offers+c_num_person_ignore+[ 'offer_viewed', 'offer_completed', 'offer_end'])\n",
    "outd=outd.drop(columns=['viewed', 'rewarded', 'received', 'comp_not_viewed', 'completed','overlaps'])\n",
    "outd=outd.drop(columns=['person','email'])\n",
    "outd=outd.drop(columns=['age','income'])\n",
    "\n",
    "Y=out['comp_not_viewed']"
   ]
  },
  {
   "cell_type": "code",
   "execution_count": 16,
   "metadata": {},
   "outputs": [],
   "source": [
    "X_train, X_test, y_train, y_test = train_test_split( outd, Y, test_size=0.3, random_state=0)"
   ]
  },
  {
   "cell_type": "code",
   "execution_count": 17,
   "metadata": {},
   "outputs": [],
   "source": [
    "numeric_features = ['Tpay_out', 'Npay_out']\n",
    "binary_features=[       'web', 'mobile', 'social','group118']\n",
    "\n",
    "categorical_features = ['offer', 'offer_received', 'gender', 'difficulty', 'duration', 'offer_type',\n",
    "       'offer_reward', 'gender' , 'binned_income', 'binned_age']\n",
    "    "
   ]
  },
  {
   "cell_type": "code",
   "execution_count": 18,
   "metadata": {},
   "outputs": [],
   "source": [
    "ohe,ssc=fit_col_transformer(X_train,categorical_features,numeric_features)\n",
    "XT_train=apply_transformer(ohe,ssc,X_train,categorical_features,numeric_features,binary_features)\n",
    "XT_test=apply_transformer(ohe,ssc,X_test,categorical_features,numeric_features,binary_features)"
   ]
  },
  {
   "cell_type": "code",
   "execution_count": 19,
   "metadata": {},
   "outputs": [],
   "source": [
    "clf=RandomForestClassifier( bootstrap=20, criterion=\"entropy\",class_weight=\"balanced\")"
   ]
  },
  {
   "cell_type": "code",
   "execution_count": 20,
   "metadata": {},
   "outputs": [
    {
     "name": "stderr",
     "output_type": "stream",
     "text": [
      "/usr/local/lib/python3.6/dist-packages/sklearn/ensemble/forest.py:245: FutureWarning: The default value of n_estimators will change from 10 in version 0.20 to 100 in 0.22.\n",
      "  \"10 in version 0.20 to 100 in 0.22.\", FutureWarning)\n"
     ]
    },
    {
     "data": {
      "text/plain": [
       "RandomForestClassifier(bootstrap=20, class_weight='balanced',\n",
       "                       criterion='entropy', max_depth=None, max_features='auto',\n",
       "                       max_leaf_nodes=None, min_impurity_decrease=0.0,\n",
       "                       min_impurity_split=None, min_samples_leaf=1,\n",
       "                       min_samples_split=2, min_weight_fraction_leaf=0.0,\n",
       "                       n_estimators=10, n_jobs=None, oob_score=False,\n",
       "                       random_state=None, verbose=0, warm_start=False)"
      ]
     },
     "execution_count": 20,
     "metadata": {},
     "output_type": "execute_result"
    }
   ],
   "source": [
    "clf.fit(XT_train, y_train)"
   ]
  },
  {
   "cell_type": "code",
   "execution_count": 21,
   "metadata": {},
   "outputs": [
    {
     "name": "stdout",
     "output_type": "stream",
     "text": [
      "model score: 0.842\n"
     ]
    }
   ],
   "source": [
    "y_pred=clf.predict(XT_test)\n",
    "y_prob=clf.predict_proba(XT_test)[:, 1]\n",
    "\n",
    "print(\"model score: %.3f\" % clf.score(XT_test, y_test))"
   ]
  },
  {
   "cell_type": "code",
   "execution_count": 22,
   "metadata": {},
   "outputs": [
    {
     "data": {
      "image/png": "[encoded data removed]",
      "text/plain": [
       "<Figure size 432x288 with 1 Axes>"
      ]
     },
     "metadata": {
      "needs_background": "light"
     },
     "output_type": "display_data"
    }
   ],
   "source": [
    "plot_roc(y_prob,y_test,'RF unopt',  first_plot=True)"
   ]
  },
  {
   "cell_type": "code",
   "execution_count": 30,
   "metadata": {},
   "outputs": [
    {
     "data": {
      "text/plain": [
       "(53393, 62)"
      ]
     },
     "execution_count": 30,
     "metadata": {},
     "output_type": "execute_result"
    }
   ],
   "source": [
    "XT_train.shape"
   ]
  },
  {
   "cell_type": "code",
   "execution_count": 30,
   "metadata": {},
   "outputs": [
    {
     "data": {
      "text/plain": [
       "RandomizedSearchCV(cv=5, error_score='raise-deprecating',\n",
       "                   estimator=RandomForestClassifier(bootstrap=20,\n",
       "                                                    class_weight='balanced',\n",
       "                                                    criterion='entropy',\n",
       "                                                    max_depth=None,\n",
       "                                                    max_features='auto',\n",
       "                                                    max_leaf_nodes=None,\n",
       "                                                    min_impurity_decrease=0.0,\n",
       "                                                    min_impurity_split=None,\n",
       "                                                    min_samples_leaf=1,\n",
       "                                                    min_samples_split=2,\n",
       "                                                    min_weight_fraction_leaf=0.0,\n",
       "                                                    n_estimators='warn',\n",
       "                                                    n_jobs=None...\n",
       "                                        'max_features': <scipy.stats._distn_infrastructure.rv_frozen object at 0x7f8b7935fa58>,\n",
       "                                        'min_samples_split': <scipy.stats._distn_infrastructure.rv_frozen object at 0x7f8b7935fa90>,\n",
       "                                        'n_estimators': <scipy.stats._distn_infrastructure.rv_frozen object at 0x7f8b793ab320>},\n",
       "                   pre_dispatch='2*n_jobs', random_state=None, refit=True,\n",
       "                   return_train_score=False, scoring='roc_auc', verbose=0)"
      ]
     },
     "execution_count": 30,
     "metadata": {},
     "output_type": "execute_result"
    }
   ],
   "source": [
    "param_dist = {\n",
    "              \"n_estimators\": sp_randint(1, 40),\n",
    "              \"max_depth\": sp_randint(1, 20),\n",
    "              \"max_features\": sp_randint(1, 40),\n",
    "              \"min_samples_split\": sp_randint(2, 20),\n",
    "            }\n",
    "\n",
    "# run randomized search\n",
    "n_iter_search = 30\n",
    "clf = RandomForestClassifier( bootstrap=20, criterion=\"entropy\",class_weight=\"balanced\")\n",
    "# random_search = RandomizedSearchCV(clf,scoring='average_precision', param_distributions=param_dist,  cv=5, iid=False,  n_iter=n_iter_search)\n",
    "random_search = RandomizedSearchCV(clf,scoring='roc_auc', param_distributions=param_dist,  cv=5, iid=False,  n_iter=n_iter_search)\n",
    "# random_search = RandomizedSearchCV(clf,scoring=scoring_cm_manual, param_distributions=param_dist,  cv=5, iid=False, n_iter=n_iter_search )\n",
    "\n",
    "\n",
    "\n",
    "random_search.fit(XT_train, y_train)"
   ]
  },
  {
   "cell_type": "code",
   "execution_count": 31,
   "metadata": {},
   "outputs": [
    {
     "data": {
      "text/plain": [
       "array([0.85537972, 0.86234071, 0.8585667 , 0.85938427, 0.86171254,\n",
       "       0.78192971, 0.86237218, 0.86286214, 0.83122649, 0.8208762 ,\n",
       "       0.85496936, 0.8051249 , 0.84190334, 0.86373125, 0.86178698,\n",
       "       0.84080376, 0.85636111, 0.86143703, 0.84175632, 0.85904669,\n",
       "       0.85276493, 0.8404553 , 0.85592727, 0.85536611, 0.84303385,\n",
       "       0.83331453, 0.84239381, 0.8403768 , 0.85967896, 0.85417696])"
      ]
     },
     "metadata": {},
     "output_type": "display_data"
    }
   ],
   "source": [
    "sorted(random_search.cv_results_.keys())\n",
    "display(random_search.cv_results_['mean_test_score'])\n",
    "clf=random_search.best_estimator_"
   ]
  },
  {
   "cell_type": "code",
   "execution_count": 32,
   "metadata": {},
   "outputs": [],
   "source": [
    "y_pred_o=clf.predict(XT_test)\n",
    "y_prob_o=clf.predict_proba(XT_test)[:, 1]\n"
   ]
  },
  {
   "cell_type": "code",
   "execution_count": 33,
   "metadata": {},
   "outputs": [
    {
     "data": {
      "text/plain": [
       "<matplotlib.legend.Legend at 0x7f8b793052e8>"
      ]
     },
     "execution_count": 33,
     "metadata": {},
     "output_type": "execute_result"
    },
    {
     "data": {
      "image/png": "[encoded data removed]",
      "text/plain": [
       "<Figure size 432x288 with 1 Axes>"
      ]
     },
     "metadata": {
      "needs_background": "light"
     },
     "output_type": "display_data"
    }
   ],
   "source": [
    "plot_roc(y_prob,y_test,'RF unopt',  first_plot=True)\n",
    "plot_roc(y_prob_o,y_test,'RF opt',  first_plot=False)\n",
    "plt.legend(loc=4)"
   ]
  },
  {
   "cell_type": "code",
   "execution_count": null,
   "metadata": {},
   "outputs": [],
   "source": []
  },
  {
   "cell_type": "code",
   "execution_count": null,
   "metadata": {},
   "outputs": [],
   "source": []
  },
  {
   "cell_type": "code",
   "execution_count": 205,
   "metadata": {},
   "outputs": [
    {
     "data": {
      "text/plain": [
       "array([[18525,  2636],\n",
       "       [  936,   787]])"
      ]
     },
     "metadata": {},
     "output_type": "display_data"
    },
    {
     "data": {
      "text/plain": [
       "array([[21161,     0],\n",
       "       [ 1723,     0]])"
      ]
     },
     "metadata": {},
     "output_type": "display_data"
    }
   ],
   "source": [
    "display(confusion_matrix(y_test, clf.predict(XT_test)))\n",
    "display(confusion_matrix(y_test, 0*y_test))\n"
   ]
  },
  {
   "cell_type": "code",
   "execution_count": 206,
   "metadata": {},
   "outputs": [
    {
     "data": {
      "text/plain": [
       "False    21161\n",
       "True      1723\n",
       "Name: comp_not_viewed, dtype: int64"
      ]
     },
     "execution_count": 206,
     "metadata": {},
     "output_type": "execute_result"
    }
   ],
   "source": [
    "y_test.value_counts()"
   ]
  },
  {
   "cell_type": "code",
   "execution_count": null,
   "metadata": {},
   "outputs": [],
   "source": [
    "def plot_important_features():\n",
    "   feat=pd.DataFrame.from_dict(dict(zip(XT_train.columns,clf.feature_importances_) ), orient='index',columns=['importance'])\n",
    "    feat=feat.sort_values(by=['importance'],ascending=False)\n",
    "\n",
    "    feat.plot(kind='bar',figsize=(12,4));\n",
    "    plt.title('important features for completed_not_viewed'); "
   ]
  },
  {
   "cell_type": "code",
   "execution_count": 34,
   "metadata": {},
   "outputs": [
    {
     "data": {
      "image/png": "[encoded data removed]",
      "text/plain": [
       "<Figure size 864x288 with 1 Axes>"
      ]
     },
     "metadata": {
      "needs_background": "light"
     },
     "output_type": "display_data"
    }
   ],
   "source": [
    "feat=pd.DataFrame.from_dict(dict(zip(XT_train.columns,clf.feature_importances_) ), orient='index',columns=['importance'])\n",
    "feat=feat.sort_values(by=['importance'],ascending=False)\n",
    "\n",
    "feat.plot(kind='bar',figsize=(12,4));\n",
    "plt.title('important features for completed_not_viewed');\n"
   ]
  },
  {
   "cell_type": "code",
   "execution_count": null,
   "metadata": {},
   "outputs": [],
   "source": []
  },
  {
   "cell_type": "code",
   "execution_count": 70,
   "metadata": {},
   "outputs": [],
   "source": [
    "coi=out.loc[(out.viewed & out.completed)].pivot_table(index='person',columns='offer',values='completed',aggfunc='count',fill_value=0)\n",
    "coi['d']=0\n",
    "coi['f']=0\n",
    "\n",
    "\n",
    "coi_v=out.loc[(out.viewed) & (~out.completed)].pivot_table(index='person',columns='offer',values='completed',aggfunc='count',fill_value=0)\n",
    "# coi_v=out.loc[out.viewed].pivot_table(index='person',columns='offer',values='viewed',aggfunc='count')\n"
   ]
  },
  {
   "cell_type": "code",
   "execution_count": 78,
   "metadata": {},
   "outputs": [],
   "source": [
    "coi_t=coi  -coi_v\n",
    "coi_t=coi_t.fillna(0)\n",
    "\n",
    "from scipy.sparse import coo_matrix \n",
    "\n",
    "coi_t=coo_matrix(coi_t)"
   ]
  },
  {
   "cell_type": "code",
   "execution_count": 80,
   "metadata": {},
   "outputs": [],
   "source": [
    "# coi_t.head()"
   ]
  },
  {
   "cell_type": "code",
   "execution_count": 75,
   "metadata": {},
   "outputs": [],
   "source": [
    "from lightfm import LightFM\n",
    "from lightfm.data import Dataset"
   ]
  },
  {
   "cell_type": "code",
   "execution_count": 77,
   "metadata": {},
   "outputs": [
    {
     "ename": "ValueError",
     "evalue": "Expecting tuples of (user_id, item_id, weight) or (user_id, item_id). Got a",
     "output_type": "error",
     "traceback": [
      "\u001b[0;31m---------------------------------------------------------------------------\u001b[0m",
      "\u001b[0;31mValueError\u001b[0m                                Traceback (most recent call last)",
      "\u001b[0;32m<ipython-input-77-28d844841797>\u001b[0m in \u001b[0;36m<module>\u001b[0;34m\u001b[0m\n\u001b[1;32m      1\u001b[0m \u001b[0mds\u001b[0m\u001b[0;34m=\u001b[0m\u001b[0mDataset\u001b[0m\u001b[0;34m(\u001b[0m\u001b[0;34m)\u001b[0m\u001b[0;34m\u001b[0m\u001b[0;34m\u001b[0m\u001b[0m\n\u001b[0;32m----> 2\u001b[0;31m \u001b[0mds\u001b[0m\u001b[0;34m.\u001b[0m\u001b[0mbuild_interactions\u001b[0m\u001b[0;34m(\u001b[0m\u001b[0mcoi_t\u001b[0m\u001b[0;34m)\u001b[0m\u001b[0;34m\u001b[0m\u001b[0;34m\u001b[0m\u001b[0m\n\u001b[0m",
      "\u001b[0;32m/usr/local/lib/python3.6/dist-packages/lightfm/data.py\u001b[0m in \u001b[0;36mbuild_interactions\u001b[0;34m(self, data)\u001b[0m\n\u001b[1;32m    302\u001b[0m \u001b[0;34m\u001b[0m\u001b[0m\n\u001b[1;32m    303\u001b[0m         \u001b[0;32mfor\u001b[0m \u001b[0mdatum\u001b[0m \u001b[0;32min\u001b[0m \u001b[0mdata\u001b[0m\u001b[0;34m:\u001b[0m\u001b[0;34m\u001b[0m\u001b[0;34m\u001b[0m\u001b[0m\n\u001b[0;32m--> 304\u001b[0;31m             \u001b[0muser_idx\u001b[0m\u001b[0;34m,\u001b[0m \u001b[0mitem_idx\u001b[0m\u001b[0;34m,\u001b[0m \u001b[0mweight\u001b[0m \u001b[0;34m=\u001b[0m \u001b[0mself\u001b[0m\u001b[0;34m.\u001b[0m\u001b[0m_unpack_datum\u001b[0m\u001b[0;34m(\u001b[0m\u001b[0mdatum\u001b[0m\u001b[0;34m)\u001b[0m\u001b[0;34m\u001b[0m\u001b[0;34m\u001b[0m\u001b[0m\n\u001b[0m\u001b[1;32m    305\u001b[0m \u001b[0;34m\u001b[0m\u001b[0m\n\u001b[1;32m    306\u001b[0m             \u001b[0minteractions\u001b[0m\u001b[0;34m.\u001b[0m\u001b[0mappend\u001b[0m\u001b[0;34m(\u001b[0m\u001b[0muser_idx\u001b[0m\u001b[0;34m,\u001b[0m \u001b[0mitem_idx\u001b[0m\u001b[0;34m,\u001b[0m \u001b[0;36m1\u001b[0m\u001b[0;34m)\u001b[0m\u001b[0;34m\u001b[0m\u001b[0;34m\u001b[0m\u001b[0m\n",
      "\u001b[0;32m/usr/local/lib/python3.6/dist-packages/lightfm/data.py\u001b[0m in \u001b[0;36m_unpack_datum\u001b[0;34m(self, datum)\u001b[0m\n\u001b[1;32m    246\u001b[0m             raise ValueError(\n\u001b[1;32m    247\u001b[0m                 \u001b[0;34m\"Expecting tuples of (user_id, item_id, weight) \"\u001b[0m\u001b[0;34m\u001b[0m\u001b[0;34m\u001b[0m\u001b[0m\n\u001b[0;32m--> 248\u001b[0;31m                 \u001b[0;34m\"or (user_id, item_id). Got {}\"\u001b[0m\u001b[0;34m.\u001b[0m\u001b[0mformat\u001b[0m\u001b[0;34m(\u001b[0m\u001b[0mdatum\u001b[0m\u001b[0;34m)\u001b[0m\u001b[0;34m\u001b[0m\u001b[0;34m\u001b[0m\u001b[0m\n\u001b[0m\u001b[1;32m    249\u001b[0m             )\n\u001b[1;32m    250\u001b[0m \u001b[0;34m\u001b[0m\u001b[0m\n",
      "\u001b[0;31mValueError\u001b[0m: Expecting tuples of (user_id, item_id, weight) or (user_id, item_id). Got a"
     ]
    }
   ],
   "source": [
    "ds=Dataset()\n",
    "ds.build_interactions(coi_t)"
   ]
  },
  {
   "cell_type": "code",
   "execution_count": 81,
   "metadata": {},
   "outputs": [
    {
     "name": "stdout",
     "output_type": "stream",
     "text": [
      "CPU times: user 1.35 s, sys: 2.15 ms, total: 1.35 s\n",
      "Wall time: 716 ms\n"
     ]
    },
    {
     "data": {
      "text/plain": [
       "<lightfm.lightfm.LightFM at 0x7f7e602558d0>"
      ]
     },
     "execution_count": 81,
     "metadata": {},
     "output_type": "execute_result"
    }
   ],
   "source": [
    "model = LightFM(loss='logistic',no_components=20)\n",
    "%time model.fit(coi_t, epochs=30, num_threads=2)"
   ]
  },
  {
   "cell_type": "code",
   "execution_count": 84,
   "metadata": {},
   "outputs": [
    {
     "name": "stdout",
     "output_type": "stream",
     "text": [
      "Train precision: 0.34\n"
     ]
    }
   ],
   "source": [
    "from lightfm.evaluation import precision_at_k\n",
    "print(\"Train precision: %.2f\" % precision_at_k(model, coi_t, k=5).mean())"
   ]
  },
  {
   "cell_type": "code",
   "execution_count": null,
   "metadata": {},
   "outputs": [],
   "source": []
  }
 ],
 "metadata": {
  "kernelspec": {
   "display_name": "Python 3",
   "language": "python",
   "name": "python3"
  },
  "language_info": {
   "codemirror_mode": {
    "name": "ipython",
    "version": 3
   },
   "file_extension": ".py",
   "mimetype": "text/x-python",
   "name": "python",
   "nbconvert_exporter": "python",
   "pygments_lexer": "ipython3",
   "version": "3.6.8"
  }
 },
 "nbformat": 4,
 "nbformat_minor": 2
}
