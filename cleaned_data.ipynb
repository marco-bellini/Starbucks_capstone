{
 "cells": [
  {
   "cell_type": "code",
   "execution_count": 1,
   "metadata": {},
   "outputs": [
    {
     "name": "stdout",
     "output_type": "stream",
     "text": [
      "pandas:  0.24.2\n",
      "sklearn:  0.21.2\n",
      "statsmodels:  0.10.0\n",
      "scipy:  1.3.0\n"
     ]
    }
   ],
   "source": [
    "import pandas as pd\n",
    "import sklearn\n",
    "import statsmodels\n",
    "import scipy\n",
    "\n",
    "print('pandas: ',pd.__version__)\n",
    "print('sklearn: ',sklearn.__version__)\n",
    "print('statsmodels: ',statsmodels.__version__)\n",
    "print('scipy: ',scipy.__version__)\n"
   ]
  },
  {
   "cell_type": "code",
   "execution_count": 2,
   "metadata": {},
   "outputs": [],
   "source": [
    "from capstone_data_eng import *\n",
    "import seaborn as sns\n",
    "import statsmodels.api as sm\n",
    "from statsmodels.stats.proportion import proportion_confint\n",
    "from plotting_functions import *"
   ]
  },
  {
   "cell_type": "code",
   "execution_count": 3,
   "metadata": {},
   "outputs": [
    {
     "name": "stderr",
     "output_type": "stream",
     "text": [
      "/home/marco/UD/Starbucks_capstone/capstone_data_eng.py:741: FutureWarning: specifying 'categories' or 'ordered' in .astype() is deprecated; pass a CategoricalDtype instead\n",
      "  profile_all = load_profile(location=location)\n"
     ]
    },
    {
     "name": "stdout",
     "output_type": "stream",
     "text": [
      "offer received     76277\n",
      "offer viewed       57725\n",
      "offer completed    33579\n",
      "Name: event, dtype: int64\n",
      "er,ec,ev\n",
      "(76277, 3) (33579, 4) (57725, 3)\n",
      "er  (76277, 6)\n",
      "persons with no offers received in timeframe:  6\n",
      "transactions_during_offer.shape: (122652, 7)\n",
      "(76277, 27)\n",
      "add_stats_by_person:\n",
      "(76277, 38)\n",
      "(76277, 44)\n",
      "(76277, 50)\n",
      "(76277, 51)\n",
      "(76277, 60)\n"
     ]
    }
   ],
   "source": [
    "out, profile_all, portfolio, offers_all, transactions_all, transactions_during_offer, transactions_outside_offer = load_data_cv(\n",
    "        person_split=None, rename_offers=True, time_split_min=None, time_split_max=None,\n",
    "        add_transactions=False, skip_overlap=False, skip_add_purchases=False, calc_net_offer_time=True,\n",
    "        assign_to='ignore', location='local')"
   ]
  },
  {
   "cell_type": "code",
   "execution_count": 4,
   "metadata": {},
   "outputs": [],
   "source": [
    "out['group118']=out['age']>110\n",
    "out['binned_income'] = pd.cut(out['income'],bins= np.arange(0,14)*1e4,labels=np.arange(0,13)*10)\n",
    "out['binned_age'] = pd.cut(out['age'],bins= np.arange(0,120,10) ,labels=np.arange(0,120,10)[:-1])\n"
   ]
  },
  {
   "cell_type": "code",
   "execution_count": 6,
   "metadata": {},
   "outputs": [
    {
     "data": {
      "text/plain": [
       "65404.9915682968"
      ]
     },
     "execution_count": 6,
     "metadata": {},
     "output_type": "execute_result"
    }
   ],
   "source": [
    "profile_all.income.mean()"
   ]
  },
  {
   "cell_type": "code",
   "execution_count": 8,
   "metadata": {},
   "outputs": [
    {
     "data": {
      "text/plain": [
       "54.39352445193929"
      ]
     },
     "execution_count": 8,
     "metadata": {},
     "output_type": "execute_result"
    }
   ],
   "source": [
    "profile_all.loc[profile_all.age<110,'age'].mean()"
   ]
  },
  {
   "cell_type": "code",
   "execution_count": 9,
   "metadata": {},
   "outputs": [],
   "source": [
    "out.income=out.income.fillna(65400)\n",
    "out.age=out.age.fillna(54)\n",
    "out.gender=out.gender.fillna('M')\n",
    "\n"
   ]
  },
  {
   "cell_type": "code",
   "execution_count": null,
   "metadata": {},
   "outputs": [],
   "source": []
  }
 ],
 "metadata": {
  "kernelspec": {
   "display_name": "Python 3",
   "language": "python",
   "name": "python3"
  },
  "language_info": {
   "codemirror_mode": {
    "name": "ipython",
    "version": 3
   },
   "file_extension": ".py",
   "mimetype": "text/x-python",
   "name": "python",
   "nbconvert_exporter": "python",
   "pygments_lexer": "ipython3",
   "version": "3.6.8"
  }
 },
 "nbformat": 4,
 "nbformat_minor": 2
}
