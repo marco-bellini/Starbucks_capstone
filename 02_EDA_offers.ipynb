{
  "nbformat": 4,
  "nbformat_minor": 0,
  "metadata": {
    "colab": {
      "name": "01_test.ipynb",
      "version": "0.3.2",
      "provenance": [],
      "collapsed_sections": [],
      "include_colab_link": true
    },
    "kernelspec": {
      "name": "python3",
      "display_name": "Python 3"
    }
  },
  "cells": [
    {
      "cell_type": "markdown",
      "metadata": {
        "id": "view-in-github",
        "colab_type": "text"
      },
      "source": [
        "<a href=\"https://colab.research.google.com/github/marco-bellini/Starbucks_capstone/blob/master/02_EDA_offers.ipynb\" target=\"_parent\"><img src=\"https://colab.research.google.com/assets/colab-badge.svg\" alt=\"Open In Colab\"/></a>"
      ]
    },
    {
      "cell_type": "code",
      "metadata": {
        "id": "k6Ka0WEwhZYA",
        "colab_type": "code",
        "colab": {}
      },
      "source": [
        "from capstone_data_eng import *\n",
        "\n",
        "import seaborn as sns"
      ],
      "execution_count": 0,
      "outputs": []
    },
    {
      "cell_type": "code",
      "metadata": {
        "id": "4P4391ydl0lt",
        "colab_type": "code",
        "colab": {}
      },
      "source": [
        "from google.colab import drive\n",
        "drive.mount('/content/gdrive')"
      ],
      "execution_count": 0,
      "outputs": []
    },
    {
      "cell_type": "code",
      "metadata": {
        "id": "NBc8fosyhyCg",
        "colab_type": "code",
        "colab": {
          "base_uri": "https://localhost:8080/",
          "height": 323
        },
        "outputId": "911069f1-89a9-4fc8-84fc-683c7e82111a"
      },
      "source": [
        "out, profile_all, portfolio, offers_all, transactions_all, transactions_during_offer, transactions_outside_offer = load_data_cv(\n",
        "        person_split=None, rename_offers=True, time_split_min=None, time_split_max=None,\n",
        "        add_transactions=False, skip_overlap=False, skip_add_purchases=False, calc_net_offer_time=True,\n",
        "        assign_to='ignore', location='colab')"
      ],
      "execution_count": 5,
      "outputs": [
        {
          "output_type": "stream",
          "text": [
            "/content/capstone_data_eng.py:741: FutureWarning: specifying 'categories' or 'ordered' in .astype() is deprecated; pass a CategoricalDtype instead\n",
            "  profile_all = load_profile(location=location)\n"
          ],
          "name": "stderr"
        },
        {
          "output_type": "stream",
          "text": [
            "offer received     76277\n",
            "offer viewed       57725\n",
            "offer completed    33579\n",
            "Name: event, dtype: int64\n",
            "er,ec,ev\n",
            "(76277, 3) (33579, 4) (57725, 3)\n",
            "er  (76277, 6)\n",
            "persons with no offers received in timeframe:  6\n",
            "transactions_during_offer.shape: (122652, 7)\n",
            "(76277, 27)\n",
            "add_stats_by_person:\n",
            "(76277, 38)\n",
            "(76277, 44)\n",
            "(76277, 50)\n",
            "(76277, 51)\n",
            "(76277, 60)\n"
          ],
          "name": "stdout"
        }
      ]
    },
    {
      "cell_type": "code",
      "metadata": {
        "id": "l-Kc2ln7h08_",
        "colab_type": "code",
        "colab": {
          "base_uri": "https://localhost:8080/",
          "height": 272
        },
        "outputId": "d5e7745d-80dd-461c-91b2-b0127ff6b558"
      },
      "source": [
        "out.columns"
      ],
      "execution_count": 6,
      "outputs": [
        {
          "output_type": "execute_result",
          "data": {
            "text/plain": [
              "Index(['person', 'offer', 'offer_received', 'offer_viewed', 'offer_completed',\n",
              "       'reward', 'offer_end', 'difficulty', 'duration', 'offer_type', 'web',\n",
              "       'email', 'mobile', 'social', 'offer_reward', 'duration_hours',\n",
              "       'duration_viewed', 'duration_effective', 'viewed', 'rewarded',\n",
              "       'received', 'comp_not_viewed', 'completed', 'Tpay_offer', 'Npay_offer',\n",
              "       'Maxpay_offer', 'Minpay_offer', 'Netpay_offer', 'Avg_pay_offer', 'age',\n",
              "       'became_member_on', 'gender', 'income', 'joined_year', 'joined_month',\n",
              "       'joined_week', 'gender_num', 'user_time', 'Tpay_out', 'Npay_out',\n",
              "       'p_c_r_ratio', 'p_cnv_r_ratio', 'p_c_v_ratio', 'overlaps',\n",
              "       'Tpay_offers_tot', 'Npay_offers_tot', 'Maxpay_offers_tot',\n",
              "       'Minpay_offers_tot', 'Trewards_tot', 'Nrewards_tot',\n",
              "       'tot_gross_offer_time', 'tot_net_offers_time', 'tot_not_offers_time',\n",
              "       'Avg_pay_offers', 'Net_pay_offers', 'Avg_net_pay_offers',\n",
              "       'Avg_pay_outside', 'Avg_D_O', 'Avg_D_OS', 'Avg_D_nOS'],\n",
              "      dtype='object')"
            ]
          },
          "metadata": {
            "tags": []
          },
          "execution_count": 6
        }
      ]
    },
    {
      "cell_type": "code",
      "metadata": {
        "id": "EWi8_zUJif2J",
        "colab_type": "code",
        "colab": {}
      },
      "source": [
        "c_drop=['person','offer', 'became_member_on',]\n",
        "\n",
        "c_bin=['web', 'email', 'mobile', 'social','viewed', 'rewarded',\n",
        "       'received', 'comp_not_viewed', 'completed']\n",
        "\n",
        "c_num_time=['offer_received', 'offer_viewed', 'offer_completed', 'offer_end']\n",
        "c_num_offer=['reward','difficulty', 'duration', 'offer_reward', 'duration_hours',\n",
        "       'duration_viewed', 'duration_effective', 'overlaps',]\n",
        "c_num_offer_leak=['Tpay_offer', 'Npay_offer','Maxpay_offer', 'Minpay_offer', \n",
        "                  'Netpay_offer', 'Avg_pay_offer', 'income', 'joined_year', 'joined_month',\n",
        "       'joined_week', 'gender_num', 'user_time',  'p_c_r_ratio', 'p_cnv_r_ratio', 'p_c_v_ratio' ]\n",
        "c_num_offers_leak=['Tpay_offers_tot', 'Npay_offers_tot', 'Maxpay_offers_tot',\n",
        "       'Minpay_offers_tot', 'Trewards_tot', 'Nrewards_tot',\n",
        "       'tot_gross_offer_time', 'tot_net_offers_time', 'tot_not_offers_time',\n",
        "       'Avg_pay_offers', 'Net_pay_offers', 'Avg_net_pay_offers',\n",
        "       'Avg_pay_outside', 'Avg_D_O', 'Avg_D_OS', 'Avg_D_nOS']\n",
        "\n",
        "\n",
        "c_cat_offer=['offer_type', ]\n",
        "c_num_person=['age', 'Tpay_out', 'Npay_out', ]\n",
        "c_cat_person=['gender',]\n",
        "\n",
        "\n",
        "\n",
        "c_all=c_drop+c_bin+c_num_time+c_num_offer+c_num_offer_leak+c_num_offers_leak +\\\n",
        "  c_cat_offer+c_num_person+c_cat_person"
      ],
      "execution_count": 0,
      "outputs": []
    },
    {
      "cell_type": "code",
      "metadata": {
        "id": "zwrSCmGDjEGD",
        "colab_type": "code",
        "colab": {
          "base_uri": "https://localhost:8080/",
          "height": 51
        },
        "outputId": "807f38b0-25a5-4888-ac3f-b30f54852146"
      },
      "source": [
        "print('missing columns from out / c_all')\n",
        "print( set(out.columns ) ^ set(c_all) )"
      ],
      "execution_count": 11,
      "outputs": [
        {
          "output_type": "stream",
          "text": [
            "missing columns from out / c_all\n",
            "set()\n"
          ],
          "name": "stdout"
        }
      ]
    },
    {
      "cell_type": "code",
      "metadata": {
        "id": "tyjfjCoEkiWR",
        "colab_type": "code",
        "colab": {}
      },
      "source": [
        "out.loc[out.gender.isna(),'gender']='M'\n",
        "out.loc[out.income.isna(),'income']=out.income.median()\n",
        "out[['offer_viewed', 'offer_completed']]=out[['offer_viewed', 'offer_completed']].fillna(-1)"
      ],
      "execution_count": 0,
      "outputs": []
    },
    {
      "cell_type": "code",
      "metadata": {
        "id": "S3nejZ28kNJa",
        "colab_type": "code",
        "colab": {
          "base_uri": "https://localhost:8080/",
          "height": 34
        },
        "outputId": "be6761c2-5f4e-4191-feb7-5ce034cbe228"
      },
      "source": [
        "print(\"columns with nans\", list( out.columns[out.isna().any()] ))"
      ],
      "execution_count": 19,
      "outputs": [
        {
          "output_type": "stream",
          "text": [
            "columns with nans []\n"
          ],
          "name": "stdout"
        }
      ]
    },
    {
      "cell_type": "code",
      "metadata": {
        "id": "ecEWfpWRkTnB",
        "colab_type": "code",
        "colab": {
          "base_uri": "https://localhost:8080/",
          "height": 296
        },
        "outputId": "b5b66172-bdc5-4a2c-bb69-7518cd57ae7f"
      },
      "source": [
        "o_cmp_ratio=out.groupby(by='offer')['completed'].value_counts(normalize=True)\n",
        "o_cmp=o_cmp_ratio.loc[o_cmp_ratio.index.get_level_values('completed')==True,:]\n",
        "o_cmp=100.*o_cmp.droplevel(level='completed')\n",
        "o_cmp.plot(kind='bar')\n",
        "plt.ylabel('percentage of completed offers')\n"
      ],
      "execution_count": 57,
      "outputs": [
        {
          "output_type": "execute_result",
          "data": {
            "text/plain": [
              "Text(0, 0.5, 'percentage of completed offers')"
            ]
          },
          "metadata": {
            "tags": []
          },
          "execution_count": 57
        },
        {
          "output_type": "display_data",
          "data": {
            "image/png": "[encoded data removed]",
            "text/plain": [
              "<Figure size 432x288 with 1 Axes>"
            ]
          },
          "metadata": {
            "tags": []
          }
        }
      ]
    },
    {
      "cell_type": "code",
      "metadata": {
        "id": "vcvgBO2Alh0t",
        "colab_type": "code",
        "colab": {
          "base_uri": "https://localhost:8080/",
          "height": 333
        },
        "outputId": "623f67fb-84dc-4f30-b799-a0b1dd7b805e"
      },
      "source": [
        "o_cmp_ratio=out.groupby(by='offer_type')['completed'].value_counts(normalize=True)\n",
        "o_cmp=o_cmp_ratio.loc[o_cmp_ratio.index.get_level_values('completed')==True,:]\n",
        "o_cmp=100.*o_cmp.droplevel(level='completed')\n",
        "o_cmp.plot(kind='bar')\n",
        "plt.ylabel('percentage of completed offers')"
      ],
      "execution_count": 59,
      "outputs": [
        {
          "output_type": "execute_result",
          "data": {
            "text/plain": [
              "Text(0, 0.5, 'percentage of completed offers')"
            ]
          },
          "metadata": {
            "tags": []
          },
          "execution_count": 59
        },
        {
          "output_type": "display_data",
          "data": {
            "image/png": "[encoded data removed]",
            "text/plain": [
              "<Figure size 432x288 with 1 Axes>"
            ]
          },
          "metadata": {
            "tags": []
          }
        }
      ]
    },
    {
      "cell_type": "code",
      "metadata": {
        "id": "ej0waQfwl_Aj",
        "colab_type": "code",
        "colab": {
          "base_uri": "https://localhost:8080/",
          "height": 303
        },
        "outputId": "790af4b0-2279-4c7a-f80a-b1bca38c55ef"
      },
      "source": [
        "o_cmp_ratio=out.groupby(by='duration')['completed'].value_counts(normalize=True)\n",
        "o_cmp=o_cmp_ratio.loc[o_cmp_ratio.index.get_level_values('completed')==True,:]\n",
        "o_cmp=100.*o_cmp.droplevel(level='completed')\n",
        "o_cmp.plot(kind='bar')\n",
        "plt.ylabel('percentage of completed offers')"
      ],
      "execution_count": 62,
      "outputs": [
        {
          "output_type": "execute_result",
          "data": {
            "text/plain": [
              "Text(0, 0.5, 'percentage of completed offers')"
            ]
          },
          "metadata": {
            "tags": []
          },
          "execution_count": 62
        },
        {
          "output_type": "display_data",
          "data": {
            "image/png": "[encoded data removed]",
            "text/plain": [
              "<Figure size 432x288 with 1 Axes>"
            ]
          },
          "metadata": {
            "tags": []
          }
        }
      ]
    },
    {
      "cell_type": "code",
      "metadata": {
        "id": "dXGDmwuImJoR",
        "colab_type": "code",
        "colab": {
          "base_uri": "https://localhost:8080/",
          "height": 302
        },
        "outputId": "e0826b72-31cc-4efd-a1a7-e058d3ce1bf2"
      },
      "source": [
        "o_cmp_ratio=out.groupby(by='difficulty')['completed'].value_counts(normalize=True)\n",
        "o_cmp=o_cmp_ratio.loc[o_cmp_ratio.index.get_level_values('completed')==True,:]\n",
        "o_cmp=100.*o_cmp.droplevel(level='completed')\n",
        "o_cmp.plot(kind='bar')\n",
        "plt.ylabel('percentage of completed offers')"
      ],
      "execution_count": 63,
      "outputs": [
        {
          "output_type": "execute_result",
          "data": {
            "text/plain": [
              "Text(0, 0.5, 'percentage of completed offers')"
            ]
          },
          "metadata": {
            "tags": []
          },
          "execution_count": 63
        },
        {
          "output_type": "display_data",
          "data": {
            "image/png": "[encoded data removed]",
            "text/plain": [
              "<Figure size 432x288 with 1 Axes>"
            ]
          },
          "metadata": {
            "tags": []
          }
        }
      ]
    },
    {
      "cell_type": "code",
      "metadata": {
        "id": "f8U11xbEoUd0",
        "colab_type": "code",
        "colab": {
          "base_uri": "https://localhost:8080/",
          "height": 303
        },
        "outputId": "ee17568c-548d-4c84-cd23-5619b312cf24"
      },
      "source": [
        "o_cmp_ratio=out.groupby(by='offer_reward')['completed'].value_counts(normalize=True)\n",
        "o_cmp=o_cmp_ratio.loc[o_cmp_ratio.index.get_level_values('completed')==True,:]\n",
        "o_cmp=100.*o_cmp.droplevel(level='completed')\n",
        "o_cmp.plot(kind='bar')\n",
        "plt.ylabel('percentage of completed offers')"
      ],
      "execution_count": 69,
      "outputs": [
        {
          "output_type": "execute_result",
          "data": {
            "text/plain": [
              "Text(0, 0.5, 'percentage of completed offers')"
            ]
          },
          "metadata": {
            "tags": []
          },
          "execution_count": 69
        },
        {
          "output_type": "display_data",
          "data": {
            "image/png": "[encoded data removed]",
            "text/plain": [
              "<Figure size 432x288 with 1 Axes>"
            ]
          },
          "metadata": {
            "tags": []
          }
        }
      ]
    },
    {
      "cell_type": "code",
      "metadata": {
        "id": "8dCf0p9YoW00",
        "colab_type": "code",
        "colab": {
          "base_uri": "https://localhost:8080/",
          "height": 330
        },
        "outputId": "3a7eab93-9fe8-464d-9360-68b9db20a225"
      },
      "source": [
        "o_cmp_ratio=out.groupby(by=['offer_reward','difficulty'])['completed'].value_counts(normalize=True)\n",
        "o_cmp=o_cmp_ratio.loc[o_cmp_ratio.index.get_level_values('completed')==True,:]\n",
        "o_cmp=100.*o_cmp.droplevel(level='completed')\n",
        "o_cmp.plot(kind='bar')\n",
        "plt.ylabel('percentage of completed offers')\n"
      ],
      "execution_count": 76,
      "outputs": [
        {
          "output_type": "execute_result",
          "data": {
            "text/plain": [
              "Text(0, 0.5, 'percentage of completed offers')"
            ]
          },
          "metadata": {
            "tags": []
          },
          "execution_count": 76
        },
        {
          "output_type": "display_data",
          "data": {
            "image/png": "[encoded data removed]",
            "text/plain": [
              "<Figure size 432x288 with 1 Axes>"
            ]
          },
          "metadata": {
            "tags": []
          }
        }
      ]
    },
    {
      "cell_type": "code",
      "metadata": {
        "id": "AoqqTMhAogQk",
        "colab_type": "code",
        "colab": {
          "base_uri": "https://localhost:8080/",
          "height": 360
        },
        "outputId": "c49fec50-05e4-4101-dfbf-b645bdd4fc9f"
      },
      "source": [
        "o_cmp_ratio=out.groupby(by=['offer_type','duration'])['completed'].value_counts(normalize=True)\n",
        "o_cmp=o_cmp_ratio.loc[o_cmp_ratio.index.get_level_values('completed')==True,:]\n",
        "o_cmp=100.*o_cmp.droplevel(level='completed')\n",
        "o_cmp.plot(kind='bar')\n",
        "plt.ylabel('percentage of completed offers')"
      ],
      "execution_count": 74,
      "outputs": [
        {
          "output_type": "execute_result",
          "data": {
            "text/plain": [
              "Text(0, 0.5, 'percentage of completed offers')"
            ]
          },
          "metadata": {
            "tags": []
          },
          "execution_count": 74
        },
        {
          "output_type": "display_data",
          "data": {
            "image/png": "[encoded data removed]",
            "text/plain": [
              "<Figure size 432x288 with 1 Axes>"
            ]
          },
          "metadata": {
            "tags": []
          }
        }
      ]
    },
    {
      "cell_type": "code",
      "metadata": {
        "id": "K9E-ALVho9ID",
        "colab_type": "code",
        "colab": {
          "base_uri": "https://localhost:8080/",
          "height": 397
        },
        "outputId": "3c000a78-1cef-4ca7-a978-2d4e9557fe9c"
      },
      "source": [
        "o_cmp_ratio=out.groupby(by=['web','mobile','social'])['completed'].value_counts(normalize=True)\n",
        "o_cmp=o_cmp_ratio.loc[o_cmp_ratio.index.get_level_values('completed')==True,:]\n",
        "o_cmp=100.*o_cmp.droplevel(level='completed')\n",
        "o_cmp.plot(kind='bar')\n",
        "plt.ylabel('percentage of completed offers')\n",
        "\n",
        "plt.title('social channel has significant impact')"
      ],
      "execution_count": 78,
      "outputs": [
        {
          "output_type": "execute_result",
          "data": {
            "text/plain": [
              "Text(0.5, 1.0, 'social channel has significant impact')"
            ]
          },
          "metadata": {
            "tags": []
          },
          "execution_count": 78
        },
        {
          "output_type": "display_data",
          "data": {
            "image/png": "[encoded data removed]",
            "text/plain": [
              "<Figure size 432x288 with 1 Axes>"
            ]
          },
          "metadata": {
            "tags": []
          }
        }
      ]
    },
    {
      "cell_type": "code",
      "metadata": {
        "id": "Z7x4tI6IqASQ",
        "colab_type": "code",
        "colab": {
          "base_uri": "https://localhost:8080/",
          "height": 371
        },
        "outputId": "d1b99f2c-4c42-494e-e23b-ab4fb6e4422c"
      },
      "source": [
        "o_cmp_ratio=out.groupby(by=['offer_reward','difficulty','social'])['completed'].value_counts(normalize=True)\n",
        "o_cmp=o_cmp_ratio.loc[o_cmp_ratio.index.get_level_values('completed')==True,:]\n",
        "o_cmp=100.*o_cmp.droplevel(level='completed')\n",
        "o_cmp.plot(kind='bar')\n",
        "plt.ylabel('percentage of completed offers')\n",
        "\n",
        "plt.title('social channel has significant impact')"
      ],
      "execution_count": 79,
      "outputs": [
        {
          "output_type": "execute_result",
          "data": {
            "text/plain": [
              "Text(0.5, 1.0, 'social channel has significant impact')"
            ]
          },
          "metadata": {
            "tags": []
          },
          "execution_count": 79
        },
        {
          "output_type": "display_data",
          "data": {
            "image/png": "[encoded data removed]",
            "text/plain": [
              "<Figure size 432x288 with 1 Axes>"
            ]
          },
          "metadata": {
            "tags": []
          }
        }
      ]
    },
    {
      "cell_type": "code",
      "metadata": {
        "id": "7jOORfqlqRHz",
        "colab_type": "code",
        "colab": {
          "base_uri": "https://localhost:8080/",
          "height": 392
        },
        "outputId": "2bf84c29-41a5-4300-8291-d19d7429a0cc"
      },
      "source": [
        "o_cmp_ratio=out.groupby(by=['offer_type','duration','social'])['completed'].value_counts(normalize=True)\n",
        "o_cmp=o_cmp_ratio.loc[o_cmp_ratio.index.get_level_values('completed')==True,:]\n",
        "o_cmp=100.*o_cmp.droplevel(level='completed')\n",
        "o_cmp.plot(kind='bar')\n",
        "plt.ylabel('percentage of completed offers')"
      ],
      "execution_count": 80,
      "outputs": [
        {
          "output_type": "execute_result",
          "data": {
            "text/plain": [
              "Text(0, 0.5, 'percentage of completed offers')"
            ]
          },
          "metadata": {
            "tags": []
          },
          "execution_count": 80
        },
        {
          "output_type": "display_data",
          "data": {
            "image/png": "[encoded data removed]",
            "text/plain": [
              "<Figure size 432x288 with 1 Axes>"
            ]
          },
          "metadata": {
            "tags": []
          }
        }
      ]
    },
    {
      "cell_type": "code",
      "metadata": {
        "id": "yDxL2AL0qZWh",
        "colab_type": "code",
        "colab": {}
      },
      "source": [
        ""
      ],
      "execution_count": 0,
      "outputs": []
    }
  ]
}